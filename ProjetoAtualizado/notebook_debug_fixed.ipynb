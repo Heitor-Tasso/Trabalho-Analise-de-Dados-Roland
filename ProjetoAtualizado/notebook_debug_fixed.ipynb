{
 "cells": [
  {
   "cell_type": "markdown",
   "metadata": {},
   "source": [
    "# Debug Questionário Socioeconômico FATEC\n",
    "\n",
    "Este notebook foi criado para facilitar o debug dos problemas na leitura dos dados, especialmente no gráfico de top 15 cidades. Vamos explorar os dados passo a passo para identificar onde está o problema."
   ]
  },
  {
   "cell_type": "markdown",
   "metadata": {},
   "source": [
    "## 1. Importação de bibliotecas"
   ]
  },
  {
   "cell_type": "code",
   "execution_count": 13,
   "metadata": {},
   "outputs": [],
   "source": [
    "import pandas as pd\n",
    "import numpy as np\n",
    "import matplotlib.pyplot as plt\n",
    "import seaborn as sns\n",
    "import plotly.express as px\n",
    "import plotly.graph_objects as go\n",
    "import json\n",
    "import os\n",
    "from collections import Counter\n",
    "from IPython.display import display\n",
    "\n",
    "# Configuração para exibir mais colunas e linhas\n",
    "pd.set_option('display.max_columns', None)\n",
    "pd.set_option('display.max_rows', 50)\n",
    "pd.set_option('display.width', 1000)"
   ]
  },
  {
   "cell_type": "markdown",
   "metadata": {},
   "source": [
    "## 2. Leitura direta do arquivo Excel original\n",
    "\n",
    "Primeiro, vamos ler o arquivo Excel diretamente para ver como os dados estão organizados originalmente."
   ]
  },
  {
   "cell_type": "code",
   "execution_count": 14,
   "metadata": {},
   "outputs": [
    {
     "name": "stdout",
     "output_type": "stream",
     "text": [
      "root_path -=>  c:\\Users\\Heitor\\Downloads\\FATEC\\Trabalho-Analise-de-Dados-Roland\\\n",
      "excel_file -=>  c:\\Users\\Heitor\\Downloads\\FATEC\\Trabalho-Analise-de-Dados-Roland\\arquivos_de_trabalho\\Questionario-Socioeconomico-Fatec25-OFICIAL-1a32.xlsx\n",
      "Dimensões do DataFrame: (32, 324)\n"
     ]
    },
    {
     "data": {
      "text/html": [
       "<div>\n",
       "<style scoped>\n",
       "    .dataframe tbody tr th:only-of-type {\n",
       "        vertical-align: middle;\n",
       "    }\n",
       "\n",
       "    .dataframe tbody tr th {\n",
       "        vertical-align: top;\n",
       "    }\n",
       "\n",
       "    .dataframe thead th {\n",
       "        text-align: right;\n",
       "    }\n",
       "</style>\n",
       "<table border=\"1\" class=\"dataframe\">\n",
       "  <thead>\n",
       "    <tr style=\"text-align: right;\">\n",
       "      <th></th>\n",
       "      <th>ID</th>\n",
       "      <th>Hora de início</th>\n",
       "      <th>Hora de conclusão</th>\n",
       "      <th>Email</th>\n",
       "      <th>Nome</th>\n",
       "      <th>Total de pontos</th>\n",
       "      <th>Comentários do teste</th>\n",
       "      <th>Hora da última modificação</th>\n",
       "      <th>Qual o seu curso?</th>\n",
       "      <th>Pontos – Qual o seu curso?</th>\n",
       "      <th>Comentários – Qual o seu curso?</th>\n",
       "      <th>Qual o período que cursa?*</th>\n",
       "      <th>Pontos – Qual o período que cursa?*</th>\n",
       "      <th>Comentários – Qual o período que cursa?*</th>\n",
       "      <th>Informe o número do seu RA:</th>\n",
       "      <th>Pontos – Informe o número do seu RA:</th>\n",
       "      <th>Comentários – Informe o número do seu RA:</th>\n",
       "      <th>Qual o estado você nasceu?*</th>\n",
       "      <th>Pontos – Qual o estado você nasceu?*</th>\n",
       "      <th>Comentários – Qual o estado você nasceu?*</th>\n",
       "      <th>Em qual cidade você reside?</th>\n",
       "      <th>Pontos – Em qual cidade você reside?</th>\n",
       "      <th>Comentários – Em qual cidade você reside?</th>\n",
       "      <th>Qual é o seu gênero?</th>\n",
       "      <th>Pontos – Qual é o seu gênero?</th>\n",
       "      <th>Comentários – Qual é o seu gênero?</th>\n",
       "      <th>Qual a sua data de nascimento?</th>\n",
       "      <th>Pontos – Qual a sua data de nascimento?</th>\n",
       "      <th>Comentários – Qual a sua data de nascimento?</th>\n",
       "      <th>Qual é o seu estado civil?</th>\n",
       "      <th>Pontos – Qual é o seu estado civil?</th>\n",
       "      <th>Comentários – Qual é o seu estado civil?</th>\n",
       "      <th>Você possui alguma necessidade especial? (Caso tenha mais de uma, pode selecionar todas as opções que se aplicam)</th>\n",
       "      <th>Comentários – Você possui alguma necessidade especial? (Caso tenha mais de uma, pode selecionar todas as opções que se aplicam)</th>\n",
       "      <th>Pontos – Você possui alguma necessidade especial? (Caso tenha mais de uma, pode selecionar todas as opções que se aplicam)</th>\n",
       "      <th>Quantos filhos você tem?</th>\n",
       "      <th>Comentários – Quantos filhos você tem?</th>\n",
       "      <th>Pontos – Quantos filhos você tem?</th>\n",
       "      <th>Com quem você mora atualmente?</th>\n",
       "      <th>Comentários – Com quem você mora atualmente?</th>\n",
       "      <th>Pontos – Com quem você mora atualmente?</th>\n",
       "      <th>Quantas pessoas, incluindo você, moram no seu domicílio?</th>\n",
       "      <th>Comentários – Quantas pessoas, incluindo você, moram no seu domicílio?</th>\n",
       "      <th>Pontos – Quantas pessoas, incluindo você, moram no seu domicílio?</th>\n",
       "      <th>Qual é a situação do domicílio em que você reside?</th>\n",
       "      <th>Comentários – Qual é a situação do domicílio em que você reside?</th>\n",
       "      <th>Pontos – Qual é a situação do domicílio em que você reside?</th>\n",
       "      <th>Há quanto tempo você mora neste domicílio?</th>\n",
       "      <th>Comentários – Há quanto tempo você mora neste domicílio?</th>\n",
       "      <th>Pontos – Há quanto tempo você mora neste domicílio?</th>\n",
       "      <th>Qual é a faixa de renda mensal da sua família?</th>\n",
       "      <th>Comentários – Qual é a faixa de renda mensal da sua família?</th>\n",
       "      <th>Pontos – Qual é a faixa de renda mensal da sua família?</th>\n",
       "      <th>Comentários – Quantos de cada um dos itens abaixo há em seu domicílio?</th>\n",
       "      <th>Pontos – Quantos de cada um dos itens abaixo há em seu domicílio?</th>\n",
       "      <th>Televisor</th>\n",
       "      <th>Comentários – Televisor</th>\n",
       "      <th>Pontos – Televisor</th>\n",
       "      <th>Vídeo cassete e(ou) DVD</th>\n",
       "      <th>Comentários – Vídeo cassete e(ou) DVD</th>\n",
       "      <th>Pontos – Vídeo cassete e(ou) DVD</th>\n",
       "      <th>Rádio</th>\n",
       "      <th>Comentários – Rádio</th>\n",
       "      <th>Pontos – Rádio</th>\n",
       "      <th>Automóvel</th>\n",
       "      <th>Comentários – Automóvel</th>\n",
       "      <th>Pontos – Automóvel</th>\n",
       "      <th>Motocicleta</th>\n",
       "      <th>Comentários – Motocicleta</th>\n",
       "      <th>Pontos – Motocicleta</th>\n",
       "      <th>Máquina de lavar roupa e(ou) tanquinho</th>\n",
       "      <th>Comentários – Máquina de lavar roupa e(ou) tanquinho</th>\n",
       "      <th>Pontos – Máquina de lavar roupa e(ou) tanquinho</th>\n",
       "      <th>Geladeira</th>\n",
       "      <th>Comentários – Geladeira</th>\n",
       "      <th>Pontos – Geladeira</th>\n",
       "      <th>Celular e(ou) Smartphone</th>\n",
       "      <th>Comentários – Celular e(ou) Smartphone</th>\n",
       "      <th>Pontos – Celular e(ou) Smartphone</th>\n",
       "      <th>Microcomputador de mesa/Desktop</th>\n",
       "      <th>Comentários – Microcomputador de mesa/Desktop</th>\n",
       "      <th>Pontos – Microcomputador de mesa/Desktop</th>\n",
       "      <th>Notebook</th>\n",
       "      <th>Comentários – Notebook</th>\n",
       "      <th>Pontos – Notebook</th>\n",
       "      <th>Comentários – No seu domicílio você tem:</th>\n",
       "      <th>Pontos – No seu domicílio você tem:</th>\n",
       "      <th>Telefone fixo</th>\n",
       "      <th>Comentários – Telefone fixo</th>\n",
       "      <th>Pontos – Telefone fixo</th>\n",
       "      <th>Internet</th>\n",
       "      <th>Comentários – Internet</th>\n",
       "      <th>Pontos – Internet</th>\n",
       "      <th>TV por assinatura e(ou) Serviços de Streaming</th>\n",
       "      <th>Comentários – TV por assinatura e(ou) Serviços de Streaming</th>\n",
       "      <th>Pontos – TV por assinatura e(ou) Serviços de Streaming</th>\n",
       "      <th>Empregada mensalista</th>\n",
       "      <th>Comentários – Empregada mensalista</th>\n",
       "      <th>Pontos – Empregada mensalista</th>\n",
       "      <th>Você trabalha?</th>\n",
       "      <th>Comentários – Você trabalha?</th>\n",
       "      <th>Pontos – Você trabalha?</th>\n",
       "      <th>Qual é seu vínculo com o emprego?</th>\n",
       "      <th>Comentários – Qual é seu vínculo com o emprego?</th>\n",
       "      <th>Pontos – Qual é seu vínculo com o emprego?</th>\n",
       "      <th>Qual a área do seu trabalho?</th>\n",
       "      <th>Comentários – Qual a área do seu trabalho?</th>\n",
       "      <th>Pontos – Qual a área do seu trabalho?</th>\n",
       "      <th>Qual é o seu regime de trabalho?</th>\n",
       "      <th>Comentários – Qual é o seu regime de trabalho?</th>\n",
       "      <th>Pontos – Qual é o seu regime de trabalho?</th>\n",
       "      <th>Em qual empresa você está atualmente contratado?</th>\n",
       "      <th>Comentários – Em qual empresa você está atualmente contratado?</th>\n",
       "      <th>Pontos – Em qual empresa você está atualmente contratado?</th>\n",
       "      <th>Você tem plano de saúde privado?</th>\n",
       "      <th>Comentários – Você tem plano de saúde privado?</th>\n",
       "      <th>Pontos – Você tem plano de saúde privado?</th>\n",
       "      <th>Qual é o grau de escolaridade da sua mãe?</th>\n",
       "      <th>Comentários – Qual é o grau de escolaridade da sua mãe?</th>\n",
       "      <th>Pontos – Qual é o grau de escolaridade da sua mãe?</th>\n",
       "      <th>Qual é o grau de escolaridade do seu pai?</th>\n",
       "      <th>Comentários – Qual é o grau de escolaridade do seu pai?</th>\n",
       "      <th>Pontos – Qual é o grau de escolaridade do seu pai?</th>\n",
       "      <th>Na sua vida escolar, você estudou....</th>\n",
       "      <th>Pontos – Na sua vida escolar, você estudou....</th>\n",
       "      <th>Comentários – Na sua vida escolar, você estudou....</th>\n",
       "      <th>Pontos – Você utiliza microcomputadores/desktop?</th>\n",
       "      <th>Comentários – Você utiliza microcomputadores/desktop?</th>\n",
       "      <th>Em casa</th>\n",
       "      <th>Pontos – Em casa</th>\n",
       "      <th>Comentários – Em casa</th>\n",
       "      <th>No trabalho</th>\n",
       "      <th>Pontos – No trabalho</th>\n",
       "      <th>Comentários – No trabalho</th>\n",
       "      <th>Na escola</th>\n",
       "      <th>Pontos – Na escola</th>\n",
       "      <th>Comentários – Na escola</th>\n",
       "      <th>Em outros lugares</th>\n",
       "      <th>Pontos – Em outros lugares</th>\n",
       "      <th>Comentários – Em outros lugares</th>\n",
       "      <th>Pontos – Com qual finalidade você utiliza microcomputadores/desktop?</th>\n",
       "      <th>Comentários – Com qual finalidade você utiliza microcomputadores/desktop?</th>\n",
       "      <th>Para trabalhos profissionais</th>\n",
       "      <th>Pontos – Para trabalhos profissionais</th>\n",
       "      <th>Comentários – Para trabalhos profissionais</th>\n",
       "      <th>Para trabalhos escolares</th>\n",
       "      <th>Pontos – Para trabalhos escolares</th>\n",
       "      <th>Comentários – Para trabalhos escolares</th>\n",
       "      <th>Para entretenimento (música, redes sociais,...)</th>\n",
       "      <th>Pontos – Para entretenimento (música, redes sociais,...)</th>\n",
       "      <th>Comentários – Para entretenimento (música, redes sociais,...)</th>\n",
       "      <th>Para comunicação por e-mail</th>\n",
       "      <th>Pontos – Para comunicação por e-mail</th>\n",
       "      <th>Comentários – Para comunicação por e-mail</th>\n",
       "      <th>Para operações bancárias</th>\n",
       "      <th>Pontos – Para operações bancárias</th>\n",
       "      <th>Comentários – Para operações bancárias</th>\n",
       "      <th>Para compras eletrônicas</th>\n",
       "      <th>Pontos – Para compras eletrônicas</th>\n",
       "      <th>Comentários – Para compras eletrônicas</th>\n",
       "      <th>Pontos – Você utiliza notebook?</th>\n",
       "      <th>Comentários – Você utiliza notebook?</th>\n",
       "      <th>Em casa2</th>\n",
       "      <th>Pontos – Em casa2</th>\n",
       "      <th>Comentários – Em casa2</th>\n",
       "      <th>No trabalho2</th>\n",
       "      <th>Pontos – No trabalho2</th>\n",
       "      <th>Comentários – No trabalho2</th>\n",
       "      <th>Na escola2</th>\n",
       "      <th>Pontos – Na escola2</th>\n",
       "      <th>Comentários – Na escola2</th>\n",
       "      <th>Em outros lugares2</th>\n",
       "      <th>Pontos – Em outros lugares2</th>\n",
       "      <th>Comentários – Em outros lugares2</th>\n",
       "      <th>Pontos – Com qual finalidade você utiliza notebook?</th>\n",
       "      <th>Comentários – Com qual finalidade você utiliza notebook?</th>\n",
       "      <th>Para trabalhos profissionais2</th>\n",
       "      <th>Pontos – Para trabalhos profissionais2</th>\n",
       "      <th>Comentários – Para trabalhos profissionais2</th>\n",
       "      <th>Para trabalhos escolares2</th>\n",
       "      <th>Pontos – Para trabalhos escolares2</th>\n",
       "      <th>Comentários – Para trabalhos escolares2</th>\n",
       "      <th>Para entretenimento (música, redes sociais,...)2</th>\n",
       "      <th>Pontos – Para entretenimento (música, redes sociais,...)2</th>\n",
       "      <th>Comentários – Para entretenimento (música, redes sociais,...)2</th>\n",
       "      <th>Para comunicação por e-mail2</th>\n",
       "      <th>Pontos – Para comunicação por e-mail2</th>\n",
       "      <th>Comentários – Para comunicação por e-mail2</th>\n",
       "      <th>Para operações bancárias2</th>\n",
       "      <th>Pontos – Para operações bancárias2</th>\n",
       "      <th>Comentários – Para operações bancárias2</th>\n",
       "      <th>Para compras eletrônicas2</th>\n",
       "      <th>Pontos – Para compras eletrônicas2</th>\n",
       "      <th>Comentários – Para compras eletrônicas2</th>\n",
       "      <th>Pontos – Você utiliza smartphone?</th>\n",
       "      <th>Comentários – Você utiliza smartphone?</th>\n",
       "      <th>Em casa3</th>\n",
       "      <th>Pontos – Em casa3</th>\n",
       "      <th>Comentários – Em casa3</th>\n",
       "      <th>No trabalho3</th>\n",
       "      <th>Pontos – No trabalho3</th>\n",
       "      <th>Comentários – No trabalho3</th>\n",
       "      <th>Na escola3</th>\n",
       "      <th>Pontos – Na escola3</th>\n",
       "      <th>Comentários – Na escola3</th>\n",
       "      <th>Em outros lugares3</th>\n",
       "      <th>Pontos – Em outros lugares3</th>\n",
       "      <th>Comentários – Em outros lugares3</th>\n",
       "      <th>Pontos – Com qual finalidade você utiliza smartphone?</th>\n",
       "      <th>Comentários – Com qual finalidade você utiliza smartphone?</th>\n",
       "      <th>Para trabalhos profissionais3</th>\n",
       "      <th>Pontos – Para trabalhos profissionais3</th>\n",
       "      <th>Comentários – Para trabalhos profissionais3</th>\n",
       "      <th>Para trabalhos escolares3</th>\n",
       "      <th>Pontos – Para trabalhos escolares3</th>\n",
       "      <th>Comentários – Para trabalhos escolares3</th>\n",
       "      <th>Para entretenimento (música, redes sociais,...)3</th>\n",
       "      <th>Pontos – Para entretenimento (música, redes sociais,...)3</th>\n",
       "      <th>Comentários – Para entretenimento (música, redes sociais,...)3</th>\n",
       "      <th>Para comunicação por e-mail3</th>\n",
       "      <th>Pontos – Para comunicação por e-mail3</th>\n",
       "      <th>Comentários – Para comunicação por e-mail3</th>\n",
       "      <th>Para operações bancárias3</th>\n",
       "      <th>Pontos – Para operações bancárias3</th>\n",
       "      <th>Comentários – Para operações bancárias3</th>\n",
       "      <th>Para compras eletrônicas3</th>\n",
       "      <th>Pontos – Para compras eletrônicas3</th>\n",
       "      <th>Comentários – Para compras eletrônicas3</th>\n",
       "      <th>Como você classifica seu conhecimento em informática?</th>\n",
       "      <th>Pontos – Como você classifica seu conhecimento em informática?</th>\n",
       "      <th>Comentários – Como você classifica seu conhecimento em informática?</th>\n",
       "      <th>Pontos – Qual o seu conhecimento em relação aos aplicativos à seguir:</th>\n",
       "      <th>Comentários – Qual o seu conhecimento em relação aos aplicativos à seguir:</th>\n",
       "      <th>Windowns</th>\n",
       "      <th>Pontos – Windowns</th>\n",
       "      <th>Comentários – Windowns</th>\n",
       "      <th>Linux</th>\n",
       "      <th>Pontos – Linux</th>\n",
       "      <th>Comentários – Linux</th>\n",
       "      <th>Editores de textos (word, writer, ...)</th>\n",
       "      <th>Pontos – Editores de textos (word, writer, ...)</th>\n",
       "      <th>Comentários – Editores de textos (word, writer, ...)</th>\n",
       "      <th>Planilhas Eletrônicas (Excel, Cal, ...)</th>\n",
       "      <th>Pontos – Planilhas Eletrônicas (Excel, Cal, ...)</th>\n",
       "      <th>Comentários – Planilhas Eletrônicas (Excel, Cal, ...)</th>\n",
       "      <th>Apresentadores (PowerPoint, Impress, ...)</th>\n",
       "      <th>Pontos – Apresentadores (PowerPoint, Impress, ...)</th>\n",
       "      <th>Comentários – Apresentadores (PowerPoint, Impress, ...)</th>\n",
       "      <th>Sistemas de Gestão Empresarial</th>\n",
       "      <th>Pontos – Sistemas de Gestão Empresarial</th>\n",
       "      <th>Comentários – Sistemas de Gestão Empresarial</th>\n",
       "      <th>Pontos – Considerando seus conhecimentos sobre idiomas</th>\n",
       "      <th>Comentários – Considerando seus conhecimentos sobre idiomas</th>\n",
       "      <th>Inglês</th>\n",
       "      <th>Pontos – Inglês</th>\n",
       "      <th>Comentários – Inglês</th>\n",
       "      <th>Espanhol</th>\n",
       "      <th>Pontos – Espanhol</th>\n",
       "      <th>Comentários – Espanhol</th>\n",
       "      <th>Outros Idiomas</th>\n",
       "      <th>Pontos – Outros Idiomas</th>\n",
       "      <th>Comentários – Outros Idiomas</th>\n",
       "      <th>Pontos – Com que frequência você busca informações nos seguintes meios de comunicação?</th>\n",
       "      <th>Comentários – Com que frequência você busca informações nos seguintes meios de comunicação?</th>\n",
       "      <th>TV</th>\n",
       "      <th>Pontos – TV</th>\n",
       "      <th>Comentários – TV</th>\n",
       "      <th>Internet2</th>\n",
       "      <th>Pontos – Internet2</th>\n",
       "      <th>Comentários – Internet2</th>\n",
       "      <th>Revistas</th>\n",
       "      <th>Pontos – Revistas</th>\n",
       "      <th>Comentários – Revistas</th>\n",
       "      <th>Jornais</th>\n",
       "      <th>Pontos – Jornais</th>\n",
       "      <th>Comentários – Jornais</th>\n",
       "      <th>Rádio2</th>\n",
       "      <th>Pontos – Rádio2</th>\n",
       "      <th>Comentários – Rádio2</th>\n",
       "      <th>Redes Sociais</th>\n",
       "      <th>Pontos – Redes Sociais</th>\n",
       "      <th>Comentários – Redes Sociais</th>\n",
       "      <th>Conversas com Amigos</th>\n",
       "      <th>Pontos – Conversas com Amigos</th>\n",
       "      <th>Comentários – Conversas com Amigos</th>\n",
       "      <th>Não considerando os livros acadêmicos, quantos livros você lê por ano (em média)?</th>\n",
       "      <th>Pontos – Não considerando os livros acadêmicos, quantos livros você lê por ano (em média)?</th>\n",
       "      <th>Comentários – Não considerando os livros acadêmicos, quantos livros você lê por ano (em média)?</th>\n",
       "      <th>Se você lê livros literários, qual(is) o(s) gênero(s) preferido(s)?</th>\n",
       "      <th>Pontos – Se você lê livros literários, qual(is) o(s) gênero(s) preferido(s)?</th>\n",
       "      <th>Comentários – Se você lê livros literários, qual(is) o(s) gênero(s) preferido(s)?</th>\n",
       "      <th>Você dedica parte do seu tempo para atividades voluntárias?</th>\n",
       "      <th>Pontos – Você dedica parte do seu tempo para atividades voluntárias?</th>\n",
       "      <th>Comentários – Você dedica parte do seu tempo para atividades voluntárias?</th>\n",
       "      <th>Qual religião você professa?</th>\n",
       "      <th>Pontos – Qual religião você professa?</th>\n",
       "      <th>Comentários – Qual religião você professa?</th>\n",
       "      <th>Quais fontes de entretenimento cultural você usa?</th>\n",
       "      <th>Pontos – Quais fontes de entretenimento cultural você usa?</th>\n",
       "      <th>Comentários – Quais fontes de entretenimento cultural você usa?</th>\n",
       "      <th>Estamos quase no fim! Como você ficou sabendo da FATEC Franca?</th>\n",
       "      <th>Pontos – Estamos quase no fim! Como você ficou sabendo da FATEC Franca?</th>\n",
       "      <th>Comentários – Estamos quase no fim! Como você ficou sabendo da FATEC Franca?</th>\n",
       "      <th>Por que você escolheu este curso?</th>\n",
       "      <th>Pontos – Por que você escolheu este curso?</th>\n",
       "      <th>Comentários – Por que você escolheu este curso?</th>\n",
       "      <th>Qual sua maior expectativa quanto ao curso?</th>\n",
       "      <th>Pontos – Qual sua maior expectativa quanto ao curso?</th>\n",
       "      <th>Comentários – Qual sua maior expectativa quanto ao curso?</th>\n",
       "      <th>Qual sua expectativa após se formar?</th>\n",
       "      <th>Pontos – Qual sua expectativa após se formar?</th>\n",
       "      <th>Comentários – Qual sua expectativa após se formar?</th>\n",
       "      <th>Você já estudou nesta instituição?</th>\n",
       "      <th>Pontos – Você já estudou nesta instituição?</th>\n",
       "      <th>Comentários – Você já estudou nesta instituição?</th>\n",
       "      <th>Você já fez algum curso técnico?</th>\n",
       "      <th>Pontos – Você já fez algum curso técnico?</th>\n",
       "      <th>Comentários – Você já fez algum curso técnico?</th>\n",
       "      <th>Qual meio de transporte você utiliza para ir à faculdade?</th>\n",
       "      <th>Pontos – Qual meio de transporte você utiliza para ir à faculdade?</th>\n",
       "      <th>Comentários – Qual meio de transporte você utiliza para ir à faculdade?</th>\n",
       "      <th>Escreva algumas linhas sobre sua história e seus sonhos de vida</th>\n",
       "      <th>Pontos – Escreva algumas linhas sobre sua história e seus sonhos de vida</th>\n",
       "      <th>Comentários – Escreva algumas linhas sobre sua história e seus sonhos de vida</th>\n",
       "    </tr>\n",
       "  </thead>\n",
       "  <tbody>\n",
       "    <tr>\n",
       "      <th>0</th>\n",
       "      <td>1</td>\n",
       "      <td>2025-03-22 09:07:42</td>\n",
       "      <td>2025-03-22 09:12:12</td>\n",
       "      <td>gabriela.sousa14@fatec.sp.gov.br</td>\n",
       "      <td>GABRIELA SOUSA</td>\n",
       "      <td>NaN</td>\n",
       "      <td>NaN</td>\n",
       "      <td>NaN</td>\n",
       "      <td>Análise e Desenvolvimento de Sistemas (ADS)</td>\n",
       "      <td>NaN</td>\n",
       "      <td>NaN</td>\n",
       "      <td>Noturno</td>\n",
       "      <td>NaN</td>\n",
       "      <td>NaN</td>\n",
       "      <td>1090482423006</td>\n",
       "      <td>NaN</td>\n",
       "      <td>NaN</td>\n",
       "      <td>São Paulo (SP)</td>\n",
       "      <td>NaN</td>\n",
       "      <td>NaN</td>\n",
       "      <td>Franca</td>\n",
       "      <td>NaN</td>\n",
       "      <td>NaN</td>\n",
       "      <td>Feminino</td>\n",
       "      <td>NaN</td>\n",
       "      <td>NaN</td>\n",
       "      <td>2000-03-08</td>\n",
       "      <td>NaN</td>\n",
       "      <td>NaN</td>\n",
       "      <td>Solteiro(a)</td>\n",
       "      <td>NaN</td>\n",
       "      <td>NaN</td>\n",
       "      <td>Nenhuma;</td>\n",
       "      <td>NaN</td>\n",
       "      <td>NaN</td>\n",
       "      <td>Nenhum</td>\n",
       "      <td>NaN</td>\n",
       "      <td>NaN</td>\n",
       "      <td>Sozinho</td>\n",
       "      <td>NaN</td>\n",
       "      <td>NaN</td>\n",
       "      <td>1</td>\n",
       "      <td>NaN</td>\n",
       "      <td>NaN</td>\n",
       "      <td>Financiado</td>\n",
       "      <td>NaN</td>\n",
       "      <td>NaN</td>\n",
       "      <td>13 à 24 meses</td>\n",
       "      <td>NaN</td>\n",
       "      <td>NaN</td>\n",
       "      <td>De R$ 1.518,01 até R$ 3.036,00</td>\n",
       "      <td>NaN</td>\n",
       "      <td>NaN</td>\n",
       "      <td>NaN</td>\n",
       "      <td>NaN</td>\n",
       "      <td>1</td>\n",
       "      <td>NaN</td>\n",
       "      <td>NaN</td>\n",
       "      <td>Nenhum</td>\n",
       "      <td>NaN</td>\n",
       "      <td>NaN</td>\n",
       "      <td>Nenhum</td>\n",
       "      <td>NaN</td>\n",
       "      <td>NaN</td>\n",
       "      <td>Nenhum</td>\n",
       "      <td>NaN</td>\n",
       "      <td>NaN</td>\n",
       "      <td>1</td>\n",
       "      <td>NaN</td>\n",
       "      <td>NaN</td>\n",
       "      <td>1</td>\n",
       "      <td>NaN</td>\n",
       "      <td>NaN</td>\n",
       "      <td>1</td>\n",
       "      <td>NaN</td>\n",
       "      <td>NaN</td>\n",
       "      <td>1</td>\n",
       "      <td>NaN</td>\n",
       "      <td>NaN</td>\n",
       "      <td>Nenhum</td>\n",
       "      <td>NaN</td>\n",
       "      <td>NaN</td>\n",
       "      <td>1</td>\n",
       "      <td>NaN</td>\n",
       "      <td>NaN</td>\n",
       "      <td>NaN</td>\n",
       "      <td>NaN</td>\n",
       "      <td>Não</td>\n",
       "      <td>NaN</td>\n",
       "      <td>NaN</td>\n",
       "      <td>Sim</td>\n",
       "      <td>NaN</td>\n",
       "      <td>NaN</td>\n",
       "      <td>Sim</td>\n",
       "      <td>NaN</td>\n",
       "      <td>NaN</td>\n",
       "      <td>Não</td>\n",
       "      <td>NaN</td>\n",
       "      <td>NaN</td>\n",
       "      <td>Sim</td>\n",
       "      <td>NaN</td>\n",
       "      <td>NaN</td>\n",
       "      <td>Sou registrado(a) no comércio</td>\n",
       "      <td>NaN</td>\n",
       "      <td>NaN</td>\n",
       "      <td>Trabalho na área do curso</td>\n",
       "      <td>NaN</td>\n",
       "      <td>NaN</td>\n",
       "      <td>Regime Integral</td>\n",
       "      <td>NaN</td>\n",
       "      <td>NaN</td>\n",
       "      <td>SOFTPOOL SISTEMAS</td>\n",
       "      <td>NaN</td>\n",
       "      <td>NaN</td>\n",
       "      <td>Tenho e é pago parcialmente pela empresa</td>\n",
       "      <td>NaN</td>\n",
       "      <td>NaN</td>\n",
       "      <td>Ensino Médio</td>\n",
       "      <td>NaN</td>\n",
       "      <td>NaN</td>\n",
       "      <td>Ensino fundamental II (6º ao 9º ano)</td>\n",
       "      <td>NaN</td>\n",
       "      <td>NaN</td>\n",
       "      <td>Sempre na escola pública</td>\n",
       "      <td>NaN</td>\n",
       "      <td>NaN</td>\n",
       "      <td>NaN</td>\n",
       "      <td>NaN</td>\n",
       "      <td>Não</td>\n",
       "      <td>NaN</td>\n",
       "      <td>NaN</td>\n",
       "      <td>Sim</td>\n",
       "      <td>NaN</td>\n",
       "      <td>NaN</td>\n",
       "      <td>Sim</td>\n",
       "      <td>NaN</td>\n",
       "      <td>NaN</td>\n",
       "      <td>Sim</td>\n",
       "      <td>NaN</td>\n",
       "      <td>NaN</td>\n",
       "      <td>NaN</td>\n",
       "      <td>NaN</td>\n",
       "      <td>Sim</td>\n",
       "      <td>NaN</td>\n",
       "      <td>NaN</td>\n",
       "      <td>Sim</td>\n",
       "      <td>NaN</td>\n",
       "      <td>NaN</td>\n",
       "      <td>Não</td>\n",
       "      <td>NaN</td>\n",
       "      <td>NaN</td>\n",
       "      <td>Sim</td>\n",
       "      <td>NaN</td>\n",
       "      <td>NaN</td>\n",
       "      <td>Não</td>\n",
       "      <td>NaN</td>\n",
       "      <td>NaN</td>\n",
       "      <td>Não</td>\n",
       "      <td>NaN</td>\n",
       "      <td>NaN</td>\n",
       "      <td>NaN</td>\n",
       "      <td>NaN</td>\n",
       "      <td>Sim</td>\n",
       "      <td>NaN</td>\n",
       "      <td>NaN</td>\n",
       "      <td>Sim</td>\n",
       "      <td>NaN</td>\n",
       "      <td>NaN</td>\n",
       "      <td>Sim</td>\n",
       "      <td>NaN</td>\n",
       "      <td>NaN</td>\n",
       "      <td>Sim</td>\n",
       "      <td>NaN</td>\n",
       "      <td>NaN</td>\n",
       "      <td>NaN</td>\n",
       "      <td>NaN</td>\n",
       "      <td>Sim</td>\n",
       "      <td>NaN</td>\n",
       "      <td>NaN</td>\n",
       "      <td>Sim</td>\n",
       "      <td>NaN</td>\n",
       "      <td>NaN</td>\n",
       "      <td>Sim</td>\n",
       "      <td>NaN</td>\n",
       "      <td>NaN</td>\n",
       "      <td>Sim</td>\n",
       "      <td>NaN</td>\n",
       "      <td>NaN</td>\n",
       "      <td>Não</td>\n",
       "      <td>NaN</td>\n",
       "      <td>NaN</td>\n",
       "      <td>Sim</td>\n",
       "      <td>NaN</td>\n",
       "      <td>NaN</td>\n",
       "      <td>NaN</td>\n",
       "      <td>NaN</td>\n",
       "      <td>Sim</td>\n",
       "      <td>NaN</td>\n",
       "      <td>NaN</td>\n",
       "      <td>Sim</td>\n",
       "      <td>NaN</td>\n",
       "      <td>NaN</td>\n",
       "      <td>Sim</td>\n",
       "      <td>NaN</td>\n",
       "      <td>NaN</td>\n",
       "      <td>Sim</td>\n",
       "      <td>NaN</td>\n",
       "      <td>NaN</td>\n",
       "      <td>NaN</td>\n",
       "      <td>NaN</td>\n",
       "      <td>Sim</td>\n",
       "      <td>NaN</td>\n",
       "      <td>NaN</td>\n",
       "      <td>Sim</td>\n",
       "      <td>NaN</td>\n",
       "      <td>NaN</td>\n",
       "      <td>Sim</td>\n",
       "      <td>NaN</td>\n",
       "      <td>NaN</td>\n",
       "      <td>Sim</td>\n",
       "      <td>NaN</td>\n",
       "      <td>NaN</td>\n",
       "      <td>Sim</td>\n",
       "      <td>NaN</td>\n",
       "      <td>NaN</td>\n",
       "      <td>Sim</td>\n",
       "      <td>NaN</td>\n",
       "      <td>NaN</td>\n",
       "      <td>Avançado</td>\n",
       "      <td>NaN</td>\n",
       "      <td>NaN</td>\n",
       "      <td>NaN</td>\n",
       "      <td>NaN</td>\n",
       "      <td>Avançado</td>\n",
       "      <td>NaN</td>\n",
       "      <td>NaN</td>\n",
       "      <td>Intermediário</td>\n",
       "      <td>NaN</td>\n",
       "      <td>NaN</td>\n",
       "      <td>Avançado</td>\n",
       "      <td>NaN</td>\n",
       "      <td>NaN</td>\n",
       "      <td>Avançado</td>\n",
       "      <td>NaN</td>\n",
       "      <td>NaN</td>\n",
       "      <td>Avançado</td>\n",
       "      <td>NaN</td>\n",
       "      <td>NaN</td>\n",
       "      <td>Avançado</td>\n",
       "      <td>NaN</td>\n",
       "      <td>NaN</td>\n",
       "      <td>NaN</td>\n",
       "      <td>NaN</td>\n",
       "      <td>Leio, escrevo e falo razoavelmente</td>\n",
       "      <td>NaN</td>\n",
       "      <td>NaN</td>\n",
       "      <td>Praticamente nulo</td>\n",
       "      <td>NaN</td>\n",
       "      <td>NaN</td>\n",
       "      <td>Praticamente nulo</td>\n",
       "      <td>NaN</td>\n",
       "      <td>NaN</td>\n",
       "      <td>NaN</td>\n",
       "      <td>NaN</td>\n",
       "      <td>Nunca</td>\n",
       "      <td>NaN</td>\n",
       "      <td>NaN</td>\n",
       "      <td>Muito</td>\n",
       "      <td>NaN</td>\n",
       "      <td>NaN</td>\n",
       "      <td>Nunca</td>\n",
       "      <td>NaN</td>\n",
       "      <td>NaN</td>\n",
       "      <td>Às vezes</td>\n",
       "      <td>NaN</td>\n",
       "      <td>NaN</td>\n",
       "      <td>Nunca</td>\n",
       "      <td>NaN</td>\n",
       "      <td>NaN</td>\n",
       "      <td>Às vezes</td>\n",
       "      <td>NaN</td>\n",
       "      <td>NaN</td>\n",
       "      <td>Às vezes</td>\n",
       "      <td>NaN</td>\n",
       "      <td>NaN</td>\n",
       "      <td>De 3 até 6</td>\n",
       "      <td>NaN</td>\n",
       "      <td>NaN</td>\n",
       "      <td>Romance;Outros:;</td>\n",
       "      <td>NaN</td>\n",
       "      <td>NaN</td>\n",
       "      <td>Não</td>\n",
       "      <td>NaN</td>\n",
       "      <td>NaN</td>\n",
       "      <td>Umbanda</td>\n",
       "      <td>NaN</td>\n",
       "      <td>NaN</td>\n",
       "      <td>Cinema;Exposições de arte;Filmes na internet;L...</td>\n",
       "      <td>NaN</td>\n",
       "      <td>NaN</td>\n",
       "      <td>Indicação de familiar/amigo</td>\n",
       "      <td>NaN</td>\n",
       "      <td>NaN</td>\n",
       "      <td>Este curso forma profissionais que são bem rem...</td>\n",
       "      <td>NaN</td>\n",
       "      <td>NaN</td>\n",
       "      <td>Obter novos conhecimentos;Obter competências p...</td>\n",
       "      <td>NaN</td>\n",
       "      <td>NaN</td>\n",
       "      <td>Conquistar vaga em empresa privada;Melhorar ca...</td>\n",
       "      <td>NaN</td>\n",
       "      <td>NaN</td>\n",
       "      <td>Não</td>\n",
       "      <td>NaN</td>\n",
       "      <td>NaN</td>\n",
       "      <td>Sim, no SENAC</td>\n",
       "      <td>NaN</td>\n",
       "      <td>NaN</td>\n",
       "      <td>Moto;</td>\n",
       "      <td>NaN</td>\n",
       "      <td>NaN</td>\n",
       "      <td>Sempre fui uma pessoa independente e um dos me...</td>\n",
       "      <td>NaN</td>\n",
       "      <td>NaN</td>\n",
       "    </tr>\n",
       "    <tr>\n",
       "      <th>1</th>\n",
       "      <td>2</td>\n",
       "      <td>2025-03-22 09:23:35</td>\n",
       "      <td>2025-03-22 09:43:20</td>\n",
       "      <td>larissa.silva259@fatec.sp.gov.br</td>\n",
       "      <td>LARISSA SILVA</td>\n",
       "      <td>NaN</td>\n",
       "      <td>NaN</td>\n",
       "      <td>NaN</td>\n",
       "      <td>Análise e Desenvolvimento de Sistemas (ADS)</td>\n",
       "      <td>NaN</td>\n",
       "      <td>NaN</td>\n",
       "      <td>Noturno</td>\n",
       "      <td>NaN</td>\n",
       "      <td>NaN</td>\n",
       "      <td>1090482423011</td>\n",
       "      <td>NaN</td>\n",
       "      <td>NaN</td>\n",
       "      <td>São Paulo (SP)</td>\n",
       "      <td>NaN</td>\n",
       "      <td>NaN</td>\n",
       "      <td>Franca</td>\n",
       "      <td>NaN</td>\n",
       "      <td>NaN</td>\n",
       "      <td>Feminino</td>\n",
       "      <td>NaN</td>\n",
       "      <td>NaN</td>\n",
       "      <td>2006-04-15</td>\n",
       "      <td>NaN</td>\n",
       "      <td>NaN</td>\n",
       "      <td>Solteiro(a)</td>\n",
       "      <td>NaN</td>\n",
       "      <td>NaN</td>\n",
       "      <td>Nenhuma;</td>\n",
       "      <td>NaN</td>\n",
       "      <td>NaN</td>\n",
       "      <td>Nenhum</td>\n",
       "      <td>NaN</td>\n",
       "      <td>NaN</td>\n",
       "      <td>Com pais e(ou) parentes</td>\n",
       "      <td>NaN</td>\n",
       "      <td>NaN</td>\n",
       "      <td>3</td>\n",
       "      <td>NaN</td>\n",
       "      <td>NaN</td>\n",
       "      <td>Próprio</td>\n",
       "      <td>NaN</td>\n",
       "      <td>NaN</td>\n",
       "      <td>61 meses ou mais</td>\n",
       "      <td>NaN</td>\n",
       "      <td>NaN</td>\n",
       "      <td>De R$ 3.036,01 até R$ 4.554,00</td>\n",
       "      <td>NaN</td>\n",
       "      <td>NaN</td>\n",
       "      <td>NaN</td>\n",
       "      <td>NaN</td>\n",
       "      <td>2</td>\n",
       "      <td>NaN</td>\n",
       "      <td>NaN</td>\n",
       "      <td>2</td>\n",
       "      <td>NaN</td>\n",
       "      <td>NaN</td>\n",
       "      <td>1</td>\n",
       "      <td>NaN</td>\n",
       "      <td>NaN</td>\n",
       "      <td>2</td>\n",
       "      <td>NaN</td>\n",
       "      <td>NaN</td>\n",
       "      <td>Nenhum</td>\n",
       "      <td>NaN</td>\n",
       "      <td>NaN</td>\n",
       "      <td>2</td>\n",
       "      <td>NaN</td>\n",
       "      <td>NaN</td>\n",
       "      <td>1</td>\n",
       "      <td>NaN</td>\n",
       "      <td>NaN</td>\n",
       "      <td>4 ou +</td>\n",
       "      <td>NaN</td>\n",
       "      <td>NaN</td>\n",
       "      <td>1</td>\n",
       "      <td>NaN</td>\n",
       "      <td>NaN</td>\n",
       "      <td>3</td>\n",
       "      <td>NaN</td>\n",
       "      <td>NaN</td>\n",
       "      <td>NaN</td>\n",
       "      <td>NaN</td>\n",
       "      <td>Não</td>\n",
       "      <td>NaN</td>\n",
       "      <td>NaN</td>\n",
       "      <td>Sim</td>\n",
       "      <td>NaN</td>\n",
       "      <td>NaN</td>\n",
       "      <td>Sim</td>\n",
       "      <td>NaN</td>\n",
       "      <td>NaN</td>\n",
       "      <td>Não</td>\n",
       "      <td>NaN</td>\n",
       "      <td>NaN</td>\n",
       "      <td>Não</td>\n",
       "      <td>NaN</td>\n",
       "      <td>NaN</td>\n",
       "      <td>Não trabalho</td>\n",
       "      <td>NaN</td>\n",
       "      <td>NaN</td>\n",
       "      <td>Não trabalho</td>\n",
       "      <td>NaN</td>\n",
       "      <td>NaN</td>\n",
       "      <td>Não trabalho</td>\n",
       "      <td>NaN</td>\n",
       "      <td>NaN</td>\n",
       "      <td>Não trabalho</td>\n",
       "      <td>NaN</td>\n",
       "      <td>NaN</td>\n",
       "      <td>Tenho e é um plano familiar</td>\n",
       "      <td>NaN</td>\n",
       "      <td>NaN</td>\n",
       "      <td>Pós-Graduação</td>\n",
       "      <td>NaN</td>\n",
       "      <td>NaN</td>\n",
       "      <td>Ensino Superior</td>\n",
       "      <td>NaN</td>\n",
       "      <td>NaN</td>\n",
       "      <td>Sempre em escola particular paga pela família</td>\n",
       "      <td>NaN</td>\n",
       "      <td>NaN</td>\n",
       "      <td>NaN</td>\n",
       "      <td>NaN</td>\n",
       "      <td>Não</td>\n",
       "      <td>NaN</td>\n",
       "      <td>NaN</td>\n",
       "      <td>Não</td>\n",
       "      <td>NaN</td>\n",
       "      <td>NaN</td>\n",
       "      <td>Sim</td>\n",
       "      <td>NaN</td>\n",
       "      <td>NaN</td>\n",
       "      <td>Não</td>\n",
       "      <td>NaN</td>\n",
       "      <td>NaN</td>\n",
       "      <td>NaN</td>\n",
       "      <td>NaN</td>\n",
       "      <td>Não</td>\n",
       "      <td>NaN</td>\n",
       "      <td>NaN</td>\n",
       "      <td>Sim</td>\n",
       "      <td>NaN</td>\n",
       "      <td>NaN</td>\n",
       "      <td>Não</td>\n",
       "      <td>NaN</td>\n",
       "      <td>NaN</td>\n",
       "      <td>Não</td>\n",
       "      <td>NaN</td>\n",
       "      <td>NaN</td>\n",
       "      <td>Não</td>\n",
       "      <td>NaN</td>\n",
       "      <td>NaN</td>\n",
       "      <td>Não</td>\n",
       "      <td>NaN</td>\n",
       "      <td>NaN</td>\n",
       "      <td>NaN</td>\n",
       "      <td>NaN</td>\n",
       "      <td>Sim</td>\n",
       "      <td>NaN</td>\n",
       "      <td>NaN</td>\n",
       "      <td>Não</td>\n",
       "      <td>NaN</td>\n",
       "      <td>NaN</td>\n",
       "      <td>Sim</td>\n",
       "      <td>NaN</td>\n",
       "      <td>NaN</td>\n",
       "      <td>Sim</td>\n",
       "      <td>NaN</td>\n",
       "      <td>NaN</td>\n",
       "      <td>NaN</td>\n",
       "      <td>NaN</td>\n",
       "      <td>Não</td>\n",
       "      <td>NaN</td>\n",
       "      <td>NaN</td>\n",
       "      <td>Sim</td>\n",
       "      <td>NaN</td>\n",
       "      <td>NaN</td>\n",
       "      <td>Sim</td>\n",
       "      <td>NaN</td>\n",
       "      <td>NaN</td>\n",
       "      <td>Sim</td>\n",
       "      <td>NaN</td>\n",
       "      <td>NaN</td>\n",
       "      <td>Sim</td>\n",
       "      <td>NaN</td>\n",
       "      <td>NaN</td>\n",
       "      <td>Sim</td>\n",
       "      <td>NaN</td>\n",
       "      <td>NaN</td>\n",
       "      <td>NaN</td>\n",
       "      <td>NaN</td>\n",
       "      <td>Sim</td>\n",
       "      <td>NaN</td>\n",
       "      <td>NaN</td>\n",
       "      <td>Não</td>\n",
       "      <td>NaN</td>\n",
       "      <td>NaN</td>\n",
       "      <td>Sim</td>\n",
       "      <td>NaN</td>\n",
       "      <td>NaN</td>\n",
       "      <td>Sim</td>\n",
       "      <td>NaN</td>\n",
       "      <td>NaN</td>\n",
       "      <td>NaN</td>\n",
       "      <td>NaN</td>\n",
       "      <td>Não</td>\n",
       "      <td>NaN</td>\n",
       "      <td>NaN</td>\n",
       "      <td>Sim</td>\n",
       "      <td>NaN</td>\n",
       "      <td>NaN</td>\n",
       "      <td>Sim</td>\n",
       "      <td>NaN</td>\n",
       "      <td>NaN</td>\n",
       "      <td>Sim</td>\n",
       "      <td>NaN</td>\n",
       "      <td>NaN</td>\n",
       "      <td>Sim</td>\n",
       "      <td>NaN</td>\n",
       "      <td>NaN</td>\n",
       "      <td>Sim</td>\n",
       "      <td>NaN</td>\n",
       "      <td>NaN</td>\n",
       "      <td>Pouco</td>\n",
       "      <td>NaN</td>\n",
       "      <td>NaN</td>\n",
       "      <td>NaN</td>\n",
       "      <td>NaN</td>\n",
       "      <td>Pouco</td>\n",
       "      <td>NaN</td>\n",
       "      <td>NaN</td>\n",
       "      <td>Nenhum</td>\n",
       "      <td>NaN</td>\n",
       "      <td>NaN</td>\n",
       "      <td>Intermediário</td>\n",
       "      <td>NaN</td>\n",
       "      <td>NaN</td>\n",
       "      <td>Intermediário</td>\n",
       "      <td>NaN</td>\n",
       "      <td>NaN</td>\n",
       "      <td>Intermediário</td>\n",
       "      <td>NaN</td>\n",
       "      <td>NaN</td>\n",
       "      <td>Nenhum</td>\n",
       "      <td>NaN</td>\n",
       "      <td>NaN</td>\n",
       "      <td>NaN</td>\n",
       "      <td>NaN</td>\n",
       "      <td>Praticamente nulo</td>\n",
       "      <td>NaN</td>\n",
       "      <td>NaN</td>\n",
       "      <td>Praticamente nulo</td>\n",
       "      <td>NaN</td>\n",
       "      <td>NaN</td>\n",
       "      <td>Praticamente nulo</td>\n",
       "      <td>NaN</td>\n",
       "      <td>NaN</td>\n",
       "      <td>NaN</td>\n",
       "      <td>NaN</td>\n",
       "      <td>Pouco</td>\n",
       "      <td>NaN</td>\n",
       "      <td>NaN</td>\n",
       "      <td>Sempre</td>\n",
       "      <td>NaN</td>\n",
       "      <td>NaN</td>\n",
       "      <td>Nunca</td>\n",
       "      <td>NaN</td>\n",
       "      <td>NaN</td>\n",
       "      <td>Nunca</td>\n",
       "      <td>NaN</td>\n",
       "      <td>NaN</td>\n",
       "      <td>Nunca</td>\n",
       "      <td>NaN</td>\n",
       "      <td>NaN</td>\n",
       "      <td>Pouco</td>\n",
       "      <td>NaN</td>\n",
       "      <td>NaN</td>\n",
       "      <td>Nunca</td>\n",
       "      <td>NaN</td>\n",
       "      <td>NaN</td>\n",
       "      <td>Mais de 10</td>\n",
       "      <td>NaN</td>\n",
       "      <td>NaN</td>\n",
       "      <td>Romance;Ficção;Biográfico;Outros:;</td>\n",
       "      <td>NaN</td>\n",
       "      <td>NaN</td>\n",
       "      <td>Sim</td>\n",
       "      <td>NaN</td>\n",
       "      <td>NaN</td>\n",
       "      <td>Espírita</td>\n",
       "      <td>NaN</td>\n",
       "      <td>NaN</td>\n",
       "      <td>Cinema;Filmes na internet;Literatura;Música;TV;</td>\n",
       "      <td>NaN</td>\n",
       "      <td>NaN</td>\n",
       "      <td>Indicação de familiar/amigo</td>\n",
       "      <td>NaN</td>\n",
       "      <td>NaN</td>\n",
       "      <td>Este curso é gratuito;Este curso é de média du...</td>\n",
       "      <td>NaN</td>\n",
       "      <td>NaN</td>\n",
       "      <td>Obter novos conhecimentos;Obter competências p...</td>\n",
       "      <td>NaN</td>\n",
       "      <td>NaN</td>\n",
       "      <td>Outra expectativa:;</td>\n",
       "      <td>NaN</td>\n",
       "      <td>NaN</td>\n",
       "      <td>Não</td>\n",
       "      <td>NaN</td>\n",
       "      <td>NaN</td>\n",
       "      <td>Sim, em uma ETEC</td>\n",
       "      <td>NaN</td>\n",
       "      <td>NaN</td>\n",
       "      <td>Carro;</td>\n",
       "      <td>NaN</td>\n",
       "      <td>NaN</td>\n",
       "      <td>Ter uma vida estável</td>\n",
       "      <td>NaN</td>\n",
       "      <td>NaN</td>\n",
       "    </tr>\n",
       "    <tr>\n",
       "      <th>2</th>\n",
       "      <td>3</td>\n",
       "      <td>2025-03-22 09:37:26</td>\n",
       "      <td>2025-03-22 09:51:53</td>\n",
       "      <td>ryan.cruz2@fatec.sp.gov.br</td>\n",
       "      <td>RYAN CRUZ</td>\n",
       "      <td>NaN</td>\n",
       "      <td>NaN</td>\n",
       "      <td>NaN</td>\n",
       "      <td>Análise e Desenvolvimento de Sistemas (ADS)</td>\n",
       "      <td>NaN</td>\n",
       "      <td>NaN</td>\n",
       "      <td>Noturno</td>\n",
       "      <td>NaN</td>\n",
       "      <td>NaN</td>\n",
       "      <td>1090482423002</td>\n",
       "      <td>NaN</td>\n",
       "      <td>NaN</td>\n",
       "      <td>São Paulo (SP)</td>\n",
       "      <td>NaN</td>\n",
       "      <td>NaN</td>\n",
       "      <td>Franca</td>\n",
       "      <td>NaN</td>\n",
       "      <td>NaN</td>\n",
       "      <td>Masculino</td>\n",
       "      <td>NaN</td>\n",
       "      <td>NaN</td>\n",
       "      <td>2005-06-09</td>\n",
       "      <td>NaN</td>\n",
       "      <td>NaN</td>\n",
       "      <td>Solteiro(a)</td>\n",
       "      <td>NaN</td>\n",
       "      <td>NaN</td>\n",
       "      <td>Nenhuma;</td>\n",
       "      <td>NaN</td>\n",
       "      <td>NaN</td>\n",
       "      <td>Nenhum</td>\n",
       "      <td>NaN</td>\n",
       "      <td>NaN</td>\n",
       "      <td>Com pais e(ou) parentes</td>\n",
       "      <td>NaN</td>\n",
       "      <td>NaN</td>\n",
       "      <td>4</td>\n",
       "      <td>NaN</td>\n",
       "      <td>NaN</td>\n",
       "      <td>Alugado</td>\n",
       "      <td>NaN</td>\n",
       "      <td>NaN</td>\n",
       "      <td>25 à 48 meses</td>\n",
       "      <td>NaN</td>\n",
       "      <td>NaN</td>\n",
       "      <td>De R$ 3.036,01 até R$ 4.554,00</td>\n",
       "      <td>NaN</td>\n",
       "      <td>NaN</td>\n",
       "      <td>NaN</td>\n",
       "      <td>NaN</td>\n",
       "      <td>2</td>\n",
       "      <td>NaN</td>\n",
       "      <td>NaN</td>\n",
       "      <td>Nenhum</td>\n",
       "      <td>NaN</td>\n",
       "      <td>NaN</td>\n",
       "      <td>Nenhum</td>\n",
       "      <td>NaN</td>\n",
       "      <td>NaN</td>\n",
       "      <td>1</td>\n",
       "      <td>NaN</td>\n",
       "      <td>NaN</td>\n",
       "      <td>Nenhum</td>\n",
       "      <td>NaN</td>\n",
       "      <td>NaN</td>\n",
       "      <td>1</td>\n",
       "      <td>NaN</td>\n",
       "      <td>NaN</td>\n",
       "      <td>1</td>\n",
       "      <td>NaN</td>\n",
       "      <td>NaN</td>\n",
       "      <td>3</td>\n",
       "      <td>NaN</td>\n",
       "      <td>NaN</td>\n",
       "      <td>Nenhum</td>\n",
       "      <td>NaN</td>\n",
       "      <td>NaN</td>\n",
       "      <td>1</td>\n",
       "      <td>NaN</td>\n",
       "      <td>NaN</td>\n",
       "      <td>NaN</td>\n",
       "      <td>NaN</td>\n",
       "      <td>Não</td>\n",
       "      <td>NaN</td>\n",
       "      <td>NaN</td>\n",
       "      <td>Sim</td>\n",
       "      <td>NaN</td>\n",
       "      <td>NaN</td>\n",
       "      <td>Sim</td>\n",
       "      <td>NaN</td>\n",
       "      <td>NaN</td>\n",
       "      <td>Não</td>\n",
       "      <td>NaN</td>\n",
       "      <td>NaN</td>\n",
       "      <td>Sim</td>\n",
       "      <td>NaN</td>\n",
       "      <td>NaN</td>\n",
       "      <td>Sou registrado(a) em empresa prestadora de ser...</td>\n",
       "      <td>NaN</td>\n",
       "      <td>NaN</td>\n",
       "      <td>Trabalho na área do curso</td>\n",
       "      <td>NaN</td>\n",
       "      <td>NaN</td>\n",
       "      <td>Regime Integral</td>\n",
       "      <td>NaN</td>\n",
       "      <td>NaN</td>\n",
       "      <td>Unimed Franca</td>\n",
       "      <td>NaN</td>\n",
       "      <td>NaN</td>\n",
       "      <td>Tenho e é pago integralmente pela empresa</td>\n",
       "      <td>NaN</td>\n",
       "      <td>NaN</td>\n",
       "      <td>Ensino Fundamental II (6º ao 9º ano)</td>\n",
       "      <td>NaN</td>\n",
       "      <td>NaN</td>\n",
       "      <td>Nenhuma escolaridade</td>\n",
       "      <td>NaN</td>\n",
       "      <td>NaN</td>\n",
       "      <td>Sempre na escola pública</td>\n",
       "      <td>NaN</td>\n",
       "      <td>NaN</td>\n",
       "      <td>NaN</td>\n",
       "      <td>NaN</td>\n",
       "      <td>Não</td>\n",
       "      <td>NaN</td>\n",
       "      <td>NaN</td>\n",
       "      <td>Sim</td>\n",
       "      <td>NaN</td>\n",
       "      <td>NaN</td>\n",
       "      <td>Sim</td>\n",
       "      <td>NaN</td>\n",
       "      <td>NaN</td>\n",
       "      <td>Sim</td>\n",
       "      <td>NaN</td>\n",
       "      <td>NaN</td>\n",
       "      <td>NaN</td>\n",
       "      <td>NaN</td>\n",
       "      <td>Sim</td>\n",
       "      <td>NaN</td>\n",
       "      <td>NaN</td>\n",
       "      <td>Sim</td>\n",
       "      <td>NaN</td>\n",
       "      <td>NaN</td>\n",
       "      <td>Sim</td>\n",
       "      <td>NaN</td>\n",
       "      <td>NaN</td>\n",
       "      <td>Sim</td>\n",
       "      <td>NaN</td>\n",
       "      <td>NaN</td>\n",
       "      <td>Não</td>\n",
       "      <td>NaN</td>\n",
       "      <td>NaN</td>\n",
       "      <td>Sim</td>\n",
       "      <td>NaN</td>\n",
       "      <td>NaN</td>\n",
       "      <td>NaN</td>\n",
       "      <td>NaN</td>\n",
       "      <td>Sim</td>\n",
       "      <td>NaN</td>\n",
       "      <td>NaN</td>\n",
       "      <td>Sim</td>\n",
       "      <td>NaN</td>\n",
       "      <td>NaN</td>\n",
       "      <td>Sim</td>\n",
       "      <td>NaN</td>\n",
       "      <td>NaN</td>\n",
       "      <td>Sim</td>\n",
       "      <td>NaN</td>\n",
       "      <td>NaN</td>\n",
       "      <td>NaN</td>\n",
       "      <td>NaN</td>\n",
       "      <td>Sim</td>\n",
       "      <td>NaN</td>\n",
       "      <td>NaN</td>\n",
       "      <td>Sim</td>\n",
       "      <td>NaN</td>\n",
       "      <td>NaN</td>\n",
       "      <td>Sim</td>\n",
       "      <td>NaN</td>\n",
       "      <td>NaN</td>\n",
       "      <td>Sim</td>\n",
       "      <td>NaN</td>\n",
       "      <td>NaN</td>\n",
       "      <td>Sim</td>\n",
       "      <td>NaN</td>\n",
       "      <td>NaN</td>\n",
       "      <td>Sim</td>\n",
       "      <td>NaN</td>\n",
       "      <td>NaN</td>\n",
       "      <td>NaN</td>\n",
       "      <td>NaN</td>\n",
       "      <td>Sim</td>\n",
       "      <td>NaN</td>\n",
       "      <td>NaN</td>\n",
       "      <td>Sim</td>\n",
       "      <td>NaN</td>\n",
       "      <td>NaN</td>\n",
       "      <td>Sim</td>\n",
       "      <td>NaN</td>\n",
       "      <td>NaN</td>\n",
       "      <td>Sim</td>\n",
       "      <td>NaN</td>\n",
       "      <td>NaN</td>\n",
       "      <td>NaN</td>\n",
       "      <td>NaN</td>\n",
       "      <td>Sim</td>\n",
       "      <td>NaN</td>\n",
       "      <td>NaN</td>\n",
       "      <td>Sim</td>\n",
       "      <td>NaN</td>\n",
       "      <td>NaN</td>\n",
       "      <td>Sim</td>\n",
       "      <td>NaN</td>\n",
       "      <td>NaN</td>\n",
       "      <td>Sim</td>\n",
       "      <td>NaN</td>\n",
       "      <td>NaN</td>\n",
       "      <td>Sim</td>\n",
       "      <td>NaN</td>\n",
       "      <td>NaN</td>\n",
       "      <td>Sim</td>\n",
       "      <td>NaN</td>\n",
       "      <td>NaN</td>\n",
       "      <td>Intermediário</td>\n",
       "      <td>NaN</td>\n",
       "      <td>NaN</td>\n",
       "      <td>NaN</td>\n",
       "      <td>NaN</td>\n",
       "      <td>Intermediário</td>\n",
       "      <td>NaN</td>\n",
       "      <td>NaN</td>\n",
       "      <td>Nenhum</td>\n",
       "      <td>NaN</td>\n",
       "      <td>NaN</td>\n",
       "      <td>Intermediário</td>\n",
       "      <td>NaN</td>\n",
       "      <td>NaN</td>\n",
       "      <td>Intermediário</td>\n",
       "      <td>NaN</td>\n",
       "      <td>NaN</td>\n",
       "      <td>Intermediário</td>\n",
       "      <td>NaN</td>\n",
       "      <td>NaN</td>\n",
       "      <td>Intermediário</td>\n",
       "      <td>NaN</td>\n",
       "      <td>NaN</td>\n",
       "      <td>NaN</td>\n",
       "      <td>NaN</td>\n",
       "      <td>Leio e escrevo mas não falo</td>\n",
       "      <td>NaN</td>\n",
       "      <td>NaN</td>\n",
       "      <td>Leio e escrevo mas não falo</td>\n",
       "      <td>NaN</td>\n",
       "      <td>NaN</td>\n",
       "      <td>Praticamente nulo</td>\n",
       "      <td>NaN</td>\n",
       "      <td>NaN</td>\n",
       "      <td>NaN</td>\n",
       "      <td>NaN</td>\n",
       "      <td>Pouco</td>\n",
       "      <td>NaN</td>\n",
       "      <td>NaN</td>\n",
       "      <td>Sempre</td>\n",
       "      <td>NaN</td>\n",
       "      <td>NaN</td>\n",
       "      <td>Nunca</td>\n",
       "      <td>NaN</td>\n",
       "      <td>NaN</td>\n",
       "      <td>Nunca</td>\n",
       "      <td>NaN</td>\n",
       "      <td>NaN</td>\n",
       "      <td>Nunca</td>\n",
       "      <td>NaN</td>\n",
       "      <td>NaN</td>\n",
       "      <td>Às vezes</td>\n",
       "      <td>NaN</td>\n",
       "      <td>NaN</td>\n",
       "      <td>Pouco</td>\n",
       "      <td>NaN</td>\n",
       "      <td>NaN</td>\n",
       "      <td>Até 2</td>\n",
       "      <td>NaN</td>\n",
       "      <td>NaN</td>\n",
       "      <td>Ficção;Autoajuda;Outros:;</td>\n",
       "      <td>NaN</td>\n",
       "      <td>NaN</td>\n",
       "      <td>Não</td>\n",
       "      <td>NaN</td>\n",
       "      <td>NaN</td>\n",
       "      <td>Evangélica</td>\n",
       "      <td>NaN</td>\n",
       "      <td>NaN</td>\n",
       "      <td>Cinema;Filmes na internet;Música;TV;</td>\n",
       "      <td>NaN</td>\n",
       "      <td>NaN</td>\n",
       "      <td>Propaganda na escola que estudava</td>\n",
       "      <td>NaN</td>\n",
       "      <td>NaN</td>\n",
       "      <td>Este curso forma profissionais facilmente abso...</td>\n",
       "      <td>NaN</td>\n",
       "      <td>NaN</td>\n",
       "      <td>Obter novos conhecimentos;Obter competências p...</td>\n",
       "      <td>NaN</td>\n",
       "      <td>NaN</td>\n",
       "      <td>Melhorar cargo e salário na empresa que trabalho;</td>\n",
       "      <td>NaN</td>\n",
       "      <td>NaN</td>\n",
       "      <td>Não</td>\n",
       "      <td>NaN</td>\n",
       "      <td>NaN</td>\n",
       "      <td>Sim, em outra instituição</td>\n",
       "      <td>NaN</td>\n",
       "      <td>NaN</td>\n",
       "      <td>Carro;Ônibus;</td>\n",
       "      <td>NaN</td>\n",
       "      <td>NaN</td>\n",
       "      <td>Tenho 19 anos, busco me desenvolver e consolid...</td>\n",
       "      <td>NaN</td>\n",
       "      <td>NaN</td>\n",
       "    </tr>\n",
       "    <tr>\n",
       "      <th>3</th>\n",
       "      <td>4</td>\n",
       "      <td>2025-03-22 11:54:12</td>\n",
       "      <td>2025-03-22 12:02:12</td>\n",
       "      <td>eduardo.santos216@fatec.sp.gov.br</td>\n",
       "      <td>EDUARDO SANTOS</td>\n",
       "      <td>NaN</td>\n",
       "      <td>NaN</td>\n",
       "      <td>NaN</td>\n",
       "      <td>Análise e Desenvolvimento de Sistemas (ADS)</td>\n",
       "      <td>NaN</td>\n",
       "      <td>NaN</td>\n",
       "      <td>Noturno</td>\n",
       "      <td>NaN</td>\n",
       "      <td>NaN</td>\n",
       "      <td>1090482423038</td>\n",
       "      <td>NaN</td>\n",
       "      <td>NaN</td>\n",
       "      <td>Minas Gerais (MG)</td>\n",
       "      <td>NaN</td>\n",
       "      <td>NaN</td>\n",
       "      <td>Capetinga</td>\n",
       "      <td>NaN</td>\n",
       "      <td>NaN</td>\n",
       "      <td>Masculino</td>\n",
       "      <td>NaN</td>\n",
       "      <td>NaN</td>\n",
       "      <td>2004-06-11</td>\n",
       "      <td>NaN</td>\n",
       "      <td>NaN</td>\n",
       "      <td>Solteiro(a)</td>\n",
       "      <td>NaN</td>\n",
       "      <td>NaN</td>\n",
       "      <td>Nenhuma;</td>\n",
       "      <td>NaN</td>\n",
       "      <td>NaN</td>\n",
       "      <td>Nenhum</td>\n",
       "      <td>NaN</td>\n",
       "      <td>NaN</td>\n",
       "      <td>Com pais e(ou) parentes</td>\n",
       "      <td>NaN</td>\n",
       "      <td>NaN</td>\n",
       "      <td>5</td>\n",
       "      <td>NaN</td>\n",
       "      <td>NaN</td>\n",
       "      <td>Financiado</td>\n",
       "      <td>NaN</td>\n",
       "      <td>NaN</td>\n",
       "      <td>25 à 48 meses</td>\n",
       "      <td>NaN</td>\n",
       "      <td>NaN</td>\n",
       "      <td>De R$ 4.554,01 até R$ 6.072,00</td>\n",
       "      <td>NaN</td>\n",
       "      <td>NaN</td>\n",
       "      <td>NaN</td>\n",
       "      <td>NaN</td>\n",
       "      <td>2</td>\n",
       "      <td>NaN</td>\n",
       "      <td>NaN</td>\n",
       "      <td>Nenhum</td>\n",
       "      <td>NaN</td>\n",
       "      <td>NaN</td>\n",
       "      <td>1</td>\n",
       "      <td>NaN</td>\n",
       "      <td>NaN</td>\n",
       "      <td>2</td>\n",
       "      <td>NaN</td>\n",
       "      <td>NaN</td>\n",
       "      <td>1</td>\n",
       "      <td>NaN</td>\n",
       "      <td>NaN</td>\n",
       "      <td>1</td>\n",
       "      <td>NaN</td>\n",
       "      <td>NaN</td>\n",
       "      <td>1</td>\n",
       "      <td>NaN</td>\n",
       "      <td>NaN</td>\n",
       "      <td>4 ou +</td>\n",
       "      <td>NaN</td>\n",
       "      <td>NaN</td>\n",
       "      <td>Nenhum</td>\n",
       "      <td>NaN</td>\n",
       "      <td>NaN</td>\n",
       "      <td>1</td>\n",
       "      <td>NaN</td>\n",
       "      <td>NaN</td>\n",
       "      <td>NaN</td>\n",
       "      <td>NaN</td>\n",
       "      <td>Não</td>\n",
       "      <td>NaN</td>\n",
       "      <td>NaN</td>\n",
       "      <td>Sim</td>\n",
       "      <td>NaN</td>\n",
       "      <td>NaN</td>\n",
       "      <td>Sim</td>\n",
       "      <td>NaN</td>\n",
       "      <td>NaN</td>\n",
       "      <td>Não</td>\n",
       "      <td>NaN</td>\n",
       "      <td>NaN</td>\n",
       "      <td>Sim</td>\n",
       "      <td>NaN</td>\n",
       "      <td>NaN</td>\n",
       "      <td>Sou registrado(a) em empresa pública (federal/...</td>\n",
       "      <td>NaN</td>\n",
       "      <td>NaN</td>\n",
       "      <td>Trabalho fora da área do curso</td>\n",
       "      <td>NaN</td>\n",
       "      <td>NaN</td>\n",
       "      <td>Regime Integral</td>\n",
       "      <td>NaN</td>\n",
       "      <td>NaN</td>\n",
       "      <td>Prefeitura Municipal de Capetinga</td>\n",
       "      <td>NaN</td>\n",
       "      <td>NaN</td>\n",
       "      <td>Não tenho, uso o SUS</td>\n",
       "      <td>NaN</td>\n",
       "      <td>NaN</td>\n",
       "      <td>Ensino Fundamental I (1 ao 5º ano)</td>\n",
       "      <td>NaN</td>\n",
       "      <td>NaN</td>\n",
       "      <td>Ensino fundamental I (1º ao 5º ano)</td>\n",
       "      <td>NaN</td>\n",
       "      <td>NaN</td>\n",
       "      <td>Sempre na escola pública</td>\n",
       "      <td>NaN</td>\n",
       "      <td>NaN</td>\n",
       "      <td>NaN</td>\n",
       "      <td>NaN</td>\n",
       "      <td>Não</td>\n",
       "      <td>NaN</td>\n",
       "      <td>NaN</td>\n",
       "      <td>Não</td>\n",
       "      <td>NaN</td>\n",
       "      <td>NaN</td>\n",
       "      <td>Não</td>\n",
       "      <td>NaN</td>\n",
       "      <td>NaN</td>\n",
       "      <td>Não</td>\n",
       "      <td>NaN</td>\n",
       "      <td>NaN</td>\n",
       "      <td>NaN</td>\n",
       "      <td>NaN</td>\n",
       "      <td>Não</td>\n",
       "      <td>NaN</td>\n",
       "      <td>NaN</td>\n",
       "      <td>Não</td>\n",
       "      <td>NaN</td>\n",
       "      <td>NaN</td>\n",
       "      <td>Não</td>\n",
       "      <td>NaN</td>\n",
       "      <td>NaN</td>\n",
       "      <td>Não</td>\n",
       "      <td>NaN</td>\n",
       "      <td>NaN</td>\n",
       "      <td>Não</td>\n",
       "      <td>NaN</td>\n",
       "      <td>NaN</td>\n",
       "      <td>Não</td>\n",
       "      <td>NaN</td>\n",
       "      <td>NaN</td>\n",
       "      <td>NaN</td>\n",
       "      <td>NaN</td>\n",
       "      <td>Sim</td>\n",
       "      <td>NaN</td>\n",
       "      <td>NaN</td>\n",
       "      <td>Não</td>\n",
       "      <td>NaN</td>\n",
       "      <td>NaN</td>\n",
       "      <td>Sim</td>\n",
       "      <td>NaN</td>\n",
       "      <td>NaN</td>\n",
       "      <td>Sim</td>\n",
       "      <td>NaN</td>\n",
       "      <td>NaN</td>\n",
       "      <td>NaN</td>\n",
       "      <td>NaN</td>\n",
       "      <td>Sim</td>\n",
       "      <td>NaN</td>\n",
       "      <td>NaN</td>\n",
       "      <td>Sim</td>\n",
       "      <td>NaN</td>\n",
       "      <td>NaN</td>\n",
       "      <td>Sim</td>\n",
       "      <td>NaN</td>\n",
       "      <td>NaN</td>\n",
       "      <td>Sim</td>\n",
       "      <td>NaN</td>\n",
       "      <td>NaN</td>\n",
       "      <td>Sim</td>\n",
       "      <td>NaN</td>\n",
       "      <td>NaN</td>\n",
       "      <td>Sim</td>\n",
       "      <td>NaN</td>\n",
       "      <td>NaN</td>\n",
       "      <td>NaN</td>\n",
       "      <td>NaN</td>\n",
       "      <td>Sim</td>\n",
       "      <td>NaN</td>\n",
       "      <td>NaN</td>\n",
       "      <td>Sim</td>\n",
       "      <td>NaN</td>\n",
       "      <td>NaN</td>\n",
       "      <td>Sim</td>\n",
       "      <td>NaN</td>\n",
       "      <td>NaN</td>\n",
       "      <td>Sim</td>\n",
       "      <td>NaN</td>\n",
       "      <td>NaN</td>\n",
       "      <td>NaN</td>\n",
       "      <td>NaN</td>\n",
       "      <td>Não</td>\n",
       "      <td>NaN</td>\n",
       "      <td>NaN</td>\n",
       "      <td>Sim</td>\n",
       "      <td>NaN</td>\n",
       "      <td>NaN</td>\n",
       "      <td>Sim</td>\n",
       "      <td>NaN</td>\n",
       "      <td>NaN</td>\n",
       "      <td>Sim</td>\n",
       "      <td>NaN</td>\n",
       "      <td>NaN</td>\n",
       "      <td>Sim</td>\n",
       "      <td>NaN</td>\n",
       "      <td>NaN</td>\n",
       "      <td>Sim</td>\n",
       "      <td>NaN</td>\n",
       "      <td>NaN</td>\n",
       "      <td>Pouco</td>\n",
       "      <td>NaN</td>\n",
       "      <td>NaN</td>\n",
       "      <td>NaN</td>\n",
       "      <td>NaN</td>\n",
       "      <td>Pouco</td>\n",
       "      <td>NaN</td>\n",
       "      <td>NaN</td>\n",
       "      <td>Pouco</td>\n",
       "      <td>NaN</td>\n",
       "      <td>NaN</td>\n",
       "      <td>Pouco</td>\n",
       "      <td>NaN</td>\n",
       "      <td>NaN</td>\n",
       "      <td>Pouco</td>\n",
       "      <td>NaN</td>\n",
       "      <td>NaN</td>\n",
       "      <td>Pouco</td>\n",
       "      <td>NaN</td>\n",
       "      <td>NaN</td>\n",
       "      <td>Nenhum</td>\n",
       "      <td>NaN</td>\n",
       "      <td>NaN</td>\n",
       "      <td>NaN</td>\n",
       "      <td>NaN</td>\n",
       "      <td>Leio mas não escrevo e nem falo</td>\n",
       "      <td>NaN</td>\n",
       "      <td>NaN</td>\n",
       "      <td>Praticamente nulo</td>\n",
       "      <td>NaN</td>\n",
       "      <td>NaN</td>\n",
       "      <td>Praticamente nulo</td>\n",
       "      <td>NaN</td>\n",
       "      <td>NaN</td>\n",
       "      <td>NaN</td>\n",
       "      <td>NaN</td>\n",
       "      <td>Pouco</td>\n",
       "      <td>NaN</td>\n",
       "      <td>NaN</td>\n",
       "      <td>Muito</td>\n",
       "      <td>NaN</td>\n",
       "      <td>NaN</td>\n",
       "      <td>Nunca</td>\n",
       "      <td>NaN</td>\n",
       "      <td>NaN</td>\n",
       "      <td>Pouco</td>\n",
       "      <td>NaN</td>\n",
       "      <td>NaN</td>\n",
       "      <td>Nunca</td>\n",
       "      <td>NaN</td>\n",
       "      <td>NaN</td>\n",
       "      <td>Muito</td>\n",
       "      <td>NaN</td>\n",
       "      <td>NaN</td>\n",
       "      <td>Às vezes</td>\n",
       "      <td>NaN</td>\n",
       "      <td>NaN</td>\n",
       "      <td>Até 2</td>\n",
       "      <td>NaN</td>\n",
       "      <td>NaN</td>\n",
       "      <td>Ficção;Aventura;Autoajuda;</td>\n",
       "      <td>NaN</td>\n",
       "      <td>NaN</td>\n",
       "      <td>Sim</td>\n",
       "      <td>NaN</td>\n",
       "      <td>NaN</td>\n",
       "      <td>Católica</td>\n",
       "      <td>NaN</td>\n",
       "      <td>NaN</td>\n",
       "      <td>Música;</td>\n",
       "      <td>NaN</td>\n",
       "      <td>NaN</td>\n",
       "      <td>Indicação de familiar/amigo</td>\n",
       "      <td>NaN</td>\n",
       "      <td>NaN</td>\n",
       "      <td>Este curso forma profissionais que são bem rem...</td>\n",
       "      <td>NaN</td>\n",
       "      <td>NaN</td>\n",
       "      <td>Obter competências para exercício de uma profi...</td>\n",
       "      <td>NaN</td>\n",
       "      <td>NaN</td>\n",
       "      <td>Prestar concurso público;Ingressar na carreira...</td>\n",
       "      <td>NaN</td>\n",
       "      <td>NaN</td>\n",
       "      <td>Não</td>\n",
       "      <td>NaN</td>\n",
       "      <td>NaN</td>\n",
       "      <td>Não fiz</td>\n",
       "      <td>NaN</td>\n",
       "      <td>NaN</td>\n",
       "      <td>Ônibus;</td>\n",
       "      <td>NaN</td>\n",
       "      <td>NaN</td>\n",
       "      <td>Estou em busca de mais conhecimento e aprendiz...</td>\n",
       "      <td>NaN</td>\n",
       "      <td>NaN</td>\n",
       "    </tr>\n",
       "    <tr>\n",
       "      <th>4</th>\n",
       "      <td>5</td>\n",
       "      <td>2025-03-22 12:18:08</td>\n",
       "      <td>2025-03-22 12:30:16</td>\n",
       "      <td>silvio.peroni@fatec.sp.gov.br</td>\n",
       "      <td>SILVIO PERONI</td>\n",
       "      <td>NaN</td>\n",
       "      <td>NaN</td>\n",
       "      <td>NaN</td>\n",
       "      <td>Análise e Desenvolvimento de Sistemas (ADS)</td>\n",
       "      <td>NaN</td>\n",
       "      <td>NaN</td>\n",
       "      <td>Matutino</td>\n",
       "      <td>NaN</td>\n",
       "      <td>NaN</td>\n",
       "      <td>1090482421027</td>\n",
       "      <td>NaN</td>\n",
       "      <td>NaN</td>\n",
       "      <td>Minas Gerais (MG)</td>\n",
       "      <td>NaN</td>\n",
       "      <td>NaN</td>\n",
       "      <td>Franca</td>\n",
       "      <td>NaN</td>\n",
       "      <td>NaN</td>\n",
       "      <td>Masculino</td>\n",
       "      <td>NaN</td>\n",
       "      <td>NaN</td>\n",
       "      <td>1964-07-08</td>\n",
       "      <td>NaN</td>\n",
       "      <td>NaN</td>\n",
       "      <td>Casado(a)/União Estável</td>\n",
       "      <td>NaN</td>\n",
       "      <td>NaN</td>\n",
       "      <td>Nenhuma;</td>\n",
       "      <td>NaN</td>\n",
       "      <td>NaN</td>\n",
       "      <td>4 ou mais</td>\n",
       "      <td>NaN</td>\n",
       "      <td>NaN</td>\n",
       "      <td>Com esposa(o) e (ou) filhos</td>\n",
       "      <td>NaN</td>\n",
       "      <td>NaN</td>\n",
       "      <td>4</td>\n",
       "      <td>NaN</td>\n",
       "      <td>NaN</td>\n",
       "      <td>Financiado</td>\n",
       "      <td>NaN</td>\n",
       "      <td>NaN</td>\n",
       "      <td>61 meses ou mais</td>\n",
       "      <td>NaN</td>\n",
       "      <td>NaN</td>\n",
       "      <td>De R$ 4.554,01 até R$ 6.072,00</td>\n",
       "      <td>NaN</td>\n",
       "      <td>NaN</td>\n",
       "      <td>NaN</td>\n",
       "      <td>NaN</td>\n",
       "      <td>2</td>\n",
       "      <td>NaN</td>\n",
       "      <td>NaN</td>\n",
       "      <td>Nenhum</td>\n",
       "      <td>NaN</td>\n",
       "      <td>NaN</td>\n",
       "      <td>1</td>\n",
       "      <td>NaN</td>\n",
       "      <td>NaN</td>\n",
       "      <td>2</td>\n",
       "      <td>NaN</td>\n",
       "      <td>NaN</td>\n",
       "      <td>Nenhum</td>\n",
       "      <td>NaN</td>\n",
       "      <td>NaN</td>\n",
       "      <td>1</td>\n",
       "      <td>NaN</td>\n",
       "      <td>NaN</td>\n",
       "      <td>2</td>\n",
       "      <td>NaN</td>\n",
       "      <td>NaN</td>\n",
       "      <td>4 ou +</td>\n",
       "      <td>NaN</td>\n",
       "      <td>NaN</td>\n",
       "      <td>Nenhum</td>\n",
       "      <td>NaN</td>\n",
       "      <td>NaN</td>\n",
       "      <td>4 ou +</td>\n",
       "      <td>NaN</td>\n",
       "      <td>NaN</td>\n",
       "      <td>NaN</td>\n",
       "      <td>NaN</td>\n",
       "      <td>Não</td>\n",
       "      <td>NaN</td>\n",
       "      <td>NaN</td>\n",
       "      <td>Sim</td>\n",
       "      <td>NaN</td>\n",
       "      <td>NaN</td>\n",
       "      <td>Não</td>\n",
       "      <td>NaN</td>\n",
       "      <td>NaN</td>\n",
       "      <td>Não</td>\n",
       "      <td>NaN</td>\n",
       "      <td>NaN</td>\n",
       "      <td>Não</td>\n",
       "      <td>NaN</td>\n",
       "      <td>NaN</td>\n",
       "      <td>Não trabalho</td>\n",
       "      <td>NaN</td>\n",
       "      <td>NaN</td>\n",
       "      <td>Não trabalho</td>\n",
       "      <td>NaN</td>\n",
       "      <td>NaN</td>\n",
       "      <td>Não trabalho</td>\n",
       "      <td>NaN</td>\n",
       "      <td>NaN</td>\n",
       "      <td>Aposentado</td>\n",
       "      <td>NaN</td>\n",
       "      <td>NaN</td>\n",
       "      <td>Tenho e é um plano familiar</td>\n",
       "      <td>NaN</td>\n",
       "      <td>NaN</td>\n",
       "      <td>Nenhuma escolaridade</td>\n",
       "      <td>NaN</td>\n",
       "      <td>NaN</td>\n",
       "      <td>Nenhuma escolaridade</td>\n",
       "      <td>NaN</td>\n",
       "      <td>NaN</td>\n",
       "      <td>Sempre na escola pública</td>\n",
       "      <td>NaN</td>\n",
       "      <td>NaN</td>\n",
       "      <td>NaN</td>\n",
       "      <td>NaN</td>\n",
       "      <td>Sim</td>\n",
       "      <td>NaN</td>\n",
       "      <td>NaN</td>\n",
       "      <td>Não</td>\n",
       "      <td>NaN</td>\n",
       "      <td>NaN</td>\n",
       "      <td>Sim</td>\n",
       "      <td>NaN</td>\n",
       "      <td>NaN</td>\n",
       "      <td>Sim</td>\n",
       "      <td>NaN</td>\n",
       "      <td>NaN</td>\n",
       "      <td>NaN</td>\n",
       "      <td>NaN</td>\n",
       "      <td>Não</td>\n",
       "      <td>NaN</td>\n",
       "      <td>NaN</td>\n",
       "      <td>Não</td>\n",
       "      <td>NaN</td>\n",
       "      <td>NaN</td>\n",
       "      <td>Não</td>\n",
       "      <td>NaN</td>\n",
       "      <td>NaN</td>\n",
       "      <td>Não</td>\n",
       "      <td>NaN</td>\n",
       "      <td>NaN</td>\n",
       "      <td>Não</td>\n",
       "      <td>NaN</td>\n",
       "      <td>NaN</td>\n",
       "      <td>Não</td>\n",
       "      <td>NaN</td>\n",
       "      <td>NaN</td>\n",
       "      <td>NaN</td>\n",
       "      <td>NaN</td>\n",
       "      <td>Sim</td>\n",
       "      <td>NaN</td>\n",
       "      <td>NaN</td>\n",
       "      <td>Não</td>\n",
       "      <td>NaN</td>\n",
       "      <td>NaN</td>\n",
       "      <td>Sim</td>\n",
       "      <td>NaN</td>\n",
       "      <td>NaN</td>\n",
       "      <td>Sim</td>\n",
       "      <td>NaN</td>\n",
       "      <td>NaN</td>\n",
       "      <td>NaN</td>\n",
       "      <td>NaN</td>\n",
       "      <td>Não</td>\n",
       "      <td>NaN</td>\n",
       "      <td>NaN</td>\n",
       "      <td>Sim</td>\n",
       "      <td>NaN</td>\n",
       "      <td>NaN</td>\n",
       "      <td>Sim</td>\n",
       "      <td>NaN</td>\n",
       "      <td>NaN</td>\n",
       "      <td>Sim</td>\n",
       "      <td>NaN</td>\n",
       "      <td>NaN</td>\n",
       "      <td>Sim</td>\n",
       "      <td>NaN</td>\n",
       "      <td>NaN</td>\n",
       "      <td>Sim</td>\n",
       "      <td>NaN</td>\n",
       "      <td>NaN</td>\n",
       "      <td>NaN</td>\n",
       "      <td>NaN</td>\n",
       "      <td>Sim</td>\n",
       "      <td>NaN</td>\n",
       "      <td>NaN</td>\n",
       "      <td>Não</td>\n",
       "      <td>NaN</td>\n",
       "      <td>NaN</td>\n",
       "      <td>Sim</td>\n",
       "      <td>NaN</td>\n",
       "      <td>NaN</td>\n",
       "      <td>Sim</td>\n",
       "      <td>NaN</td>\n",
       "      <td>NaN</td>\n",
       "      <td>NaN</td>\n",
       "      <td>NaN</td>\n",
       "      <td>Não</td>\n",
       "      <td>NaN</td>\n",
       "      <td>NaN</td>\n",
       "      <td>Sim</td>\n",
       "      <td>NaN</td>\n",
       "      <td>NaN</td>\n",
       "      <td>Sim</td>\n",
       "      <td>NaN</td>\n",
       "      <td>NaN</td>\n",
       "      <td>Sim</td>\n",
       "      <td>NaN</td>\n",
       "      <td>NaN</td>\n",
       "      <td>Sim</td>\n",
       "      <td>NaN</td>\n",
       "      <td>NaN</td>\n",
       "      <td>Sim</td>\n",
       "      <td>NaN</td>\n",
       "      <td>NaN</td>\n",
       "      <td>Pouco</td>\n",
       "      <td>NaN</td>\n",
       "      <td>NaN</td>\n",
       "      <td>NaN</td>\n",
       "      <td>NaN</td>\n",
       "      <td>Pouco</td>\n",
       "      <td>NaN</td>\n",
       "      <td>NaN</td>\n",
       "      <td>Nenhum</td>\n",
       "      <td>NaN</td>\n",
       "      <td>NaN</td>\n",
       "      <td>Intermediário</td>\n",
       "      <td>NaN</td>\n",
       "      <td>NaN</td>\n",
       "      <td>Pouco</td>\n",
       "      <td>NaN</td>\n",
       "      <td>NaN</td>\n",
       "      <td>Pouco</td>\n",
       "      <td>NaN</td>\n",
       "      <td>NaN</td>\n",
       "      <td>Nenhum</td>\n",
       "      <td>NaN</td>\n",
       "      <td>NaN</td>\n",
       "      <td>NaN</td>\n",
       "      <td>NaN</td>\n",
       "      <td>Leio mas não escrevo e nem falo</td>\n",
       "      <td>NaN</td>\n",
       "      <td>NaN</td>\n",
       "      <td>Leio, escrevo e falo bem</td>\n",
       "      <td>NaN</td>\n",
       "      <td>NaN</td>\n",
       "      <td>Leio, escrevo e falo bem</td>\n",
       "      <td>NaN</td>\n",
       "      <td>NaN</td>\n",
       "      <td>NaN</td>\n",
       "      <td>NaN</td>\n",
       "      <td>Pouco</td>\n",
       "      <td>NaN</td>\n",
       "      <td>NaN</td>\n",
       "      <td>Às vezes</td>\n",
       "      <td>NaN</td>\n",
       "      <td>NaN</td>\n",
       "      <td>Nunca</td>\n",
       "      <td>NaN</td>\n",
       "      <td>NaN</td>\n",
       "      <td>Pouco</td>\n",
       "      <td>NaN</td>\n",
       "      <td>NaN</td>\n",
       "      <td>Pouco</td>\n",
       "      <td>NaN</td>\n",
       "      <td>NaN</td>\n",
       "      <td>Muito</td>\n",
       "      <td>NaN</td>\n",
       "      <td>NaN</td>\n",
       "      <td>Muito</td>\n",
       "      <td>NaN</td>\n",
       "      <td>NaN</td>\n",
       "      <td>Até 2</td>\n",
       "      <td>NaN</td>\n",
       "      <td>NaN</td>\n",
       "      <td>Outros:;</td>\n",
       "      <td>NaN</td>\n",
       "      <td>NaN</td>\n",
       "      <td>Sim</td>\n",
       "      <td>NaN</td>\n",
       "      <td>NaN</td>\n",
       "      <td>Católica</td>\n",
       "      <td>NaN</td>\n",
       "      <td>NaN</td>\n",
       "      <td>Filmes na internet;Música;</td>\n",
       "      <td>NaN</td>\n",
       "      <td>NaN</td>\n",
       "      <td>Propaganda na escola que estudava</td>\n",
       "      <td>NaN</td>\n",
       "      <td>NaN</td>\n",
       "      <td>Este curso forma profissionais que são bem rem...</td>\n",
       "      <td>NaN</td>\n",
       "      <td>NaN</td>\n",
       "      <td>Obter competências para exercício de uma profi...</td>\n",
       "      <td>NaN</td>\n",
       "      <td>NaN</td>\n",
       "      <td>Abrir meu próprio negócio;</td>\n",
       "      <td>NaN</td>\n",
       "      <td>NaN</td>\n",
       "      <td>Não</td>\n",
       "      <td>NaN</td>\n",
       "      <td>NaN</td>\n",
       "      <td>Não fiz</td>\n",
       "      <td>NaN</td>\n",
       "      <td>NaN</td>\n",
       "      <td>Caminhando;</td>\n",
       "      <td>NaN</td>\n",
       "      <td>NaN</td>\n",
       "      <td>Aposentado com 32 anos de magistério em matemá...</td>\n",
       "      <td>NaN</td>\n",
       "      <td>NaN</td>\n",
       "    </tr>\n",
       "  </tbody>\n",
       "</table>\n",
       "</div>"
      ],
      "text/plain": [
       "   ID      Hora de início   Hora de conclusão                              Email            Nome  Total de pontos  Comentários do teste  Hora da última modificação                            Qual o seu curso?  Pontos – Qual o seu curso?  Comentários – Qual o seu curso? Qual o período que cursa?*  Pontos – Qual o período que cursa?*  Comentários – Qual o período que cursa?*  Informe o número do seu RA:  Pontos – Informe o número do seu RA:  Comentários – Informe o número do seu RA: Qual o estado você nasceu?*  Pontos – Qual o estado você nasceu?*  Comentários – Qual o estado você nasceu?* Em qual cidade você reside?  Pontos – Em qual cidade você reside?  Comentários – Em qual cidade você reside? Qual é o seu gênero?  Pontos – Qual é o seu gênero?  Comentários – Qual é o seu gênero? Qual a sua data de nascimento?  Pontos – Qual a sua data de nascimento?  Comentários – Qual a sua data de nascimento? Qual é o seu estado civil?  Pontos – Qual é o seu estado civil?  \\\n",
       "0   1 2025-03-22 09:07:42 2025-03-22 09:12:12   gabriela.sousa14@fatec.sp.gov.br  GABRIELA SOUSA              NaN                   NaN                         NaN  Análise e Desenvolvimento de Sistemas (ADS)                         NaN                              NaN                    Noturno                                  NaN                                       NaN                1090482423006                                   NaN                                        NaN              São Paulo (SP)                                   NaN                                        NaN                      Franca                                   NaN                                        NaN             Feminino                            NaN                                 NaN                     2000-03-08                                      NaN                                           NaN                Solteiro(a)                                  NaN   \n",
       "1   2 2025-03-22 09:23:35 2025-03-22 09:43:20   larissa.silva259@fatec.sp.gov.br   LARISSA SILVA              NaN                   NaN                         NaN  Análise e Desenvolvimento de Sistemas (ADS)                         NaN                              NaN                    Noturno                                  NaN                                       NaN                1090482423011                                   NaN                                        NaN              São Paulo (SP)                                   NaN                                        NaN                      Franca                                   NaN                                        NaN             Feminino                            NaN                                 NaN                     2006-04-15                                      NaN                                           NaN                Solteiro(a)                                  NaN   \n",
       "2   3 2025-03-22 09:37:26 2025-03-22 09:51:53         ryan.cruz2@fatec.sp.gov.br       RYAN CRUZ              NaN                   NaN                         NaN  Análise e Desenvolvimento de Sistemas (ADS)                         NaN                              NaN                    Noturno                                  NaN                                       NaN                1090482423002                                   NaN                                        NaN              São Paulo (SP)                                   NaN                                        NaN                      Franca                                   NaN                                        NaN            Masculino                            NaN                                 NaN                     2005-06-09                                      NaN                                           NaN                Solteiro(a)                                  NaN   \n",
       "3   4 2025-03-22 11:54:12 2025-03-22 12:02:12  eduardo.santos216@fatec.sp.gov.br  EDUARDO SANTOS              NaN                   NaN                         NaN  Análise e Desenvolvimento de Sistemas (ADS)                         NaN                              NaN                    Noturno                                  NaN                                       NaN                1090482423038                                   NaN                                        NaN           Minas Gerais (MG)                                   NaN                                        NaN                   Capetinga                                   NaN                                        NaN            Masculino                            NaN                                 NaN                     2004-06-11                                      NaN                                           NaN                Solteiro(a)                                  NaN   \n",
       "4   5 2025-03-22 12:18:08 2025-03-22 12:30:16      silvio.peroni@fatec.sp.gov.br   SILVIO PERONI              NaN                   NaN                         NaN  Análise e Desenvolvimento de Sistemas (ADS)                         NaN                              NaN                   Matutino                                  NaN                                       NaN                1090482421027                                   NaN                                        NaN           Minas Gerais (MG)                                   NaN                                        NaN                      Franca                                   NaN                                        NaN            Masculino                            NaN                                 NaN                     1964-07-08                                      NaN                                           NaN    Casado(a)/União Estável                                  NaN   \n",
       "\n",
       "   Comentários – Qual é o seu estado civil? Você possui alguma necessidade especial? (Caso tenha mais de uma, pode selecionar todas as opções que se aplicam)  Comentários – Você possui alguma necessidade especial? (Caso tenha mais de uma, pode selecionar todas as opções que se aplicam)  Pontos – Você possui alguma necessidade especial? (Caso tenha mais de uma, pode selecionar todas as opções que se aplicam) Quantos filhos você tem?  Comentários – Quantos filhos você tem?  Pontos – Quantos filhos você tem? Com quem você mora atualmente?  Comentários – Com quem você mora atualmente?  Pontos – Com quem você mora atualmente?  Quantas pessoas, incluindo você, moram no seu domicílio?  Comentários – Quantas pessoas, incluindo você, moram no seu domicílio?  Pontos – Quantas pessoas, incluindo você, moram no seu domicílio? Qual é a situação do domicílio em que você reside?  Comentários – Qual é a situação do domicílio em que você reside?  \\\n",
       "0                                       NaN                                           Nenhuma;                                                                                                               NaN                                                                                                                              NaN                                                                                            Nenhum                                     NaN                                NaN                        Sozinho                                           NaN                                      NaN                                                  1                                                       NaN                                                                     NaN                                                         Financiado                                                NaN                  \n",
       "1                                       NaN                                           Nenhuma;                                                                                                               NaN                                                                                                                              NaN                                                                                            Nenhum                                     NaN                                NaN        Com pais e(ou) parentes                                           NaN                                      NaN                                                  3                                                       NaN                                                                     NaN                                                            Próprio                                                NaN                  \n",
       "2                                       NaN                                           Nenhuma;                                                                                                               NaN                                                                                                                              NaN                                                                                            Nenhum                                     NaN                                NaN        Com pais e(ou) parentes                                           NaN                                      NaN                                                  4                                                       NaN                                                                     NaN                                                            Alugado                                                NaN                  \n",
       "3                                       NaN                                           Nenhuma;                                                                                                               NaN                                                                                                                              NaN                                                                                            Nenhum                                     NaN                                NaN        Com pais e(ou) parentes                                           NaN                                      NaN                                                  5                                                       NaN                                                                     NaN                                                         Financiado                                                NaN                  \n",
       "4                                       NaN                                           Nenhuma;                                                                                                               NaN                                                                                                                              NaN                                                                                         4 ou mais                                     NaN                                NaN    Com esposa(o) e (ou) filhos                                           NaN                                      NaN                                                  4                                                       NaN                                                                     NaN                                                         Financiado                                                NaN                  \n",
       "\n",
       "   Pontos – Qual é a situação do domicílio em que você reside? Há quanto tempo você mora neste domicílio?  Comentários – Há quanto tempo você mora neste domicílio?  Pontos – Há quanto tempo você mora neste domicílio? Qual é a faixa de renda mensal da sua família?  Comentários – Qual é a faixa de renda mensal da sua família?  Pontos – Qual é a faixa de renda mensal da sua família?  Comentários – Quantos de cada um dos itens abaixo há em seu domicílio?  Pontos – Quantos de cada um dos itens abaixo há em seu domicílio? Televisor  Comentários – Televisor  Pontos – Televisor Vídeo cassete e(ou) DVD  Comentários – Vídeo cassete e(ou) DVD  Pontos – Vídeo cassete e(ou) DVD   Rádio  Comentários – Rádio  Pontos – Rádio Automóvel  Comentários – Automóvel  Pontos – Automóvel Motocicleta  Comentários – Motocicleta  Pontos – Motocicleta Máquina de lavar roupa e(ou) tanquinho  Comentários – Máquina de lavar roupa e(ou) tanquinho  Pontos – Máquina de lavar roupa e(ou) tanquinho  Geladeira  \\\n",
       "0                                                NaN                                        13 à 24 meses                                                NaN                                                       NaN                   De R$ 1.518,01 até R$ 3.036,00                                                NaN                                                           NaN                                                      NaN                                                                     NaN                         1                      NaN                 NaN                  Nenhum                                    NaN                               NaN  Nenhum                  NaN             NaN    Nenhum                      NaN                 NaN           1                        NaN                   NaN                                      1                                                NaN                                                 NaN          1   \n",
       "1                                                NaN                                     61 meses ou mais                                                NaN                                                       NaN                   De R$ 3.036,01 até R$ 4.554,00                                                NaN                                                           NaN                                                      NaN                                                                     NaN                         2                      NaN                 NaN                       2                                    NaN                               NaN       1                  NaN             NaN         2                      NaN                 NaN      Nenhum                        NaN                   NaN                                      2                                                NaN                                                 NaN          1   \n",
       "2                                                NaN                                        25 à 48 meses                                                NaN                                                       NaN                   De R$ 3.036,01 até R$ 4.554,00                                                NaN                                                           NaN                                                      NaN                                                                     NaN                         2                      NaN                 NaN                  Nenhum                                    NaN                               NaN  Nenhum                  NaN             NaN         1                      NaN                 NaN      Nenhum                        NaN                   NaN                                      1                                                NaN                                                 NaN          1   \n",
       "3                                                NaN                                        25 à 48 meses                                                NaN                                                       NaN                   De R$ 4.554,01 até R$ 6.072,00                                                NaN                                                           NaN                                                      NaN                                                                     NaN                         2                      NaN                 NaN                  Nenhum                                    NaN                               NaN       1                  NaN             NaN         2                      NaN                 NaN           1                        NaN                   NaN                                      1                                                NaN                                                 NaN          1   \n",
       "4                                                NaN                                     61 meses ou mais                                                NaN                                                       NaN                   De R$ 4.554,01 até R$ 6.072,00                                                NaN                                                           NaN                                                      NaN                                                                     NaN                         2                      NaN                 NaN                  Nenhum                                    NaN                               NaN       1                  NaN             NaN         2                      NaN                 NaN      Nenhum                        NaN                   NaN                                      1                                                NaN                                                 NaN          2   \n",
       "\n",
       "   Comentários – Geladeira  Pontos – Geladeira Celular e(ou) Smartphone  Comentários – Celular e(ou) Smartphone  Pontos – Celular e(ou) Smartphone Microcomputador de mesa/Desktop  Comentários – Microcomputador de mesa/Desktop  Pontos – Microcomputador de mesa/Desktop Notebook  Comentários – Notebook  Pontos – Notebook  Comentários – No seu domicílio você tem:  Pontos – No seu domicílio você tem: Telefone fixo  Comentários – Telefone fixo  Pontos – Telefone fixo Internet  Comentários – Internet  Pontos – Internet TV por assinatura e(ou) Serviços de Streaming  Comentários – TV por assinatura e(ou) Serviços de Streaming  Pontos – TV por assinatura e(ou) Serviços de Streaming Empregada mensalista  Comentários – Empregada mensalista  Pontos – Empregada mensalista Você trabalha?  Comentários – Você trabalha?  Pontos – Você trabalha?                  Qual é seu vínculo com o emprego?  Comentários – Qual é seu vínculo com o emprego?  Pontos – Qual é seu vínculo com o emprego?  \\\n",
       "0                      NaN                 NaN                        1                                     NaN                                NaN                          Nenhum                                            NaN                                       NaN        1                     NaN                NaN                                       NaN                                  NaN           Não                          NaN                     NaN      Sim                     NaN                NaN                                           Sim                                                NaN                                                          NaN                       Não                                 NaN                            NaN            Sim                           NaN                      NaN                      Sou registrado(a) no comércio                                              NaN                                         NaN   \n",
       "1                      NaN                 NaN                   4 ou +                                     NaN                                NaN                               1                                            NaN                                       NaN        3                     NaN                NaN                                       NaN                                  NaN           Não                          NaN                     NaN      Sim                     NaN                NaN                                           Sim                                                NaN                                                          NaN                       Não                                 NaN                            NaN            Não                           NaN                      NaN                                       Não trabalho                                              NaN                                         NaN   \n",
       "2                      NaN                 NaN                        3                                     NaN                                NaN                          Nenhum                                            NaN                                       NaN        1                     NaN                NaN                                       NaN                                  NaN           Não                          NaN                     NaN      Sim                     NaN                NaN                                           Sim                                                NaN                                                          NaN                       Não                                 NaN                            NaN            Sim                           NaN                      NaN  Sou registrado(a) em empresa prestadora de ser...                                              NaN                                         NaN   \n",
       "3                      NaN                 NaN                   4 ou +                                     NaN                                NaN                          Nenhum                                            NaN                                       NaN        1                     NaN                NaN                                       NaN                                  NaN           Não                          NaN                     NaN      Sim                     NaN                NaN                                           Sim                                                NaN                                                          NaN                       Não                                 NaN                            NaN            Sim                           NaN                      NaN  Sou registrado(a) em empresa pública (federal/...                                              NaN                                         NaN   \n",
       "4                      NaN                 NaN                   4 ou +                                     NaN                                NaN                          Nenhum                                            NaN                                       NaN   4 ou +                     NaN                NaN                                       NaN                                  NaN           Não                          NaN                     NaN      Sim                     NaN                NaN                                           Não                                                NaN                                                          NaN                       Não                                 NaN                            NaN            Não                           NaN                      NaN                                       Não trabalho                                              NaN                                         NaN   \n",
       "\n",
       "     Qual a área do seu trabalho?  Comentários – Qual a área do seu trabalho?  Pontos – Qual a área do seu trabalho? Qual é o seu regime de trabalho?  Comentários – Qual é o seu regime de trabalho?  Pontos – Qual é o seu regime de trabalho? Em qual empresa você está atualmente contratado?  Comentários – Em qual empresa você está atualmente contratado?  Pontos – Em qual empresa você está atualmente contratado?           Você tem plano de saúde privado?  Comentários – Você tem plano de saúde privado?  Pontos – Você tem plano de saúde privado? Qual é o grau de escolaridade da sua mãe?  Comentários – Qual é o grau de escolaridade da sua mãe?  Pontos – Qual é o grau de escolaridade da sua mãe? Qual é o grau de escolaridade do seu pai?  Comentários – Qual é o grau de escolaridade do seu pai?  Pontos – Qual é o grau de escolaridade do seu pai?          Na sua vida escolar, você estudou....  Pontos – Na sua vida escolar, você estudou....  Comentários – Na sua vida escolar, você estudou....  \\\n",
       "0       Trabalho na área do curso                                         NaN                                    NaN                  Regime Integral                                             NaN                                        NaN                                SOFTPOOL SISTEMAS                                                NaN                                                             NaN           Tenho e é pago parcialmente pela empresa                                             NaN                                        NaN                              Ensino Médio                                                NaN                                                      NaN       Ensino fundamental II (6º ao 9º ano)                                                NaN                                                      NaN                        Sempre na escola pública                                             NaN                                                NaN     \n",
       "1                    Não trabalho                                         NaN                                    NaN                     Não trabalho                                             NaN                                        NaN                                     Não trabalho                                                NaN                                                             NaN                        Tenho e é um plano familiar                                             NaN                                        NaN                             Pós-Graduação                                                NaN                                                      NaN                            Ensino Superior                                                NaN                                                      NaN   Sempre em escola particular paga pela família                                             NaN                                                NaN     \n",
       "2       Trabalho na área do curso                                         NaN                                    NaN                  Regime Integral                                             NaN                                        NaN                                    Unimed Franca                                                NaN                                                             NaN          Tenho e é pago integralmente pela empresa                                             NaN                                        NaN      Ensino Fundamental II (6º ao 9º ano)                                                NaN                                                      NaN                       Nenhuma escolaridade                                                NaN                                                      NaN                        Sempre na escola pública                                             NaN                                                NaN     \n",
       "3  Trabalho fora da área do curso                                         NaN                                    NaN                  Regime Integral                                             NaN                                        NaN               Prefeitura Municipal de Capetinga                                                 NaN                                                             NaN                               Não tenho, uso o SUS                                             NaN                                        NaN        Ensino Fundamental I (1 ao 5º ano)                                                NaN                                                      NaN        Ensino fundamental I (1º ao 5º ano)                                                NaN                                                      NaN                        Sempre na escola pública                                             NaN                                                NaN     \n",
       "4                    Não trabalho                                         NaN                                    NaN                     Não trabalho                                             NaN                                        NaN                                      Aposentado                                                 NaN                                                             NaN                        Tenho e é um plano familiar                                             NaN                                        NaN                      Nenhuma escolaridade                                                NaN                                                      NaN                       Nenhuma escolaridade                                                NaN                                                      NaN                        Sempre na escola pública                                             NaN                                                NaN     \n",
       "\n",
       "   Pontos – Você utiliza microcomputadores/desktop?  Comentários – Você utiliza microcomputadores/desktop? Em casa  Pontos – Em casa  Comentários – Em casa No trabalho  Pontos – No trabalho  Comentários – No trabalho Na escola  Pontos – Na escola  Comentários – Na escola Em outros lugares  Pontos – Em outros lugares  Comentários – Em outros lugares  Pontos – Com qual finalidade você utiliza microcomputadores/desktop?  Comentários – Com qual finalidade você utiliza microcomputadores/desktop? Para trabalhos profissionais  Pontos – Para trabalhos profissionais  Comentários – Para trabalhos profissionais Para trabalhos escolares  Pontos – Para trabalhos escolares  Comentários – Para trabalhos escolares Para entretenimento (música, redes sociais,...)  Pontos – Para entretenimento (música, redes sociais,...)  Comentários – Para entretenimento (música, redes sociais,...) Para comunicação por e-mail  Pontos – Para comunicação por e-mail  Comentários – Para comunicação por e-mail  \\\n",
       "0                                               NaN                                                NaN         Não               NaN                    NaN         Sim                   NaN                        NaN       Sim                 NaN                      NaN               Sim                         NaN                              NaN                                                NaN                                                                   NaN                                                  Sim                                    NaN                                         NaN                      Sim                                NaN                                     NaN                                             Não                                                NaN                                                       NaN                                     Sim                                   NaN                                        NaN   \n",
       "1                                               NaN                                                NaN         Não               NaN                    NaN         Não                   NaN                        NaN       Sim                 NaN                      NaN               Não                         NaN                              NaN                                                NaN                                                                   NaN                                                  Não                                    NaN                                         NaN                      Sim                                NaN                                     NaN                                             Não                                                NaN                                                       NaN                                     Não                                   NaN                                        NaN   \n",
       "2                                               NaN                                                NaN         Não               NaN                    NaN         Sim                   NaN                        NaN       Sim                 NaN                      NaN               Sim                         NaN                              NaN                                                NaN                                                                   NaN                                                  Sim                                    NaN                                         NaN                      Sim                                NaN                                     NaN                                             Sim                                                NaN                                                       NaN                                     Sim                                   NaN                                        NaN   \n",
       "3                                               NaN                                                NaN         Não               NaN                    NaN         Não                   NaN                        NaN       Não                 NaN                      NaN               Não                         NaN                              NaN                                                NaN                                                                   NaN                                                  Não                                    NaN                                         NaN                      Não                                NaN                                     NaN                                             Não                                                NaN                                                       NaN                                     Não                                   NaN                                        NaN   \n",
       "4                                               NaN                                                NaN         Sim               NaN                    NaN         Não                   NaN                        NaN       Sim                 NaN                      NaN               Sim                         NaN                              NaN                                                NaN                                                                   NaN                                                  Não                                    NaN                                         NaN                      Não                                NaN                                     NaN                                             Não                                                NaN                                                       NaN                                     Não                                   NaN                                        NaN   \n",
       "\n",
       "  Para operações bancárias  Pontos – Para operações bancárias  Comentários – Para operações bancárias Para compras eletrônicas  Pontos – Para compras eletrônicas  Comentários – Para compras eletrônicas  Pontos – Você utiliza notebook?  Comentários – Você utiliza notebook? Em casa2  Pontos – Em casa2  Comentários – Em casa2 No trabalho2  Pontos – No trabalho2  Comentários – No trabalho2 Na escola2  Pontos – Na escola2  Comentários – Na escola2 Em outros lugares2  Pontos – Em outros lugares2  Comentários – Em outros lugares2  Pontos – Com qual finalidade você utiliza notebook?  Comentários – Com qual finalidade você utiliza notebook? Para trabalhos profissionais2  Pontos – Para trabalhos profissionais2  Comentários – Para trabalhos profissionais2 Para trabalhos escolares2  Pontos – Para trabalhos escolares2  Comentários – Para trabalhos escolares2 Para entretenimento (música, redes sociais,...)2  Pontos – Para entretenimento (música, redes sociais,...)2  \\\n",
       "0                      Não                                NaN                                     NaN                      Não                                NaN                                     NaN                              NaN                                   NaN      Sim                NaN                     NaN          Sim                    NaN                         NaN        Sim                  NaN                       NaN                Sim                          NaN                               NaN                                                NaN                                                  NaN                                  Sim                                     NaN                                          NaN                       Sim                                 NaN                                      NaN                                              Sim                                                NaN           \n",
       "1                      Não                                NaN                                     NaN                      Não                                NaN                                     NaN                              NaN                                   NaN      Sim                NaN                     NaN          Não                    NaN                         NaN        Sim                  NaN                       NaN                Sim                          NaN                               NaN                                                NaN                                                  NaN                                  Não                                     NaN                                          NaN                       Sim                                 NaN                                      NaN                                              Sim                                                NaN           \n",
       "2                      Não                                NaN                                     NaN                      Sim                                NaN                                     NaN                              NaN                                   NaN      Sim                NaN                     NaN          Sim                    NaN                         NaN        Sim                  NaN                       NaN                Sim                          NaN                               NaN                                                NaN                                                  NaN                                  Sim                                     NaN                                          NaN                       Sim                                 NaN                                      NaN                                              Sim                                                NaN           \n",
       "3                      Não                                NaN                                     NaN                      Não                                NaN                                     NaN                              NaN                                   NaN      Sim                NaN                     NaN          Não                    NaN                         NaN        Sim                  NaN                       NaN                Sim                          NaN                               NaN                                                NaN                                                  NaN                                  Sim                                     NaN                                          NaN                       Sim                                 NaN                                      NaN                                              Sim                                                NaN           \n",
       "4                      Não                                NaN                                     NaN                      Não                                NaN                                     NaN                              NaN                                   NaN      Sim                NaN                     NaN          Não                    NaN                         NaN        Sim                  NaN                       NaN                Sim                          NaN                               NaN                                                NaN                                                  NaN                                  Não                                     NaN                                          NaN                       Sim                                 NaN                                      NaN                                              Sim                                                NaN           \n",
       "\n",
       "   Comentários – Para entretenimento (música, redes sociais,...)2 Para comunicação por e-mail2  Pontos – Para comunicação por e-mail2  Comentários – Para comunicação por e-mail2 Para operações bancárias2  Pontos – Para operações bancárias2  Comentários – Para operações bancárias2 Para compras eletrônicas2  Pontos – Para compras eletrônicas2  Comentários – Para compras eletrônicas2  Pontos – Você utiliza smartphone?  Comentários – Você utiliza smartphone? Em casa3  Pontos – Em casa3  Comentários – Em casa3 No trabalho3  Pontos – No trabalho3  Comentários – No trabalho3 Na escola3  Pontos – Na escola3  Comentários – Na escola3 Em outros lugares3  Pontos – Em outros lugares3  Comentários – Em outros lugares3  Pontos – Com qual finalidade você utiliza smartphone?  Comentários – Com qual finalidade você utiliza smartphone? Para trabalhos profissionais3  Pontos – Para trabalhos profissionais3  Comentários – Para trabalhos profissionais3 Para trabalhos escolares3  \\\n",
       "0                                                NaN                                       Sim                                    NaN                                         NaN                       Não                                 NaN                                      NaN                       Sim                                 NaN                                      NaN                                NaN                                     NaN      Sim                NaN                     NaN          Sim                    NaN                         NaN        Sim                  NaN                       NaN                Sim                          NaN                               NaN                                                NaN                                                    NaN                                    Sim                                     NaN                                          NaN                       Sim   \n",
       "1                                                NaN                                       Sim                                    NaN                                         NaN                       Sim                                 NaN                                      NaN                       Sim                                 NaN                                      NaN                                NaN                                     NaN      Sim                NaN                     NaN          Não                    NaN                         NaN        Sim                  NaN                       NaN                Sim                          NaN                               NaN                                                NaN                                                    NaN                                    Não                                     NaN                                          NaN                       Sim   \n",
       "2                                                NaN                                       Sim                                    NaN                                         NaN                       Sim                                 NaN                                      NaN                       Sim                                 NaN                                      NaN                                NaN                                     NaN      Sim                NaN                     NaN          Sim                    NaN                         NaN        Sim                  NaN                       NaN                Sim                          NaN                               NaN                                                NaN                                                    NaN                                    Sim                                     NaN                                          NaN                       Sim   \n",
       "3                                                NaN                                       Sim                                    NaN                                         NaN                       Sim                                 NaN                                      NaN                       Sim                                 NaN                                      NaN                                NaN                                     NaN      Sim                NaN                     NaN          Sim                    NaN                         NaN        Sim                  NaN                       NaN                Sim                          NaN                               NaN                                                NaN                                                    NaN                                    Não                                     NaN                                          NaN                       Sim   \n",
       "4                                                NaN                                       Sim                                    NaN                                         NaN                       Sim                                 NaN                                      NaN                       Sim                                 NaN                                      NaN                                NaN                                     NaN      Sim                NaN                     NaN          Não                    NaN                         NaN        Sim                  NaN                       NaN                Sim                          NaN                               NaN                                                NaN                                                    NaN                                    Não                                     NaN                                          NaN                       Sim   \n",
       "\n",
       "   Pontos – Para trabalhos escolares3  Comentários – Para trabalhos escolares3 Para entretenimento (música, redes sociais,...)3  Pontos – Para entretenimento (música, redes sociais,...)3  Comentários – Para entretenimento (música, redes sociais,...)3 Para comunicação por e-mail3  Pontos – Para comunicação por e-mail3  Comentários – Para comunicação por e-mail3 Para operações bancárias3  Pontos – Para operações bancárias3  Comentários – Para operações bancárias3 Para compras eletrônicas3  Pontos – Para compras eletrônicas3  Comentários – Para compras eletrônicas3 Como você classifica seu conhecimento em informática?  Pontos – Como você classifica seu conhecimento em informática?  Comentários – Como você classifica seu conhecimento em informática?  Pontos – Qual o seu conhecimento em relação aos aplicativos à seguir:  Comentários – Qual o seu conhecimento em relação aos aplicativos à seguir:       Windowns  Pontos – Windowns  Comentários – Windowns          Linux  Pontos – Linux  \\\n",
       "0                                 NaN                                      NaN                                              Sim                                                NaN                                                        NaN                                       Sim                                    NaN                                         NaN                       Sim                                 NaN                                      NaN                       Sim                                 NaN                                      NaN                                           Avançado                                                   NaN                                                             NaN                                                                  NaN                                                                    NaN                                Avançado                NaN                     NaN  Intermediário             NaN   \n",
       "1                                 NaN                                      NaN                                              Sim                                                NaN                                                        NaN                                       Sim                                    NaN                                         NaN                       Sim                                 NaN                                      NaN                       Sim                                 NaN                                      NaN                                              Pouco                                                   NaN                                                             NaN                                                                  NaN                                                                    NaN                                   Pouco                NaN                     NaN         Nenhum             NaN   \n",
       "2                                 NaN                                      NaN                                              Sim                                                NaN                                                        NaN                                       Sim                                    NaN                                         NaN                       Sim                                 NaN                                      NaN                       Sim                                 NaN                                      NaN                                      Intermediário                                                   NaN                                                             NaN                                                                  NaN                                                                    NaN                           Intermediário                NaN                     NaN         Nenhum             NaN   \n",
       "3                                 NaN                                      NaN                                              Sim                                                NaN                                                        NaN                                       Sim                                    NaN                                         NaN                       Sim                                 NaN                                      NaN                       Sim                                 NaN                                      NaN                                              Pouco                                                   NaN                                                             NaN                                                                  NaN                                                                    NaN                                   Pouco                NaN                     NaN          Pouco             NaN   \n",
       "4                                 NaN                                      NaN                                              Sim                                                NaN                                                        NaN                                       Sim                                    NaN                                         NaN                       Sim                                 NaN                                      NaN                       Sim                                 NaN                                      NaN                                              Pouco                                                   NaN                                                             NaN                                                                  NaN                                                                    NaN                                   Pouco                NaN                     NaN         Nenhum             NaN   \n",
       "\n",
       "   Comentários – Linux Editores de textos (word, writer, ...)  Pontos – Editores de textos (word, writer, ...)  Comentários – Editores de textos (word, writer, ...) Planilhas Eletrônicas (Excel, Cal, ...)  Pontos – Planilhas Eletrônicas (Excel, Cal, ...)  Comentários – Planilhas Eletrônicas (Excel, Cal, ...) Apresentadores (PowerPoint, Impress, ...)  Pontos – Apresentadores (PowerPoint, Impress, ...)  Comentários – Apresentadores (PowerPoint, Impress, ...) Sistemas de Gestão Empresarial  Pontos – Sistemas de Gestão Empresarial  Comentários – Sistemas de Gestão Empresarial  Pontos – Considerando seus conhecimentos sobre idiomas  Comentários – Considerando seus conhecimentos sobre idiomas                              Inglês  Pontos – Inglês  Comentários – Inglês                     Espanhol  Pontos – Espanhol  Comentários – Espanhol            Outros Idiomas  Pontos – Outros Idiomas  Comentários – Outros Idiomas  \\\n",
       "0                  NaN                               Avançado                                              NaN                                                NaN                                   Avançado                                               NaN                                                NaN                                      Avançado                                                NaN                                                 NaN                             Avançado                                      NaN                                           NaN                                                NaN                                                     NaN            Leio, escrevo e falo razoavelmente              NaN                   NaN            Praticamente nulo                NaN                     NaN         Praticamente nulo                      NaN                           NaN   \n",
       "1                  NaN                          Intermediário                                              NaN                                                NaN                              Intermediário                                               NaN                                                NaN                                 Intermediário                                                NaN                                                 NaN                               Nenhum                                      NaN                                           NaN                                                NaN                                                     NaN                             Praticamente nulo              NaN                   NaN            Praticamente nulo                NaN                     NaN         Praticamente nulo                      NaN                           NaN   \n",
       "2                  NaN                          Intermediário                                              NaN                                                NaN                              Intermediário                                               NaN                                                NaN                                 Intermediário                                                NaN                                                 NaN                        Intermediário                                      NaN                                           NaN                                                NaN                                                     NaN                   Leio e escrevo mas não falo              NaN                   NaN  Leio e escrevo mas não falo                NaN                     NaN         Praticamente nulo                      NaN                           NaN   \n",
       "3                  NaN                                  Pouco                                              NaN                                                NaN                                      Pouco                                               NaN                                                NaN                                         Pouco                                                NaN                                                 NaN                               Nenhum                                      NaN                                           NaN                                                NaN                                                     NaN               Leio mas não escrevo e nem falo              NaN                   NaN            Praticamente nulo                NaN                     NaN         Praticamente nulo                      NaN                           NaN   \n",
       "4                  NaN                          Intermediário                                              NaN                                                NaN                                      Pouco                                               NaN                                                NaN                                         Pouco                                                NaN                                                 NaN                               Nenhum                                      NaN                                           NaN                                                NaN                                                     NaN               Leio mas não escrevo e nem falo              NaN                   NaN     Leio, escrevo e falo bem                NaN                     NaN  Leio, escrevo e falo bem                      NaN                           NaN   \n",
       "\n",
       "   Pontos – Com que frequência você busca informações nos seguintes meios de comunicação?  Comentários – Com que frequência você busca informações nos seguintes meios de comunicação?     TV  Pontos – TV  Comentários – TV Internet2  Pontos – Internet2  Comentários – Internet2 Revistas  Pontos – Revistas  Comentários – Revistas   Jornais  Pontos – Jornais  Comentários – Jornais Rádio2  Pontos – Rádio2  Comentários – Rádio2 Redes Sociais  Pontos – Redes Sociais  Comentários – Redes Sociais Conversas com Amigos  Pontos – Conversas com Amigos  Comentários – Conversas com Amigos Não considerando os livros acadêmicos, quantos livros você lê por ano (em média)?  Pontos – Não considerando os livros acadêmicos, quantos livros você lê por ano (em média)?  Comentários – Não considerando os livros acadêmicos, quantos livros você lê por ano (em média)? Se você lê livros literários, qual(is) o(s) gênero(s) preferido(s)?  Pontos – Se você lê livros literários, qual(is) o(s) gênero(s) preferido(s)?  \\\n",
       "0                                                NaN                                                                                     NaN                                            Nunca          NaN               NaN     Muito                 NaN                      NaN    Nunca                NaN                     NaN  Às vezes               NaN                    NaN  Nunca              NaN                   NaN      Às vezes                     NaN                          NaN             Às vezes                            NaN                                 NaN                                         De 3 até 6                                                                               NaN                                                                                         NaN                                                                                 Romance;Outros:;                                                                 NaN                              \n",
       "1                                                NaN                                                                                     NaN                                            Pouco          NaN               NaN    Sempre                 NaN                      NaN    Nunca                NaN                     NaN     Nunca               NaN                    NaN  Nunca              NaN                   NaN         Pouco                     NaN                          NaN                Nunca                            NaN                                 NaN                                         Mais de 10                                                                               NaN                                                                                         NaN                                                               Romance;Ficção;Biográfico;Outros:;                                                                 NaN                              \n",
       "2                                                NaN                                                                                     NaN                                            Pouco          NaN               NaN    Sempre                 NaN                      NaN    Nunca                NaN                     NaN     Nunca               NaN                    NaN  Nunca              NaN                   NaN      Às vezes                     NaN                          NaN                Pouco                            NaN                                 NaN                                              Até 2                                                                               NaN                                                                                         NaN                                                                        Ficção;Autoajuda;Outros:;                                                                 NaN                              \n",
       "3                                                NaN                                                                                     NaN                                            Pouco          NaN               NaN     Muito                 NaN                      NaN    Nunca                NaN                     NaN     Pouco               NaN                    NaN  Nunca              NaN                   NaN         Muito                     NaN                          NaN             Às vezes                            NaN                                 NaN                                              Até 2                                                                               NaN                                                                                         NaN                                                                       Ficção;Aventura;Autoajuda;                                                                 NaN                              \n",
       "4                                                NaN                                                                                     NaN                                            Pouco          NaN               NaN  Às vezes                 NaN                      NaN    Nunca                NaN                     NaN     Pouco               NaN                    NaN  Pouco              NaN                   NaN         Muito                     NaN                          NaN                Muito                            NaN                                 NaN                                              Até 2                                                                               NaN                                                                                         NaN                                                                                         Outros:;                                                                 NaN                              \n",
       "\n",
       "   Comentários – Se você lê livros literários, qual(is) o(s) gênero(s) preferido(s)? Você dedica parte do seu tempo para atividades voluntárias?  Pontos – Você dedica parte do seu tempo para atividades voluntárias?  Comentários – Você dedica parte do seu tempo para atividades voluntárias? Qual religião você professa?  Pontos – Qual religião você professa?  Comentários – Qual religião você professa?  Quais fontes de entretenimento cultural você usa?  Pontos – Quais fontes de entretenimento cultural você usa?  Comentários – Quais fontes de entretenimento cultural você usa? Estamos quase no fim! Como você ficou sabendo da FATEC Franca?  Pontos – Estamos quase no fim! Como você ficou sabendo da FATEC Franca?  Comentários – Estamos quase no fim! Como você ficou sabendo da FATEC Franca?                  Por que você escolheu este curso?  Pontos – Por que você escolheu este curso?  Comentários – Por que você escolheu este curso?        Qual sua maior expectativa quanto ao curso?  \\\n",
       "0                                                NaN                                                                                Não                                                         NaN                                                                   NaN                                              Umbanda                                    NaN                                         NaN  Cinema;Exposições de arte;Filmes na internet;L...                                                NaN                                                         NaN                                      Indicação de familiar/amigo                                                            NaN                                                                      NaN                             Este curso forma profissionais que são bem rem...                                         NaN                                              NaN  Obter novos conhecimentos;Obter competências p...   \n",
       "1                                                NaN                                                                                Sim                                                         NaN                                                                   NaN                                             Espírita                                    NaN                                         NaN    Cinema;Filmes na internet;Literatura;Música;TV;                                                NaN                                                         NaN                                      Indicação de familiar/amigo                                                            NaN                                                                      NaN                             Este curso é gratuito;Este curso é de média du...                                         NaN                                              NaN  Obter novos conhecimentos;Obter competências p...   \n",
       "2                                                NaN                                                                                Não                                                         NaN                                                                   NaN                                           Evangélica                                    NaN                                         NaN               Cinema;Filmes na internet;Música;TV;                                                NaN                                                         NaN                                Propaganda na escola que estudava                                                            NaN                                                                      NaN                             Este curso forma profissionais facilmente abso...                                         NaN                                              NaN  Obter novos conhecimentos;Obter competências p...   \n",
       "3                                                NaN                                                                                Sim                                                         NaN                                                                   NaN                                             Católica                                    NaN                                         NaN                                            Música;                                                NaN                                                         NaN                                      Indicação de familiar/amigo                                                            NaN                                                                      NaN                             Este curso forma profissionais que são bem rem...                                         NaN                                              NaN  Obter competências para exercício de uma profi...   \n",
       "4                                                NaN                                                                                Sim                                                         NaN                                                                   NaN                                             Católica                                    NaN                                         NaN                         Filmes na internet;Música;                                                NaN                                                         NaN                                Propaganda na escola que estudava                                                            NaN                                                                      NaN                             Este curso forma profissionais que são bem rem...                                         NaN                                              NaN  Obter competências para exercício de uma profi...   \n",
       "\n",
       "   Pontos – Qual sua maior expectativa quanto ao curso?  Comentários – Qual sua maior expectativa quanto ao curso?               Qual sua expectativa após se formar?  Pontos – Qual sua expectativa após se formar?  Comentários – Qual sua expectativa após se formar? Você já estudou nesta instituição?  Pontos – Você já estudou nesta instituição?  Comentários – Você já estudou nesta instituição? Você já fez algum curso técnico?  Pontos – Você já fez algum curso técnico?  Comentários – Você já fez algum curso técnico? Qual meio de transporte você utiliza para ir à faculdade?  Pontos – Qual meio de transporte você utiliza para ir à faculdade?  Comentários – Qual meio de transporte você utiliza para ir à faculdade? Escreva algumas linhas sobre sua história e seus sonhos de vida  Pontos – Escreva algumas linhas sobre sua história e seus sonhos de vida  Comentários – Escreva algumas linhas sobre sua história e seus sonhos de vida  \n",
       "0                                                NaN                                                   NaN          Conquistar vaga em empresa privada;Melhorar ca...                                            NaN                                                NaN                                 Não                                          NaN                                               NaN                    Sim, no SENAC                                        NaN                                             NaN                                              Moto;                                                       NaN                                                                 NaN                        Sempre fui uma pessoa independente e um dos me...                                                             NaN                                                                       NaN                              \n",
       "1                                                NaN                                                   NaN                                        Outra expectativa:;                                            NaN                                                NaN                                 Não                                          NaN                                               NaN                 Sim, em uma ETEC                                        NaN                                             NaN                                             Carro;                                                       NaN                                                                 NaN                                                    Ter uma vida estável                                                              NaN                                                                       NaN                              \n",
       "2                                                NaN                                                   NaN          Melhorar cargo e salário na empresa que trabalho;                                            NaN                                                NaN                                 Não                                          NaN                                               NaN        Sim, em outra instituição                                        NaN                                             NaN                                      Carro;Ônibus;                                                       NaN                                                                 NaN                        Tenho 19 anos, busco me desenvolver e consolid...                                                             NaN                                                                       NaN                              \n",
       "3                                                NaN                                                   NaN          Prestar concurso público;Ingressar na carreira...                                            NaN                                                NaN                                 Não                                          NaN                                               NaN                          Não fiz                                        NaN                                             NaN                                            Ônibus;                                                       NaN                                                                 NaN                        Estou em busca de mais conhecimento e aprendiz...                                                             NaN                                                                       NaN                              \n",
       "4                                                NaN                                                   NaN                                 Abrir meu próprio negócio;                                            NaN                                                NaN                                 Não                                          NaN                                               NaN                          Não fiz                                        NaN                                             NaN                                        Caminhando;                                                       NaN                                                                 NaN                        Aposentado com 32 anos de magistério em matemá...                                                             NaN                                                                       NaN                              "
      ]
     },
     "execution_count": 14,
     "metadata": {},
     "output_type": "execute_result"
    }
   ],
   "source": [
    "# Caminho para o arquivo Excel - ajuste conforme necessário\n",
    "root_path = os.path.abspath('').replace(os.path.basename(os.path.abspath('')), '')\n",
    "\n",
    "print(\"root_path -=> \", root_path)\n",
    "excel_file = os.path.join(root_path, \"arquivos_de_trabalho\\\\Questionario-Socioeconomico-Fatec25-OFICIAL-1a32.xlsx\")\n",
    "print(\"excel_file -=> \", excel_file)\n",
    "\n",
    "# Leitura direta do Excel\n",
    "df_original = pd.read_excel(excel_file)\n",
    "\n",
    "# Verificar as primeiras linhas\n",
    "print(f\"Dimensões do DataFrame: {df_original.shape}\")\n",
    "df_original.head()"
   ]
  },
  {
   "cell_type": "markdown",
   "metadata": {},
   "source": [
    "## 3. Análise das colunas e tipos de dados"
   ]
  },
  {
   "cell_type": "code",
   "execution_count": 15,
   "metadata": {},
   "outputs": [
    {
     "name": "stdout",
     "output_type": "stream",
     "text": [
      "Colunas no DataFrame:\n",
      "- ID\n",
      "- Hora de início\n",
      "- Hora de conclusão\n",
      "- Email\n",
      "- Nome\n",
      "- Total de pontos\n",
      "- Comentários do teste\n",
      "- Hora da última modificação\n",
      "- Qual o seu curso?\n",
      "- Pontos – Qual o seu curso?\n",
      "- Comentários – Qual o seu curso?\n",
      "- Qual o período que cursa?*\n",
      "- Pontos – Qual o período que cursa?*\n",
      "- Comentários – Qual o período que cursa?*\n",
      "- Informe o número do seu RA:\n",
      "- Pontos – Informe o número do seu RA:\n",
      "- Comentários – Informe o número do seu RA:\n",
      "- Qual o estado você nasceu?*\n",
      "- Pontos – Qual o estado você nasceu?*\n",
      "- Comentários – Qual o estado você nasceu?*\n",
      "- Em qual cidade você reside?\n",
      "- Pontos – Em qual cidade você reside?\n",
      "- Comentários – Em qual cidade você reside?\n",
      "- Qual é o seu gênero?\n",
      "- Pontos – Qual é o seu gênero?\n",
      "- Comentários – Qual é o seu gênero?\n",
      "- Qual a sua data de nascimento?\n",
      "- Pontos – Qual a sua data de nascimento?\n",
      "- Comentários – Qual a sua data de nascimento?\n",
      "- Qual é o seu estado civil?\n",
      "- Pontos – Qual é o seu estado civil?\n",
      "- Comentários – Qual é o seu estado civil?\n",
      "- Você possui alguma necessidade especial? (Caso tenha mais de uma, pode selecionar todas as opções que se aplicam)\n",
      "- Comentários – Você possui alguma necessidade especial? (Caso tenha mais de uma, pode selecionar todas as opções que se aplicam)\n",
      "- Pontos – Você possui alguma necessidade especial? (Caso tenha mais de uma, pode selecionar todas as opções que se aplicam)\n",
      "- Quantos filhos você tem?\n",
      "- Comentários – Quantos filhos você tem?\n",
      "- Pontos – Quantos filhos você tem?\n",
      "- Com quem você mora atualmente?\n",
      "- Comentários – Com quem você mora atualmente?\n",
      "- Pontos – Com quem você mora atualmente?\n",
      "- Quantas pessoas, incluindo você, moram no seu domicílio?\n",
      "- Comentários – Quantas pessoas, incluindo você, moram no seu domicílio?\n",
      "- Pontos – Quantas pessoas, incluindo você, moram no seu domicílio?\n",
      "- Qual é a situação do domicílio em que você reside?\n",
      "- Comentários – Qual é a situação do domicílio em que você reside?\n",
      "- Pontos – Qual é a situação do domicílio em que você reside?\n",
      "- Há quanto tempo você mora neste domicílio?\n",
      "- Comentários – Há quanto tempo você mora neste domicílio?\n",
      "- Pontos – Há quanto tempo você mora neste domicílio?\n",
      "- Qual é a faixa de renda mensal da sua família?\n",
      "- Comentários – Qual é a faixa de renda mensal da sua família?\n",
      "- Pontos – Qual é a faixa de renda mensal da sua família?\n",
      "- Comentários – Quantos de cada um dos itens abaixo há em seu domicílio?\n",
      "- Pontos – Quantos de cada um dos itens abaixo há em seu domicílio?\n",
      "- Televisor\n",
      "- Comentários – Televisor\n",
      "- Pontos – Televisor\n",
      "- Vídeo cassete e(ou) DVD\n",
      "- Comentários – Vídeo cassete e(ou) DVD\n",
      "- Pontos – Vídeo cassete e(ou) DVD\n",
      "- Rádio\n",
      "- Comentários – Rádio\n",
      "- Pontos – Rádio\n",
      "- Automóvel\n",
      "- Comentários – Automóvel\n",
      "- Pontos – Automóvel\n",
      "- Motocicleta\n",
      "- Comentários – Motocicleta\n",
      "- Pontos – Motocicleta\n",
      "- Máquina de lavar roupa e(ou) tanquinho\n",
      "- Comentários – Máquina de lavar roupa e(ou) tanquinho\n",
      "- Pontos – Máquina de lavar roupa e(ou) tanquinho\n",
      "- Geladeira\n",
      "- Comentários – Geladeira\n",
      "- Pontos – Geladeira\n",
      "- Celular e(ou) Smartphone\n",
      "- Comentários – Celular e(ou) Smartphone\n",
      "- Pontos – Celular e(ou) Smartphone\n",
      "- Microcomputador de mesa/Desktop\n",
      "- Comentários – Microcomputador de mesa/Desktop\n",
      "- Pontos – Microcomputador de mesa/Desktop\n",
      "- Notebook\n",
      "- Comentários – Notebook\n",
      "- Pontos – Notebook\n",
      "- Comentários – No seu domicílio você tem:\n",
      "- Pontos – No seu domicílio você tem:\n",
      "- Telefone fixo\n",
      "- Comentários – Telefone fixo\n",
      "- Pontos – Telefone fixo\n",
      "- Internet\n",
      "- Comentários – Internet\n",
      "- Pontos – Internet\n",
      "- TV por assinatura e(ou) Serviços de Streaming\n",
      "- Comentários – TV por assinatura e(ou) Serviços de Streaming\n",
      "- Pontos – TV por assinatura e(ou) Serviços de Streaming\n",
      "- Empregada mensalista\n",
      "- Comentários – Empregada mensalista\n",
      "- Pontos – Empregada mensalista\n",
      "- Você trabalha?\n",
      "- Comentários – Você trabalha?\n",
      "- Pontos – Você trabalha?\n",
      "- Qual é seu vínculo com o emprego?\n",
      "- Comentários – Qual é seu vínculo com o emprego?\n",
      "- Pontos – Qual é seu vínculo com o emprego?\n",
      "- Qual a área do seu trabalho?\n",
      "- Comentários – Qual a área do seu trabalho?\n",
      "- Pontos – Qual a área do seu trabalho?\n",
      "- Qual é o seu regime de trabalho?\n",
      "- Comentários – Qual é o seu regime de trabalho?\n",
      "- Pontos – Qual é o seu regime de trabalho?\n",
      "- Em qual empresa você está atualmente contratado?\n",
      "- Comentários – Em qual empresa você está atualmente contratado?\n",
      "- Pontos – Em qual empresa você está atualmente contratado?\n",
      "- Você tem plano de saúde privado?\n",
      "- Comentários – Você tem plano de saúde privado?\n",
      "- Pontos – Você tem plano de saúde privado?\n",
      "- Qual é o grau de escolaridade da sua mãe?\n",
      "- Comentários – Qual é o grau de escolaridade da sua mãe?\n",
      "- Pontos – Qual é o grau de escolaridade da sua mãe?\n",
      "- Qual é o grau de escolaridade do seu pai?\n",
      "- Comentários – Qual é o grau de escolaridade do seu pai?\n",
      "- Pontos – Qual é o grau de escolaridade do seu pai?\n",
      "- Na sua vida escolar, você estudou....\n",
      "- Pontos – Na sua vida escolar, você estudou....\n",
      "- Comentários – Na sua vida escolar, você estudou....\n",
      "- Pontos – Você utiliza microcomputadores/desktop?\n",
      "- Comentários – Você utiliza microcomputadores/desktop?\n",
      "- Em casa\n",
      "- Pontos – Em casa\n",
      "- Comentários – Em casa\n",
      "- No trabalho\n",
      "- Pontos – No trabalho\n",
      "- Comentários – No trabalho\n",
      "- Na escola\n",
      "- Pontos – Na escola\n",
      "- Comentários – Na escola\n",
      "- Em outros lugares\n",
      "- Pontos – Em outros lugares\n",
      "- Comentários – Em outros lugares\n",
      "- Pontos – Com qual finalidade você utiliza microcomputadores/desktop?\n",
      "- Comentários – Com qual finalidade você utiliza microcomputadores/desktop?\n",
      "- Para trabalhos profissionais\n",
      "- Pontos – Para trabalhos profissionais\n",
      "- Comentários – Para trabalhos profissionais\n",
      "- Para trabalhos escolares\n",
      "- Pontos – Para trabalhos escolares\n",
      "- Comentários – Para trabalhos escolares\n",
      "- Para entretenimento (música, redes sociais,...)\n",
      "- Pontos – Para entretenimento (música, redes sociais,...)\n",
      "- Comentários – Para entretenimento (música, redes sociais,...)\n",
      "- Para comunicação por e-mail\n",
      "- Pontos – Para comunicação por e-mail\n",
      "- Comentários – Para comunicação por e-mail\n",
      "- Para operações bancárias\n",
      "- Pontos – Para operações bancárias\n",
      "- Comentários – Para operações bancárias\n",
      "- Para compras eletrônicas\n",
      "- Pontos – Para compras eletrônicas\n",
      "- Comentários – Para compras eletrônicas\n",
      "- Pontos – Você utiliza notebook?\n",
      "- Comentários – Você utiliza notebook?\n",
      "- Em casa2\n",
      "- Pontos – Em casa2\n",
      "- Comentários – Em casa2\n",
      "- No trabalho2\n",
      "- Pontos – No trabalho2\n",
      "- Comentários – No trabalho2\n",
      "- Na escola2\n",
      "- Pontos – Na escola2\n",
      "- Comentários – Na escola2\n",
      "- Em outros lugares2\n",
      "- Pontos – Em outros lugares2\n",
      "- Comentários – Em outros lugares2\n",
      "- Pontos – Com qual finalidade você utiliza notebook?\n",
      "- Comentários – Com qual finalidade você utiliza notebook?\n",
      "- Para trabalhos profissionais2\n",
      "- Pontos – Para trabalhos profissionais2\n",
      "- Comentários – Para trabalhos profissionais2\n",
      "- Para trabalhos escolares2\n",
      "- Pontos – Para trabalhos escolares2\n",
      "- Comentários – Para trabalhos escolares2\n",
      "- Para entretenimento (música, redes sociais,...)2\n",
      "- Pontos – Para entretenimento (música, redes sociais,...)2\n",
      "- Comentários – Para entretenimento (música, redes sociais,...)2\n",
      "- Para comunicação por e-mail2\n",
      "- Pontos – Para comunicação por e-mail2\n",
      "- Comentários – Para comunicação por e-mail2\n",
      "- Para operações bancárias2\n",
      "- Pontos – Para operações bancárias2\n",
      "- Comentários – Para operações bancárias2\n",
      "- Para compras eletrônicas2\n",
      "- Pontos – Para compras eletrônicas2\n",
      "- Comentários – Para compras eletrônicas2\n",
      "- Pontos – Você utiliza smartphone?\n",
      "- Comentários – Você utiliza smartphone?\n",
      "- Em casa3\n",
      "- Pontos – Em casa3\n",
      "- Comentários – Em casa3\n",
      "- No trabalho3\n",
      "- Pontos – No trabalho3\n",
      "- Comentários – No trabalho3\n",
      "- Na escola3\n",
      "- Pontos – Na escola3\n",
      "- Comentários – Na escola3\n",
      "- Em outros lugares3\n",
      "- Pontos – Em outros lugares3\n",
      "- Comentários – Em outros lugares3\n",
      "- Pontos – Com qual finalidade você utiliza smartphone?\n",
      "- Comentários – Com qual finalidade você utiliza smartphone?\n",
      "- Para trabalhos profissionais3\n",
      "- Pontos – Para trabalhos profissionais3\n",
      "- Comentários – Para trabalhos profissionais3\n",
      "- Para trabalhos escolares3\n",
      "- Pontos – Para trabalhos escolares3\n",
      "- Comentários – Para trabalhos escolares3\n",
      "- Para entretenimento (música, redes sociais,...)3\n",
      "- Pontos – Para entretenimento (música, redes sociais,...)3\n",
      "- Comentários – Para entretenimento (música, redes sociais,...)3\n",
      "- Para comunicação por e-mail3\n",
      "- Pontos – Para comunicação por e-mail3\n",
      "- Comentários – Para comunicação por e-mail3\n",
      "- Para operações bancárias3\n",
      "- Pontos – Para operações bancárias3\n",
      "- Comentários – Para operações bancárias3\n",
      "- Para compras eletrônicas3\n",
      "- Pontos – Para compras eletrônicas3\n",
      "- Comentários – Para compras eletrônicas3\n",
      "- Como você classifica seu conhecimento em informática?\n",
      "- Pontos – Como você classifica seu conhecimento em informática?\n",
      "- Comentários – Como você classifica seu conhecimento em informática?\n",
      "- Pontos – Qual o seu conhecimento em relação aos aplicativos à seguir:\n",
      "- Comentários – Qual o seu conhecimento em relação aos aplicativos à seguir:\n",
      "- Windowns\n",
      "- Pontos – Windowns\n",
      "- Comentários – Windowns\n",
      "- Linux\n",
      "- Pontos – Linux\n",
      "- Comentários – Linux\n",
      "- Editores de textos (word, writer, ...)\n",
      "- Pontos – Editores de textos (word, writer, ...)\n",
      "- Comentários – Editores de textos (word, writer, ...)\n",
      "- Planilhas Eletrônicas (Excel, Cal, ...)\n",
      "- Pontos – Planilhas Eletrônicas (Excel, Cal, ...)\n",
      "- Comentários – Planilhas Eletrônicas (Excel, Cal, ...)\n",
      "- Apresentadores (PowerPoint, Impress, ...)\n",
      "- Pontos – Apresentadores (PowerPoint, Impress, ...)\n",
      "- Comentários – Apresentadores (PowerPoint, Impress, ...)\n",
      "- Sistemas de Gestão Empresarial\n",
      "- Pontos – Sistemas de Gestão Empresarial\n",
      "- Comentários – Sistemas de Gestão Empresarial\n",
      "- Pontos – Considerando seus conhecimentos sobre idiomas\n",
      "- Comentários – Considerando seus conhecimentos sobre idiomas\n",
      "- Inglês\n",
      "- Pontos – Inglês\n",
      "- Comentários – Inglês\n",
      "- Espanhol\n",
      "- Pontos – Espanhol\n",
      "- Comentários – Espanhol\n",
      "- Outros Idiomas\n",
      "- Pontos – Outros Idiomas\n",
      "- Comentários – Outros Idiomas\n",
      "- Pontos – Com que frequência você busca informações nos seguintes meios de comunicação?\n",
      "- Comentários – Com que frequência você busca informações nos seguintes meios de comunicação?\n",
      "- TV\n",
      "- Pontos – TV\n",
      "- Comentários – TV\n",
      "- Internet2\n",
      "- Pontos – Internet2\n",
      "- Comentários – Internet2\n",
      "- Revistas\n",
      "- Pontos – Revistas\n",
      "- Comentários – Revistas\n",
      "- Jornais\n",
      "- Pontos – Jornais\n",
      "- Comentários – Jornais\n",
      "- Rádio2\n",
      "- Pontos – Rádio2\n",
      "- Comentários – Rádio2\n",
      "- Redes Sociais\n",
      "- Pontos – Redes Sociais\n",
      "- Comentários – Redes Sociais\n",
      "- Conversas com Amigos\n",
      "- Pontos – Conversas com Amigos\n",
      "- Comentários – Conversas com Amigos\n",
      "- Não considerando os livros acadêmicos, quantos livros você lê por ano (em média)?\n",
      "- Pontos – Não considerando os livros acadêmicos, quantos livros você lê por ano (em média)?\n",
      "- Comentários – Não considerando os livros acadêmicos, quantos livros você lê por ano (em média)?\n",
      "- Se você lê livros literários, qual(is) o(s) gênero(s) preferido(s)?\n",
      "- Pontos – Se você lê livros literários, qual(is) o(s) gênero(s) preferido(s)?\n",
      "- Comentários – Se você lê livros literários, qual(is) o(s) gênero(s) preferido(s)?\n",
      "- Você dedica parte do seu tempo para atividades voluntárias?\n",
      "- Pontos – Você dedica parte do seu tempo para atividades voluntárias?\n",
      "- Comentários – Você dedica parte do seu tempo para atividades voluntárias?\n",
      "- Qual religião você professa?\n",
      "- Pontos – Qual religião você professa?\n",
      "- Comentários – Qual religião você professa?\n",
      "- Quais fontes de entretenimento cultural você usa?\n",
      "- Pontos – Quais fontes de entretenimento cultural você usa?\n",
      "- Comentários – Quais fontes de entretenimento cultural você usa?\n",
      "- Estamos quase no fim! Como você ficou sabendo da FATEC Franca?\n",
      "- Pontos – Estamos quase no fim! Como você ficou sabendo da FATEC Franca?\n",
      "- Comentários – Estamos quase no fim! Como você ficou sabendo da FATEC Franca?\n",
      "- Por que você escolheu este curso?\n",
      "- Pontos – Por que você escolheu este curso?\n",
      "- Comentários – Por que você escolheu este curso?\n",
      "- Qual sua maior expectativa quanto ao curso?\n",
      "- Pontos – Qual sua maior expectativa quanto ao curso?\n",
      "- Comentários – Qual sua maior expectativa quanto ao curso?\n",
      "- Qual sua expectativa após se formar?\n",
      "- Pontos – Qual sua expectativa após se formar?\n",
      "- Comentários – Qual sua expectativa após se formar?\n",
      "- Você já estudou nesta instituição?\n",
      "- Pontos – Você já estudou nesta instituição?\n",
      "- Comentários – Você já estudou nesta instituição?\n",
      "- Você já fez algum curso técnico?\n",
      "- Pontos – Você já fez algum curso técnico?\n",
      "- Comentários – Você já fez algum curso técnico?\n",
      "- Qual meio de transporte você utiliza para ir à faculdade?\n",
      "- Pontos – Qual meio de transporte você utiliza para ir à faculdade?\n",
      "- Comentários – Qual meio de transporte você utiliza para ir à faculdade?\n",
      "- Escreva algumas linhas sobre sua história e seus sonhos de vida\n",
      "- Pontos – Escreva algumas linhas sobre sua história e seus sonhos de vida\n",
      "- Comentários – Escreva algumas linhas sobre sua história e seus sonhos de vida\n"
     ]
    }
   ],
   "source": [
    "# Listar todas as colunas\n",
    "print(\"Colunas no DataFrame:\")\n",
    "for col in df_original.columns:\n",
    "    print(f\"- {col}\")"
   ]
  },
  {
   "cell_type": "code",
   "execution_count": 16,
   "metadata": {},
   "outputs": [
    {
     "data": {
      "text/plain": [
       "ID                                                                                        int64\n",
       "Hora de início                                                                   datetime64[ns]\n",
       "Hora de conclusão                                                                datetime64[ns]\n",
       "Email                                                                                    object\n",
       "Nome                                                                                     object\n",
       "                                                                                      ...      \n",
       "Pontos – Qual meio de transporte você utiliza para ir à faculdade?                      float64\n",
       "Comentários – Qual meio de transporte você utiliza para ir à faculdade?                 float64\n",
       "Escreva algumas linhas sobre sua história e seus sonhos de vida                          object\n",
       "Pontos – Escreva algumas linhas sobre sua história e seus sonhos de vida                float64\n",
       "Comentários – Escreva algumas linhas sobre sua história e seus sonhos de vida           float64\n",
       "Length: 324, dtype: object"
      ]
     },
     "execution_count": 16,
     "metadata": {},
     "output_type": "execute_result"
    }
   ],
   "source": [
    "# Verificar tipos de dados\n",
    "df_original.dtypes"
   ]
  },
  {
   "cell_type": "markdown",
   "metadata": {},
   "source": [
    "## 4. Verificação da coluna de cidades específicamente"
   ]
  },
  {
   "cell_type": "code",
   "execution_count": 17,
   "metadata": {},
   "outputs": [
    {
     "name": "stdout",
     "output_type": "stream",
     "text": [
      "A coluna 'Em qual cidade você reside?' existe no DataFrame\n",
      "\n",
      "Total de cidades únicas: 3\n",
      "\n",
      "Top 15 cidades:\n"
     ]
    },
    {
     "data": {
      "text/plain": [
       "Em qual cidade você reside?\n",
       "Franca                 30\n",
       "Capetinga               1\n",
       "Patrocínio Paulista     1\n",
       "Name: count, dtype: int64"
      ]
     },
     "metadata": {},
     "output_type": "display_data"
    },
    {
     "name": "stdout",
     "output_type": "stream",
     "text": [
      "\n",
      "'Franca' aparece 30 vezes\n"
     ]
    }
   ],
   "source": [
    "# Nome da coluna que contém as cidades\n",
    "cidade_col = 'Em qual cidade você reside?'\n",
    "\n",
    "# Verificar se a coluna existe\n",
    "if cidade_col in df_original.columns:\n",
    "    print(f\"A coluna '{cidade_col}' existe no DataFrame\")\n",
    "    \n",
    "    # Contar valores únicos\n",
    "    cidades_count = df_original[cidade_col].value_counts()\n",
    "    print(f\"\\nTotal de cidades únicas: {len(cidades_count)}\")\n",
    "    \n",
    "    # Exibir as top 15 cidades\n",
    "    print(\"\\nTop 15 cidades:\")\n",
    "    display(cidades_count.head(15))\n",
    "    \n",
    "    # Verificar se 'Franca' está presente\n",
    "    if 'Franca' in cidades_count.index:\n",
    "        print(f\"\\n'Franca' aparece {cidades_count['Franca']} vezes\")\n",
    "    else:\n",
    "        print(\"\\n'Franca' não aparece como valor na coluna\")\n",
    "        \n",
    "        # Verificar se há valores semelhantes a Franca\n",
    "        franca_like = [cidade for cidade in cidades_count.index if 'franca' in str(cidade).lower()]\n",
    "        if franca_like:\n",
    "            print(f\"Valores semelhantes a 'Franca': {franca_like}\")\n",
    "else:\n",
    "    print(f\"A coluna '{cidade_col}' não existe. Colunas disponíveis: {df_original.columns}\")\n",
    "    \n",
    "    # Procurar colunas relacionadas a cidades\n",
    "    cidade_cols = [col for col in df_original.columns if 'cidade' in col.lower() or 'reside' in col.lower()]\n",
    "    if cidade_cols:\n",
    "        print(f\"\\nColunas possivelmente relacionadas a cidades: {cidade_cols}\")"
   ]
  },
  {
   "cell_type": "markdown",
   "metadata": {},
   "source": [
    "## 5. Examinando valores individuais da coluna de cidades"
   ]
  },
  {
   "cell_type": "code",
   "execution_count": 18,
   "metadata": {},
   "outputs": [
    {
     "name": "stdout",
     "output_type": "stream",
     "text": [
      "Exemplos de valores (3 únicos):\n",
      "1. 'Franca' (tipo: str)\n",
      "2. 'Capetinga' (tipo: str)\n",
      "3. 'Patrocínio Paulista' (tipo: str)\n",
      "\n",
      "Valores nulos: 0 (0.00%)\n",
      "Strings vazias: 0 (0.00%)\n",
      "Valores com espaços extras: 0\n"
     ]
    }
   ],
   "source": [
    "# Examinar valores individuais para entender a estrutura\n",
    "cidade_col = 'Em qual cidade você reside?'  # Ajuste se necessário\n",
    "\n",
    "if cidade_col in df_original.columns:\n",
    "    # Pegar exemplos de valores\n",
    "    valores_unicos = df_original[cidade_col].unique()\n",
    "    print(f\"Exemplos de valores ({len(valores_unicos)} únicos):\")\n",
    "    for i, val in enumerate(valores_unicos[:20]):  # Primeiros 20 valores\n",
    "        print(f\"{i+1}. '{val}' (tipo: {type(val).__name__})\")\n",
    "        \n",
    "    # Verificar se há valores nulos\n",
    "    nulos = df_original[cidade_col].isna().sum()\n",
    "    print(f\"\\nValores nulos: {nulos} ({nulos/len(df_original)*100:.2f}%)\")\n",
    "    \n",
    "    # Verificar se há valores vazios\n",
    "    vazios = (df_original[cidade_col] == '').sum()\n",
    "    print(f\"Strings vazias: {vazios} ({vazios/len(df_original)*100:.2f}%)\")\n",
    "    \n",
    "    # Verificar espaços em branco\n",
    "    if df_original[cidade_col].dtype == 'object':\n",
    "        espacos = (df_original[cidade_col].str.strip() != df_original[cidade_col]).sum()\n",
    "        print(f\"Valores com espaços extras: {espacos}\")"
   ]
  },
  {
   "cell_type": "markdown",
   "metadata": {},
   "source": [
    "## 6. Simulando o processamento feito no sistema para identificar onde está o problema"
   ]
  },
  {
   "cell_type": "code",
   "execution_count": 19,
   "metadata": {},
   "outputs": [
    {
     "name": "stdout",
     "output_type": "stream",
     "text": [
      "DataFrame original: (32, 324)\n",
      "DataFrame reconstruído: (32, 324)\n",
      "\n",
      "Análise da coluna 'Em qual cidade você reside?' no DataFrame reconstruído:\n",
      "Total de cidades únicas: 3\n",
      "\n",
      "Top 15 cidades (DataFrame reconstruído):\n"
     ]
    },
    {
     "data": {
      "text/plain": [
       "Em qual cidade você reside?\n",
       "Franca                 30\n",
       "Capetinga               1\n",
       "Patrocínio Paulista     1\n",
       "Name: count, dtype: int64"
      ]
     },
     "metadata": {},
     "output_type": "display_data"
    }
   ],
   "source": [
    "# Simular o processo de conversão do Excel para JSON\n",
    "def simular_processamento_excel(df):\n",
    "    # Converter para lista de dicionários (estrutura original)\n",
    "    json_data = df.to_dict(orient='records')\n",
    "    \n",
    "    # Extrair os nomes das colunas\n",
    "    columns = list(df.columns)\n",
    "    \n",
    "    # Criar o dicionário onde a chave é o ID e o valor é a lista de dados\n",
    "    resultado_json = {}\n",
    "    for item in json_data:\n",
    "        id_item = str(item.get('ID', ''))\n",
    "        if id_item:  # Só adiciona se tiver um ID válido\n",
    "            # Garantir que todos os campos estejam presentes e na ordem correta\n",
    "            dados = [item.get(coluna, '') for coluna in columns[1:]]\n",
    "            resultado_json[id_item] = dados\n",
    "    \n",
    "    return resultado_json, columns\n",
    "\n",
    "# Simular o processo de reconstrução do DataFrame\n",
    "def reconstruir_dataframe(resultado_json, columns):\n",
    "    # Construir o DataFrame\n",
    "    data = []\n",
    "    for id_item, valores in resultado_json.items():\n",
    "        if len(valores) == len(columns[1:]):  # Verificar consistência de dados\n",
    "            row = {columns[0]: id_item}\n",
    "            for i, col in enumerate(columns[1:]):\n",
    "                row[col] = valores[i]\n",
    "            data.append(row)\n",
    "    \n",
    "    df_reconstruido = pd.DataFrame(data)\n",
    "    \n",
    "    return df_reconstruido\n",
    "\n",
    "# Executar a simulação\n",
    "resultado_json, columns = simular_processamento_excel(df_original)\n",
    "df_reconstruido = reconstruir_dataframe(resultado_json, columns)\n",
    "\n",
    "# Comparar as dimensões\n",
    "print(f\"DataFrame original: {df_original.shape}\")\n",
    "print(f\"DataFrame reconstruído: {df_reconstruido.shape}\")\n",
    "\n",
    "# Verificar os dados de cidade no DataFrame reconstruído\n",
    "cidade_col = 'Em qual cidade você reside?'  # Ajuste se necessário\n",
    "\n",
    "if cidade_col in df_reconstruido.columns:\n",
    "    print(f\"\\nAnálise da coluna '{cidade_col}' no DataFrame reconstruído:\")\n",
    "    cidades_count_recon = df_reconstruido[cidade_col].value_counts()\n",
    "    print(f\"Total de cidades únicas: {len(cidades_count_recon)}\")\n",
    "    \n",
    "    # Exibir as top 15 cidades\n",
    "    print(\"\\nTop 15 cidades (DataFrame reconstruído):\")\n",
    "    display(cidades_count_recon.head(15))"
   ]
  },
  {
   "cell_type": "markdown",
   "metadata": {},
   "source": [
    "## 7. Comparando os dois DataFrames para identificar diferenças"
   ]
  },
  {
   "cell_type": "code",
   "execution_count": 20,
   "metadata": {},
   "outputs": [
    {
     "name": "stdout",
     "output_type": "stream",
     "text": [
      "Não há valores exclusivos do DataFrame original\n",
      "\n",
      "Não há valores exclusivos do DataFrame reconstruído\n",
      "\n",
      "Não há valores com contagens diferentes entre os DataFrames\n"
     ]
    }
   ],
   "source": [
    "# Comparar a coluna de cidades entre os dois DataFrames\n",
    "cidade_col = 'Em qual cidade você reside?'  # Ajuste conforme necessário\n",
    "\n",
    "if cidade_col in df_original.columns and cidade_col in df_reconstruido.columns:\n",
    "    # Contar valores nos dois DataFrames\n",
    "    orig_counts = df_original[cidade_col].value_counts()\n",
    "    recon_counts = df_reconstruido[cidade_col].value_counts()\n",
    "    \n",
    "    # Verificar se há diferenças nos valores únicos\n",
    "    orig_unique = set(df_original[cidade_col].unique())\n",
    "    recon_unique = set(df_reconstruido[cidade_col].unique())\n",
    "    \n",
    "    # Valores presentes no original mas não no reconstruído\n",
    "    only_in_orig = orig_unique - recon_unique\n",
    "    if only_in_orig:\n",
    "        print(f\"Valores apenas no DataFrame original ({len(only_in_orig)}):\")\n",
    "        for val in list(only_in_orig)[:10]:  # Mostrar até 10 exemplos\n",
    "            print(f\"  - '{val}' (tipo: {type(val).__name__}) - Contagem: {orig_counts.get(val, 0)}\")\n",
    "    else:\n",
    "        print(\"Não há valores exclusivos do DataFrame original\")\n",
    "    \n",
    "    # Valores presentes no reconstruído mas não no original\n",
    "    only_in_recon = recon_unique - orig_unique\n",
    "    if only_in_recon:\n",
    "        print(f\"\\nValores apenas no DataFrame reconstruído ({len(only_in_recon)}):\")\n",
    "        for val in list(only_in_recon)[:10]:  # Mostrar até 10 exemplos\n",
    "            print(f\"  - '{val}' (tipo: {type(val).__name__}) - Contagem: {recon_counts.get(val, 0)}\")\n",
    "    else:\n",
    "        print(\"\\nNão há valores exclusivos do DataFrame reconstruído\")\n",
    "    \n",
    "    # Verificar contagens diferentes para o mesmo valor\n",
    "    common = orig_unique.intersection(recon_unique)\n",
    "    diff_counts = []\n",
    "    \n",
    "    for val in common:\n",
    "        orig_count = orig_counts.get(val, 0)\n",
    "        recon_count = recon_counts.get(val, 0)\n",
    "        \n",
    "        if orig_count != recon_count:\n",
    "            diff_counts.append((val, orig_count, recon_count))\n",
    "    \n",
    "    if diff_counts:\n",
    "        print(f\"\\nValores com contagens diferentes ({len(diff_counts)}):\")\n",
    "        for val, orig_count, recon_count in diff_counts[:10]:  # Mostrar até 10 exemplos\n",
    "            print(f\"  - '{val}': Original={orig_count}, Reconstruído={recon_count}\")\n",
    "    else:\n",
    "        print(\"\\nNão há valores com contagens diferentes entre os DataFrames\")"
   ]
  },
  {
   "cell_type": "markdown",
   "metadata": {},
   "source": [
    "## 8. Corrigindo o problema e gerando o gráfico correto"
   ]
  },
  {
   "cell_type": "code",
   "execution_count": 21,
   "metadata": {},
   "outputs": [
    {
     "name": "stdout",
     "output_type": "stream",
     "text": [
      "Total de cidades únicas após tratamento: 3\n",
      "\n",
      "Top 15 cidades (após tratamento):\n"
     ]
    },
    {
     "data": {
      "text/plain": [
       "Em qual cidade você reside?\n",
       "Franca                 30\n",
       "Capetinga               1\n",
       "Patrocínio Paulista     1\n",
       "Name: count, dtype: int64"
      ]
     },
     "metadata": {},
     "output_type": "display_data"
    },
    {
     "data": {
      "application/vnd.plotly.v1+json": {
       "config": {
        "plotlyServerURL": "https://plot.ly"
       },
       "data": [
        {
         "hovertemplate": "Cidade=%{x}<br>Contagem=%{y}<extra></extra>",
         "legendgroup": "",
         "marker": {
          "color": "#636efa",
          "pattern": {
           "shape": ""
          }
         },
         "name": "",
         "orientation": "v",
         "showlegend": false,
         "textposition": "auto",
         "type": "bar",
         "x": [
          "Franca",
          "Capetinga",
          "Patrocínio Paulista"
         ],
         "xaxis": "x",
         "y": {
          "bdata": "HgEB",
          "dtype": "i1"
         },
         "yaxis": "y"
        }
       ],
       "layout": {
        "barmode": "relative",
        "legend": {
         "tracegroupgap": 0
        },
        "template": {
         "data": {
          "bar": [
           {
            "error_x": {
             "color": "#2a3f5f"
            },
            "error_y": {
             "color": "#2a3f5f"
            },
            "marker": {
             "line": {
              "color": "#E5ECF6",
              "width": 0.5
             },
             "pattern": {
              "fillmode": "overlay",
              "size": 10,
              "solidity": 0.2
             }
            },
            "type": "bar"
           }
          ],
          "barpolar": [
           {
            "marker": {
             "line": {
              "color": "#E5ECF6",
              "width": 0.5
             },
             "pattern": {
              "fillmode": "overlay",
              "size": 10,
              "solidity": 0.2
             }
            },
            "type": "barpolar"
           }
          ],
          "carpet": [
           {
            "aaxis": {
             "endlinecolor": "#2a3f5f",
             "gridcolor": "white",
             "linecolor": "white",
             "minorgridcolor": "white",
             "startlinecolor": "#2a3f5f"
            },
            "baxis": {
             "endlinecolor": "#2a3f5f",
             "gridcolor": "white",
             "linecolor": "white",
             "minorgridcolor": "white",
             "startlinecolor": "#2a3f5f"
            },
            "type": "carpet"
           }
          ],
          "choropleth": [
           {
            "colorbar": {
             "outlinewidth": 0,
             "ticks": ""
            },
            "type": "choropleth"
           }
          ],
          "contour": [
           {
            "colorbar": {
             "outlinewidth": 0,
             "ticks": ""
            },
            "colorscale": [
             [
              0,
              "#0d0887"
             ],
             [
              0.1111111111111111,
              "#46039f"
             ],
             [
              0.2222222222222222,
              "#7201a8"
             ],
             [
              0.3333333333333333,
              "#9c179e"
             ],
             [
              0.4444444444444444,
              "#bd3786"
             ],
             [
              0.5555555555555556,
              "#d8576b"
             ],
             [
              0.6666666666666666,
              "#ed7953"
             ],
             [
              0.7777777777777778,
              "#fb9f3a"
             ],
             [
              0.8888888888888888,
              "#fdca26"
             ],
             [
              1,
              "#f0f921"
             ]
            ],
            "type": "contour"
           }
          ],
          "contourcarpet": [
           {
            "colorbar": {
             "outlinewidth": 0,
             "ticks": ""
            },
            "type": "contourcarpet"
           }
          ],
          "heatmap": [
           {
            "colorbar": {
             "outlinewidth": 0,
             "ticks": ""
            },
            "colorscale": [
             [
              0,
              "#0d0887"
             ],
             [
              0.1111111111111111,
              "#46039f"
             ],
             [
              0.2222222222222222,
              "#7201a8"
             ],
             [
              0.3333333333333333,
              "#9c179e"
             ],
             [
              0.4444444444444444,
              "#bd3786"
             ],
             [
              0.5555555555555556,
              "#d8576b"
             ],
             [
              0.6666666666666666,
              "#ed7953"
             ],
             [
              0.7777777777777778,
              "#fb9f3a"
             ],
             [
              0.8888888888888888,
              "#fdca26"
             ],
             [
              1,
              "#f0f921"
             ]
            ],
            "type": "heatmap"
           }
          ],
          "histogram": [
           {
            "marker": {
             "pattern": {
              "fillmode": "overlay",
              "size": 10,
              "solidity": 0.2
             }
            },
            "type": "histogram"
           }
          ],
          "histogram2d": [
           {
            "colorbar": {
             "outlinewidth": 0,
             "ticks": ""
            },
            "colorscale": [
             [
              0,
              "#0d0887"
             ],
             [
              0.1111111111111111,
              "#46039f"
             ],
             [
              0.2222222222222222,
              "#7201a8"
             ],
             [
              0.3333333333333333,
              "#9c179e"
             ],
             [
              0.4444444444444444,
              "#bd3786"
             ],
             [
              0.5555555555555556,
              "#d8576b"
             ],
             [
              0.6666666666666666,
              "#ed7953"
             ],
             [
              0.7777777777777778,
              "#fb9f3a"
             ],
             [
              0.8888888888888888,
              "#fdca26"
             ],
             [
              1,
              "#f0f921"
             ]
            ],
            "type": "histogram2d"
           }
          ],
          "histogram2dcontour": [
           {
            "colorbar": {
             "outlinewidth": 0,
             "ticks": ""
            },
            "colorscale": [
             [
              0,
              "#0d0887"
             ],
             [
              0.1111111111111111,
              "#46039f"
             ],
             [
              0.2222222222222222,
              "#7201a8"
             ],
             [
              0.3333333333333333,
              "#9c179e"
             ],
             [
              0.4444444444444444,
              "#bd3786"
             ],
             [
              0.5555555555555556,
              "#d8576b"
             ],
             [
              0.6666666666666666,
              "#ed7953"
             ],
             [
              0.7777777777777778,
              "#fb9f3a"
             ],
             [
              0.8888888888888888,
              "#fdca26"
             ],
             [
              1,
              "#f0f921"
             ]
            ],
            "type": "histogram2dcontour"
           }
          ],
          "mesh3d": [
           {
            "colorbar": {
             "outlinewidth": 0,
             "ticks": ""
            },
            "type": "mesh3d"
           }
          ],
          "parcoords": [
           {
            "line": {
             "colorbar": {
              "outlinewidth": 0,
              "ticks": ""
             }
            },
            "type": "parcoords"
           }
          ],
          "pie": [
           {
            "automargin": true,
            "type": "pie"
           }
          ],
          "scatter": [
           {
            "fillpattern": {
             "fillmode": "overlay",
             "size": 10,
             "solidity": 0.2
            },
            "type": "scatter"
           }
          ],
          "scatter3d": [
           {
            "line": {
             "colorbar": {
              "outlinewidth": 0,
              "ticks": ""
             }
            },
            "marker": {
             "colorbar": {
              "outlinewidth": 0,
              "ticks": ""
             }
            },
            "type": "scatter3d"
           }
          ],
          "scattercarpet": [
           {
            "marker": {
             "colorbar": {
              "outlinewidth": 0,
              "ticks": ""
             }
            },
            "type": "scattercarpet"
           }
          ],
          "scattergeo": [
           {
            "marker": {
             "colorbar": {
              "outlinewidth": 0,
              "ticks": ""
             }
            },
            "type": "scattergeo"
           }
          ],
          "scattergl": [
           {
            "marker": {
             "colorbar": {
              "outlinewidth": 0,
              "ticks": ""
             }
            },
            "type": "scattergl"
           }
          ],
          "scattermap": [
           {
            "marker": {
             "colorbar": {
              "outlinewidth": 0,
              "ticks": ""
             }
            },
            "type": "scattermap"
           }
          ],
          "scattermapbox": [
           {
            "marker": {
             "colorbar": {
              "outlinewidth": 0,
              "ticks": ""
             }
            },
            "type": "scattermapbox"
           }
          ],
          "scatterpolar": [
           {
            "marker": {
             "colorbar": {
              "outlinewidth": 0,
              "ticks": ""
             }
            },
            "type": "scatterpolar"
           }
          ],
          "scatterpolargl": [
           {
            "marker": {
             "colorbar": {
              "outlinewidth": 0,
              "ticks": ""
             }
            },
            "type": "scatterpolargl"
           }
          ],
          "scatterternary": [
           {
            "marker": {
             "colorbar": {
              "outlinewidth": 0,
              "ticks": ""
             }
            },
            "type": "scatterternary"
           }
          ],
          "surface": [
           {
            "colorbar": {
             "outlinewidth": 0,
             "ticks": ""
            },
            "colorscale": [
             [
              0,
              "#0d0887"
             ],
             [
              0.1111111111111111,
              "#46039f"
             ],
             [
              0.2222222222222222,
              "#7201a8"
             ],
             [
              0.3333333333333333,
              "#9c179e"
             ],
             [
              0.4444444444444444,
              "#bd3786"
             ],
             [
              0.5555555555555556,
              "#d8576b"
             ],
             [
              0.6666666666666666,
              "#ed7953"
             ],
             [
              0.7777777777777778,
              "#fb9f3a"
             ],
             [
              0.8888888888888888,
              "#fdca26"
             ],
             [
              1,
              "#f0f921"
             ]
            ],
            "type": "surface"
           }
          ],
          "table": [
           {
            "cells": {
             "fill": {
              "color": "#EBF0F8"
             },
             "line": {
              "color": "white"
             }
            },
            "header": {
             "fill": {
              "color": "#C8D4E3"
             },
             "line": {
              "color": "white"
             }
            },
            "type": "table"
           }
          ]
         },
         "layout": {
          "annotationdefaults": {
           "arrowcolor": "#2a3f5f",
           "arrowhead": 0,
           "arrowwidth": 1
          },
          "autotypenumbers": "strict",
          "coloraxis": {
           "colorbar": {
            "outlinewidth": 0,
            "ticks": ""
           }
          },
          "colorscale": {
           "diverging": [
            [
             0,
             "#8e0152"
            ],
            [
             0.1,
             "#c51b7d"
            ],
            [
             0.2,
             "#de77ae"
            ],
            [
             0.3,
             "#f1b6da"
            ],
            [
             0.4,
             "#fde0ef"
            ],
            [
             0.5,
             "#f7f7f7"
            ],
            [
             0.6,
             "#e6f5d0"
            ],
            [
             0.7,
             "#b8e186"
            ],
            [
             0.8,
             "#7fbc41"
            ],
            [
             0.9,
             "#4d9221"
            ],
            [
             1,
             "#276419"
            ]
           ],
           "sequential": [
            [
             0,
             "#0d0887"
            ],
            [
             0.1111111111111111,
             "#46039f"
            ],
            [
             0.2222222222222222,
             "#7201a8"
            ],
            [
             0.3333333333333333,
             "#9c179e"
            ],
            [
             0.4444444444444444,
             "#bd3786"
            ],
            [
             0.5555555555555556,
             "#d8576b"
            ],
            [
             0.6666666666666666,
             "#ed7953"
            ],
            [
             0.7777777777777778,
             "#fb9f3a"
            ],
            [
             0.8888888888888888,
             "#fdca26"
            ],
            [
             1,
             "#f0f921"
            ]
           ],
           "sequentialminus": [
            [
             0,
             "#0d0887"
            ],
            [
             0.1111111111111111,
             "#46039f"
            ],
            [
             0.2222222222222222,
             "#7201a8"
            ],
            [
             0.3333333333333333,
             "#9c179e"
            ],
            [
             0.4444444444444444,
             "#bd3786"
            ],
            [
             0.5555555555555556,
             "#d8576b"
            ],
            [
             0.6666666666666666,
             "#ed7953"
            ],
            [
             0.7777777777777778,
             "#fb9f3a"
            ],
            [
             0.8888888888888888,
             "#fdca26"
            ],
            [
             1,
             "#f0f921"
            ]
           ]
          },
          "colorway": [
           "#636efa",
           "#EF553B",
           "#00cc96",
           "#ab63fa",
           "#FFA15A",
           "#19d3f3",
           "#FF6692",
           "#B6E880",
           "#FF97FF",
           "#FECB52"
          ],
          "font": {
           "color": "#2a3f5f"
          },
          "geo": {
           "bgcolor": "white",
           "lakecolor": "white",
           "landcolor": "#E5ECF6",
           "showlakes": true,
           "showland": true,
           "subunitcolor": "white"
          },
          "hoverlabel": {
           "align": "left"
          },
          "hovermode": "closest",
          "mapbox": {
           "style": "light"
          },
          "paper_bgcolor": "white",
          "plot_bgcolor": "#E5ECF6",
          "polar": {
           "angularaxis": {
            "gridcolor": "white",
            "linecolor": "white",
            "ticks": ""
           },
           "bgcolor": "#E5ECF6",
           "radialaxis": {
            "gridcolor": "white",
            "linecolor": "white",
            "ticks": ""
           }
          },
          "scene": {
           "xaxis": {
            "backgroundcolor": "#E5ECF6",
            "gridcolor": "white",
            "gridwidth": 2,
            "linecolor": "white",
            "showbackground": true,
            "ticks": "",
            "zerolinecolor": "white"
           },
           "yaxis": {
            "backgroundcolor": "#E5ECF6",
            "gridcolor": "white",
            "gridwidth": 2,
            "linecolor": "white",
            "showbackground": true,
            "ticks": "",
            "zerolinecolor": "white"
           },
           "zaxis": {
            "backgroundcolor": "#E5ECF6",
            "gridcolor": "white",
            "gridwidth": 2,
            "linecolor": "white",
            "showbackground": true,
            "ticks": "",
            "zerolinecolor": "white"
           }
          },
          "shapedefaults": {
           "line": {
            "color": "#2a3f5f"
           }
          },
          "ternary": {
           "aaxis": {
            "gridcolor": "white",
            "linecolor": "white",
            "ticks": ""
           },
           "baxis": {
            "gridcolor": "white",
            "linecolor": "white",
            "ticks": ""
           },
           "bgcolor": "#E5ECF6",
           "caxis": {
            "gridcolor": "white",
            "linecolor": "white",
            "ticks": ""
           }
          },
          "title": {
           "x": 0.05
          },
          "xaxis": {
           "automargin": true,
           "gridcolor": "white",
           "linecolor": "white",
           "ticks": "",
           "title": {
            "standoff": 15
           },
           "zerolinecolor": "white",
           "zerolinewidth": 2
          },
          "yaxis": {
           "automargin": true,
           "gridcolor": "white",
           "linecolor": "white",
           "ticks": "",
           "title": {
            "standoff": 15
           },
           "zerolinecolor": "white",
           "zerolinewidth": 2
          }
         }
        },
        "title": {
         "text": "Top 15 Cidades de Residência (Corrigido)"
        },
        "xaxis": {
         "anchor": "y",
         "domain": [
          0,
          1
         ],
         "title": {
          "text": "Cidade"
         }
        },
        "yaxis": {
         "anchor": "x",
         "domain": [
          0,
          1
         ],
         "title": {
          "text": "Contagem"
         }
        }
       }
      }
     },
     "metadata": {},
     "output_type": "display_data"
    }
   ],
   "source": [
    "# Função para tratar a coluna de cidades\n",
    "def tratar_cidades(df, coluna):\n",
    "    if coluna not in df.columns:\n",
    "        return df\n",
    "    \n",
    "    # Converter para string e remover espaços extras\n",
    "    df[coluna] = df[coluna].astype(str).str.strip()\n",
    "    \n",
    "    # Padronizar valores conhecidos (exemplo)\n",
    "    mapeamento = {\n",
    "        'franca': 'Franca',\n",
    "        'FRANCA': 'Franca',\n",
    "        'Franca - SP': 'Franca',\n",
    "        # Adicione outros mapeamentos conforme necessário\n",
    "    }\n",
    "    \n",
    "    # Aplicar mapeamento\n",
    "    for chave, valor in mapeamento.items():\n",
    "        df.loc[df[coluna] == chave, coluna] = valor\n",
    "    \n",
    "    return df\n",
    "\n",
    "# Aplicar tratamento\n",
    "df_tratado = tratar_cidades(df_original.copy(), 'Em qual cidade você reside?')\n",
    "\n",
    "# Verificar o resultado\n",
    "cidade_col = 'Em qual cidade você reside?'\n",
    "if cidade_col in df_tratado.columns:\n",
    "    cidades_count_tratado = df_tratado[cidade_col].value_counts()\n",
    "    print(f\"Total de cidades únicas após tratamento: {len(cidades_count_tratado)}\")\n",
    "    \n",
    "    # Exibir as top 15 cidades\n",
    "    print(\"\\nTop 15 cidades (após tratamento):\")\n",
    "    display(cidades_count_tratado.head(15))\n",
    "    \n",
    "    # Criar o gráfico correto\n",
    "    top_15 = cidades_count_tratado.head(15)\n",
    "    \n",
    "    fig = px.bar(\n",
    "        x=top_15.index,\n",
    "        y=top_15.values,\n",
    "        title=\"Top 15 Cidades de Residência (Corrigido)\",\n",
    "        labels={'x': 'Cidade', 'y': 'Contagem'}\n",
    "    )\n",
    "    \n",
    "    fig.show()"
   ]
  },
  {
   "cell_type": "markdown",
   "metadata": {},
   "source": [
    "## 9. Possíveis problemas e soluções para implementar no sistema"
   ]
  },
  {
   "cell_type": "markdown",
   "metadata": {},
   "source": [
    "Baseado nas análises acima, podemos identificar alguns possíveis problemas na leitura e processamento dos dados:\n",
    "\n",
    "1. **Problema de padronização**: Diferentes formas de escrever o mesmo nome de cidade (ex: 'Franca', 'FRANCA', 'franca', 'Franca - SP')\n",
    "2. **Problema de tipos de dados**: Possível mistura de tipos na coluna (string, int, float)\n",
    "3. **Problema de espaços extras**: Valores com espaços no início ou fim que afetam a contagem\n",
    "4. **Problema no processamento JSON**: Possível perda ou alteração de dados durante a conversão\n",
    "\n",
    "### Soluções recomendadas:\n",
    "\n",
    "1. Adicionar uma etapa de limpeza e padronização para a coluna de cidades\n",
    "2. Converter todos os valores para string antes de processar\n",
    "3. Remover espaços extras com `.strip()`\n",
    "4. Implementar um dicionário de mapeamento para padronizar valores conhecidos\n",
    "5. Adicionar logs detalhados durante o processamento para facilitar a depuração"
   ]
  },
  {
   "cell_type": "markdown",
   "metadata": {},
   "source": [
    "## 10. Proposta de correção para o sistema"
   ]
  },
  {
   "cell_type": "code",
   "execution_count": 22,
   "metadata": {},
   "outputs": [],
   "source": [
    "# Mapeamento de cidades para padronização\n",
    "# Adicione este código ao seu data_processing.py\n",
    "\n",
    "def padronizar_cidades(df):\n",
    "    \"\"\"\n",
    "    Padroniza nomes de cidades no DataFrame\n",
    "    \"\"\"\n",
    "    cidade_col = 'Em qual cidade você reside?'\n",
    "    if cidade_col not in df.columns:\n",
    "        return df\n",
    "    \n",
    "    # Converter para string e remover espaços extras\n",
    "    df[cidade_col] = df[cidade_col].astype(str).str.strip()\n",
    "    \n",
    "    # Criar mapeamento para padronização (minúsculo -> Formato Correto)\n",
    "    mapeamento = {\n",
    "        'franca': 'Franca',\n",
    "        'FRANCA': 'Franca',\n",
    "        'franca - sp': 'Franca',\n",
    "        'francasp': 'Franca',\n",
    "        'ribeirao preto': 'Ribeirão Preto',\n",
    "        'ribeirao': 'Ribeirão Preto',\n",
    "        'rp': 'Ribeirão Preto',\n",
    "        'rib preto': 'Ribeirão Preto',\n",
    "        'batatais': 'Batatais',\n",
    "        'BATATAIS': 'Batatais',\n",
    "        'sao joaquim da barra': 'São Joaquim da Barra',\n",
    "        'sao joaquim': 'São Joaquim da Barra',\n",
    "        # Adicione outros mapeamentos conforme necessário\n",
    "    }\n",
    "    \n",
    "    # Aplicar mapeamento para valores exatos\n",
    "    for chave, valor in mapeamento.items():\n",
    "        df.loc[df[cidade_col].str.lower() == chave.lower(), cidade_col] = valor\n",
    "    \n",
    "    # Também poderia implementar uma lógica mais sofisticada usando similaridade de strings\n",
    "    # para casos mais complexos\n",
    "    \n",
    "    return df"
   ]
  },
  {
   "cell_type": "markdown",
   "metadata": {},
   "source": [
    "## 11. Implementação completa de correção"
   ]
  },
  {
   "cell_type": "code",
   "execution_count": 23,
   "metadata": {},
   "outputs": [
    {
     "name": "stdout",
     "output_type": "stream",
     "text": [
      "Processamento concluído. Registros: 32\n",
      "Top 5 cidades após processamento: {'Franca': 30, 'Capetinga': 1, 'Patrocínio Paulista': 1}\n",
      "\n",
      "Total de cidades únicas após melhorias: 3\n",
      "\n",
      "Top 15 cidades (após melhorias):\n"
     ]
    },
    {
     "data": {
      "text/plain": [
       "Em qual cidade você reside?\n",
       "Franca                 30\n",
       "Capetinga               1\n",
       "Patrocínio Paulista     1\n",
       "Name: count, dtype: int64"
      ]
     },
     "metadata": {},
     "output_type": "display_data"
    },
    {
     "data": {
      "application/vnd.plotly.v1+json": {
       "config": {
        "plotlyServerURL": "https://plot.ly"
       },
       "data": [
        {
         "hovertemplate": "Cidade=%{x}<br>Contagem=%{y}<extra></extra>",
         "legendgroup": "",
         "marker": {
          "color": "#636efa",
          "pattern": {
           "shape": ""
          }
         },
         "name": "",
         "orientation": "v",
         "showlegend": false,
         "textposition": "auto",
         "type": "bar",
         "x": [
          "Franca",
          "Capetinga",
          "Patrocínio Paulista"
         ],
         "xaxis": "x",
         "y": {
          "bdata": "HgEB",
          "dtype": "i1"
         },
         "yaxis": "y"
        }
       ],
       "layout": {
        "barmode": "relative",
        "legend": {
         "tracegroupgap": 0
        },
        "template": {
         "data": {
          "bar": [
           {
            "error_x": {
             "color": "#2a3f5f"
            },
            "error_y": {
             "color": "#2a3f5f"
            },
            "marker": {
             "line": {
              "color": "#E5ECF6",
              "width": 0.5
             },
             "pattern": {
              "fillmode": "overlay",
              "size": 10,
              "solidity": 0.2
             }
            },
            "type": "bar"
           }
          ],
          "barpolar": [
           {
            "marker": {
             "line": {
              "color": "#E5ECF6",
              "width": 0.5
             },
             "pattern": {
              "fillmode": "overlay",
              "size": 10,
              "solidity": 0.2
             }
            },
            "type": "barpolar"
           }
          ],
          "carpet": [
           {
            "aaxis": {
             "endlinecolor": "#2a3f5f",
             "gridcolor": "white",
             "linecolor": "white",
             "minorgridcolor": "white",
             "startlinecolor": "#2a3f5f"
            },
            "baxis": {
             "endlinecolor": "#2a3f5f",
             "gridcolor": "white",
             "linecolor": "white",
             "minorgridcolor": "white",
             "startlinecolor": "#2a3f5f"
            },
            "type": "carpet"
           }
          ],
          "choropleth": [
           {
            "colorbar": {
             "outlinewidth": 0,
             "ticks": ""
            },
            "type": "choropleth"
           }
          ],
          "contour": [
           {
            "colorbar": {
             "outlinewidth": 0,
             "ticks": ""
            },
            "colorscale": [
             [
              0,
              "#0d0887"
             ],
             [
              0.1111111111111111,
              "#46039f"
             ],
             [
              0.2222222222222222,
              "#7201a8"
             ],
             [
              0.3333333333333333,
              "#9c179e"
             ],
             [
              0.4444444444444444,
              "#bd3786"
             ],
             [
              0.5555555555555556,
              "#d8576b"
             ],
             [
              0.6666666666666666,
              "#ed7953"
             ],
             [
              0.7777777777777778,
              "#fb9f3a"
             ],
             [
              0.8888888888888888,
              "#fdca26"
             ],
             [
              1,
              "#f0f921"
             ]
            ],
            "type": "contour"
           }
          ],
          "contourcarpet": [
           {
            "colorbar": {
             "outlinewidth": 0,
             "ticks": ""
            },
            "type": "contourcarpet"
           }
          ],
          "heatmap": [
           {
            "colorbar": {
             "outlinewidth": 0,
             "ticks": ""
            },
            "colorscale": [
             [
              0,
              "#0d0887"
             ],
             [
              0.1111111111111111,
              "#46039f"
             ],
             [
              0.2222222222222222,
              "#7201a8"
             ],
             [
              0.3333333333333333,
              "#9c179e"
             ],
             [
              0.4444444444444444,
              "#bd3786"
             ],
             [
              0.5555555555555556,
              "#d8576b"
             ],
             [
              0.6666666666666666,
              "#ed7953"
             ],
             [
              0.7777777777777778,
              "#fb9f3a"
             ],
             [
              0.8888888888888888,
              "#fdca26"
             ],
             [
              1,
              "#f0f921"
             ]
            ],
            "type": "heatmap"
           }
          ],
          "histogram": [
           {
            "marker": {
             "pattern": {
              "fillmode": "overlay",
              "size": 10,
              "solidity": 0.2
             }
            },
            "type": "histogram"
           }
          ],
          "histogram2d": [
           {
            "colorbar": {
             "outlinewidth": 0,
             "ticks": ""
            },
            "colorscale": [
             [
              0,
              "#0d0887"
             ],
             [
              0.1111111111111111,
              "#46039f"
             ],
             [
              0.2222222222222222,
              "#7201a8"
             ],
             [
              0.3333333333333333,
              "#9c179e"
             ],
             [
              0.4444444444444444,
              "#bd3786"
             ],
             [
              0.5555555555555556,
              "#d8576b"
             ],
             [
              0.6666666666666666,
              "#ed7953"
             ],
             [
              0.7777777777777778,
              "#fb9f3a"
             ],
             [
              0.8888888888888888,
              "#fdca26"
             ],
             [
              1,
              "#f0f921"
             ]
            ],
            "type": "histogram2d"
           }
          ],
          "histogram2dcontour": [
           {
            "colorbar": {
             "outlinewidth": 0,
             "ticks": ""
            },
            "colorscale": [
             [
              0,
              "#0d0887"
             ],
             [
              0.1111111111111111,
              "#46039f"
             ],
             [
              0.2222222222222222,
              "#7201a8"
             ],
             [
              0.3333333333333333,
              "#9c179e"
             ],
             [
              0.4444444444444444,
              "#bd3786"
             ],
             [
              0.5555555555555556,
              "#d8576b"
             ],
             [
              0.6666666666666666,
              "#ed7953"
             ],
             [
              0.7777777777777778,
              "#fb9f3a"
             ],
             [
              0.8888888888888888,
              "#fdca26"
             ],
             [
              1,
              "#f0f921"
             ]
            ],
            "type": "histogram2dcontour"
           }
          ],
          "mesh3d": [
           {
            "colorbar": {
             "outlinewidth": 0,
             "ticks": ""
            },
            "type": "mesh3d"
           }
          ],
          "parcoords": [
           {
            "line": {
             "colorbar": {
              "outlinewidth": 0,
              "ticks": ""
             }
            },
            "type": "parcoords"
           }
          ],
          "pie": [
           {
            "automargin": true,
            "type": "pie"
           }
          ],
          "scatter": [
           {
            "fillpattern": {
             "fillmode": "overlay",
             "size": 10,
             "solidity": 0.2
            },
            "type": "scatter"
           }
          ],
          "scatter3d": [
           {
            "line": {
             "colorbar": {
              "outlinewidth": 0,
              "ticks": ""
             }
            },
            "marker": {
             "colorbar": {
              "outlinewidth": 0,
              "ticks": ""
             }
            },
            "type": "scatter3d"
           }
          ],
          "scattercarpet": [
           {
            "marker": {
             "colorbar": {
              "outlinewidth": 0,
              "ticks": ""
             }
            },
            "type": "scattercarpet"
           }
          ],
          "scattergeo": [
           {
            "marker": {
             "colorbar": {
              "outlinewidth": 0,
              "ticks": ""
             }
            },
            "type": "scattergeo"
           }
          ],
          "scattergl": [
           {
            "marker": {
             "colorbar": {
              "outlinewidth": 0,
              "ticks": ""
             }
            },
            "type": "scattergl"
           }
          ],
          "scattermap": [
           {
            "marker": {
             "colorbar": {
              "outlinewidth": 0,
              "ticks": ""
             }
            },
            "type": "scattermap"
           }
          ],
          "scattermapbox": [
           {
            "marker": {
             "colorbar": {
              "outlinewidth": 0,
              "ticks": ""
             }
            },
            "type": "scattermapbox"
           }
          ],
          "scatterpolar": [
           {
            "marker": {
             "colorbar": {
              "outlinewidth": 0,
              "ticks": ""
             }
            },
            "type": "scatterpolar"
           }
          ],
          "scatterpolargl": [
           {
            "marker": {
             "colorbar": {
              "outlinewidth": 0,
              "ticks": ""
             }
            },
            "type": "scatterpolargl"
           }
          ],
          "scatterternary": [
           {
            "marker": {
             "colorbar": {
              "outlinewidth": 0,
              "ticks": ""
             }
            },
            "type": "scatterternary"
           }
          ],
          "surface": [
           {
            "colorbar": {
             "outlinewidth": 0,
             "ticks": ""
            },
            "colorscale": [
             [
              0,
              "#0d0887"
             ],
             [
              0.1111111111111111,
              "#46039f"
             ],
             [
              0.2222222222222222,
              "#7201a8"
             ],
             [
              0.3333333333333333,
              "#9c179e"
             ],
             [
              0.4444444444444444,
              "#bd3786"
             ],
             [
              0.5555555555555556,
              "#d8576b"
             ],
             [
              0.6666666666666666,
              "#ed7953"
             ],
             [
              0.7777777777777778,
              "#fb9f3a"
             ],
             [
              0.8888888888888888,
              "#fdca26"
             ],
             [
              1,
              "#f0f921"
             ]
            ],
            "type": "surface"
           }
          ],
          "table": [
           {
            "cells": {
             "fill": {
              "color": "#EBF0F8"
             },
             "line": {
              "color": "white"
             }
            },
            "header": {
             "fill": {
              "color": "#C8D4E3"
             },
             "line": {
              "color": "white"
             }
            },
            "type": "table"
           }
          ]
         },
         "layout": {
          "annotationdefaults": {
           "arrowcolor": "#2a3f5f",
           "arrowhead": 0,
           "arrowwidth": 1
          },
          "autotypenumbers": "strict",
          "coloraxis": {
           "colorbar": {
            "outlinewidth": 0,
            "ticks": ""
           }
          },
          "colorscale": {
           "diverging": [
            [
             0,
             "#8e0152"
            ],
            [
             0.1,
             "#c51b7d"
            ],
            [
             0.2,
             "#de77ae"
            ],
            [
             0.3,
             "#f1b6da"
            ],
            [
             0.4,
             "#fde0ef"
            ],
            [
             0.5,
             "#f7f7f7"
            ],
            [
             0.6,
             "#e6f5d0"
            ],
            [
             0.7,
             "#b8e186"
            ],
            [
             0.8,
             "#7fbc41"
            ],
            [
             0.9,
             "#4d9221"
            ],
            [
             1,
             "#276419"
            ]
           ],
           "sequential": [
            [
             0,
             "#0d0887"
            ],
            [
             0.1111111111111111,
             "#46039f"
            ],
            [
             0.2222222222222222,
             "#7201a8"
            ],
            [
             0.3333333333333333,
             "#9c179e"
            ],
            [
             0.4444444444444444,
             "#bd3786"
            ],
            [
             0.5555555555555556,
             "#d8576b"
            ],
            [
             0.6666666666666666,
             "#ed7953"
            ],
            [
             0.7777777777777778,
             "#fb9f3a"
            ],
            [
             0.8888888888888888,
             "#fdca26"
            ],
            [
             1,
             "#f0f921"
            ]
           ],
           "sequentialminus": [
            [
             0,
             "#0d0887"
            ],
            [
             0.1111111111111111,
             "#46039f"
            ],
            [
             0.2222222222222222,
             "#7201a8"
            ],
            [
             0.3333333333333333,
             "#9c179e"
            ],
            [
             0.4444444444444444,
             "#bd3786"
            ],
            [
             0.5555555555555556,
             "#d8576b"
            ],
            [
             0.6666666666666666,
             "#ed7953"
            ],
            [
             0.7777777777777778,
             "#fb9f3a"
            ],
            [
             0.8888888888888888,
             "#fdca26"
            ],
            [
             1,
             "#f0f921"
            ]
           ]
          },
          "colorway": [
           "#636efa",
           "#EF553B",
           "#00cc96",
           "#ab63fa",
           "#FFA15A",
           "#19d3f3",
           "#FF6692",
           "#B6E880",
           "#FF97FF",
           "#FECB52"
          ],
          "font": {
           "color": "#2a3f5f"
          },
          "geo": {
           "bgcolor": "white",
           "lakecolor": "white",
           "landcolor": "#E5ECF6",
           "showlakes": true,
           "showland": true,
           "subunitcolor": "white"
          },
          "hoverlabel": {
           "align": "left"
          },
          "hovermode": "closest",
          "mapbox": {
           "style": "light"
          },
          "paper_bgcolor": "white",
          "plot_bgcolor": "#E5ECF6",
          "polar": {
           "angularaxis": {
            "gridcolor": "white",
            "linecolor": "white",
            "ticks": ""
           },
           "bgcolor": "#E5ECF6",
           "radialaxis": {
            "gridcolor": "white",
            "linecolor": "white",
            "ticks": ""
           }
          },
          "scene": {
           "xaxis": {
            "backgroundcolor": "#E5ECF6",
            "gridcolor": "white",
            "gridwidth": 2,
            "linecolor": "white",
            "showbackground": true,
            "ticks": "",
            "zerolinecolor": "white"
           },
           "yaxis": {
            "backgroundcolor": "#E5ECF6",
            "gridcolor": "white",
            "gridwidth": 2,
            "linecolor": "white",
            "showbackground": true,
            "ticks": "",
            "zerolinecolor": "white"
           },
           "zaxis": {
            "backgroundcolor": "#E5ECF6",
            "gridcolor": "white",
            "gridwidth": 2,
            "linecolor": "white",
            "showbackground": true,
            "ticks": "",
            "zerolinecolor": "white"
           }
          },
          "shapedefaults": {
           "line": {
            "color": "#2a3f5f"
           }
          },
          "ternary": {
           "aaxis": {
            "gridcolor": "white",
            "linecolor": "white",
            "ticks": ""
           },
           "baxis": {
            "gridcolor": "white",
            "linecolor": "white",
            "ticks": ""
           },
           "bgcolor": "#E5ECF6",
           "caxis": {
            "gridcolor": "white",
            "linecolor": "white",
            "ticks": ""
           }
          },
          "title": {
           "x": 0.05
          },
          "xaxis": {
           "automargin": true,
           "gridcolor": "white",
           "linecolor": "white",
           "ticks": "",
           "title": {
            "standoff": 15
           },
           "zerolinecolor": "white",
           "zerolinewidth": 2
          },
          "yaxis": {
           "automargin": true,
           "gridcolor": "white",
           "linecolor": "white",
           "ticks": "",
           "title": {
            "standoff": 15
           },
           "zerolinecolor": "white",
           "zerolinewidth": 2
          }
         }
        },
        "title": {
         "text": "Top 15 Cidades de Residência (Implementação Final)"
        },
        "xaxis": {
         "anchor": "y",
         "domain": [
          0,
          1
         ],
         "title": {
          "text": "Cidade"
         }
        },
        "yaxis": {
         "anchor": "x",
         "domain": [
          0,
          1
         ],
         "title": {
          "text": "Contagem"
         }
        }
       }
      }
     },
     "metadata": {},
     "output_type": "display_data"
    }
   ],
   "source": [
    "# Função atualizada para processar o Excel com tratamento de dados\n",
    "def process_excel_file_improved(df_original):\n",
    "    \"\"\"\n",
    "    Versão melhorada da função process_excel_file com tratamento de dados\n",
    "    \"\"\"\n",
    "    try:\n",
    "        # Tratar valores conforme necessário\n",
    "        df = df_original.copy()\n",
    "        \n",
    "        # 1. Padronizar cidades\n",
    "        cidade_col = 'Em qual cidade você reside?'\n",
    "        if cidade_col in df.columns:\n",
    "            # Converter para string e tratar valores nulos\n",
    "            df[cidade_col] = df[cidade_col].fillna('Não informado')\n",
    "            df[cidade_col] = df[cidade_col].astype(str).str.strip()\n",
    "            \n",
    "            # Criar mapeamento de padronização\n",
    "            mapeamento = {\n",
    "                'franca': 'Franca',\n",
    "                'FRANCA': 'Franca',\n",
    "                'franca - sp': 'Franca',\n",
    "                # Adicione outros conforme necessário\n",
    "            }\n",
    "            \n",
    "            # Aplicar mapeamento baseado em correspondência exata\n",
    "            for chave, valor in mapeamento.items():\n",
    "                df.loc[df[cidade_col].str.lower() == chave.lower(), cidade_col] = valor\n",
    "        \n",
    "        # 2. Outros tratamentos conforme necessário para outras colunas\n",
    "        # ...\n",
    "        \n",
    "        # Converter para lista de dicionários\n",
    "        json_data = df.to_dict(orient='records')\n",
    "        \n",
    "        # Extrair colunas\n",
    "        columns = list(df.columns)\n",
    "        \n",
    "        # Criar o dicionário com ID como chave\n",
    "        resultado_json = {}\n",
    "        for item in json_data:\n",
    "            id_item = str(item.get('ID', ''))\n",
    "            if id_item:  # Só adiciona se tiver um ID válido\n",
    "                # Garantir que todos os campos estejam presentes e na ordem correta\n",
    "                dados = [item.get(coluna, '') for coluna in columns[1:]]\n",
    "                resultado_json[id_item] = dados\n",
    "        \n",
    "        # Verificação final\n",
    "        print(f\"Processamento concluído. Registros: {len(resultado_json)}\")\n",
    "        \n",
    "        # Verificar estado da coluna de cidades\n",
    "        df_check = reconstruir_dataframe(resultado_json, columns)\n",
    "        if cidade_col in df_check.columns:\n",
    "            top_cities = df_check[cidade_col].value_counts().head(5).to_dict()\n",
    "            print(f\"Top 5 cidades após processamento: {top_cities}\")\n",
    "        \n",
    "        return resultado_json, columns\n",
    "        \n",
    "    except Exception as e:\n",
    "        print(f\"Erro no processamento: {str(e)}\")\n",
    "        return None, None\n",
    "\n",
    "# Testar a função melhorada\n",
    "resultado_json_melhorado, columns_melhorado = process_excel_file_improved(df_original)\n",
    "\n",
    "if resultado_json_melhorado:\n",
    "    # Reconstruir o DataFrame\n",
    "    df_melhorado = reconstruir_dataframe(resultado_json_melhorado, columns_melhorado)\n",
    "    \n",
    "    # Verificar o resultado\n",
    "    cidade_col = 'Em qual cidade você reside?'\n",
    "    if cidade_col in df_melhorado.columns:\n",
    "        cidades_count_melhorado = df_melhorado[cidade_col].value_counts()\n",
    "        print(f\"\\nTotal de cidades únicas após melhorias: {len(cidades_count_melhorado)}\")\n",
    "        \n",
    "        # Exibir as top 15 cidades\n",
    "        print(\"\\nTop 15 cidades (após melhorias):\")\n",
    "        display(cidades_count_melhorado.head(15))\n",
    "        \n",
    "        # Criar o gráfico final correto\n",
    "        top_15 = cidades_count_melhorado.head(15)\n",
    "        \n",
    "        fig = px.bar(\n",
    "            x=top_15.index,\n",
    "            y=top_15.values,\n",
    "            title=\"Top 15 Cidades de Residência (Implementação Final)\",\n",
    "            labels={'x': 'Cidade', 'y': 'Contagem'}\n",
    "        )\n",
    "        \n",
    "        fig.show()"
   ]
  },
  {
   "cell_type": "markdown",
   "metadata": {},
   "source": [
    "## 12. Resumo do Problema e Solução"
   ]
  },
  {
   "cell_type": "markdown",
   "metadata": {},
   "source": [
    "2. Conversão de todos os valores para string e remoção de espaços extras.\n",
    "3. Implementação de um dicionário de mapeamento para padronizar valores conhecidos.\n",
    "4. Tratamento de valores nulos para evitar erros durante o processamento.\n",
    "5. Verificações adicionais para garantir que os dados permaneçam consistentes durante a transformação JSON.\n",
    "\n",
    "### Recomendações para o Sistema Principal:\n",
    "\n",
    "1. **Atualizar o módulo data_processing.py**:\n",
    "   - Adicionar a função `padronizar_cidades()` para normalizar os valores da coluna de cidades\n",
    "   - Implementar esta função no fluxo de processamento do arquivo Excel\n",
    "   \n",
    "2. **Atualizar a função process_excel_file**:\n",
    "   - Adicionar tratamento de dados para outras colunas problemáticas, se necessário\n",
    "   - Incluir mais logs para depuração\n",
    "   \n",
    "3. **Verificações adicionais**:\n",
    "   - Implementar verificações de consistência após o processamento dos dados\n",
    "   - Adicionar alertas para casos onde os dados possam estar incorretos\n",
    "\n",
    "Com essas alterações, o sistema deverá exibir corretamente o gráfico de cidades, mostrando Franca como a cidade com maior número de estudantes."
   ]
  },
  {
   "cell_type": "markdown",
   "metadata": {},
   "source": [
    "## 13. Verificação Avançada de Cidades"
   ]
  },
  {
   "cell_type": "code",
   "execution_count": 24,
   "metadata": {},
   "outputs": [],
   "source": [
    "# Função avançada para detectar cidades similares\n",
    "def detectar_cidades_similares(df, col_cidade, limiar=0.8):\n",
    "    \"\"\"Detecta cidades com nomes similares usando similaridade de strings\"\"\"\n",
    "    try:\n",
    "        from fuzzywuzzy import fuzz, process\n",
    "        possui_fuzzy = True\n",
    "    except ImportError:\n",
    "        print(\"Biblioteca fuzzywuzzy não encontrada. Instalando via pip...\")\n",
    "        !pip install fuzzywuzzy python-Levenshtein\n",
    "        from fuzzywuzzy import fuzz, process\n",
    "        possui_fuzzy = True\n",
    "    \n",
    "    if not possui_fuzzy:\n",
    "        print(\"Não foi possível realizar análise avançada sem a biblioteca de similaridade de strings\")\n",
    "        return {}\n",
    "    \n",
    "    # Obter valores únicos na coluna de cidades\n",
    "    cidades = df[col_cidade].dropna().unique()\n",
    "    cidades = [str(c).strip() for c in cidades]\n",
    "    \n",
    "    # Detectar similares\n",
    "    similares = {}\n",
    "    cidades_processadas = set()\n",
    "    \n",
    "    for cidade in cidades:\n",
    "        if cidade in cidades_processadas:\n",
    "            continue\n",
    "            \n",
    "        # Obter todas as cidades similares a esta\n",
    "        matches = process.extractBests(cidade, cidades, score_cutoff=limiar*100)\n",
    "        \n",
    "        # Se encontrou mais de uma similar (a própria cidade + outras)\n",
    "        if len(matches) > 1:\n",
    "            grupo_similar = [match[0] for match in matches]\n",
    "            # Contar ocorrências para decidir qual deve ser a forma \"correta\"\n",
    "            contagens = {}\n",
    "            for c in grupo_similar:\n",
    "                contagens[c] = df[df[col_cidade] == c].shape[0]\n",
    "            \n",
    "            # A forma \"correta\" é a mais frequente\n",
    "            forma_correta = max(contagens.items(), key=lambda x: x[1])[0]\n",
    "            \n",
    "            similares[forma_correta] = {\n",
    "                'variantes': grupo_similar,\n",
    "                'contagens': contagens,\n",
    "                'total': sum(contagens.values())\n",
    "            }\n",
    "            \n",
    "            # Marcar todas as variantes como processadas\n",
    "            cidades_processadas.update(grupo_similar)\n",
    "    \n",
    "    return similares\n",
    "\n",
    "# Testar a função (descomente se quiser executar - requer biblioteca adicional)\n",
    "# similares = detectar_cidades_similares(df_original, 'Em qual cidade você reside?')\n",
    "# print(f\"Encontrados {len(similares)} grupos de cidades com nomes similares\")\n",
    "# for forma_correta, info in list(similares.items())[:5]:  # Mostrar primeiros 5 grupos\n",
    "#    print(f\"\\nForma correta: {forma_correta} (Total: {info['total']})\")\n",
    "#    print(f\"Variantes: {info['variantes']}\")\n",
    "#    print(f\"Contagens: {info['contagens']}\")"
   ]
  },
  {
   "cell_type": "markdown",
   "metadata": {},
   "source": [
    "## 14. Exploração Visual dos Dados"
   ]
  },
  {
   "cell_type": "code",
   "execution_count": 25,
   "metadata": {},
   "outputs": [
    {
     "data": {
      "application/vnd.plotly.v1+json": {
       "config": {
        "plotlyServerURL": "https://plot.ly"
       },
       "data": [
        {
         "hovertemplate": "Cidade=%{x}<br>Número de Estudantes=%{y}<br>color=%{marker.color}<extra></extra>",
         "legendgroup": "",
         "marker": {
          "color": {
           "bdata": "HgEB",
           "dtype": "i1"
          },
          "coloraxis": "coloraxis",
          "pattern": {
           "shape": ""
          }
         },
         "name": "",
         "orientation": "v",
         "showlegend": false,
         "textposition": "outside",
         "texttemplate": "%{y}",
         "type": "bar",
         "x": [
          "Franca",
          "Capetinga",
          "Patrocínio Paulista"
         ],
         "xaxis": "x",
         "y": {
          "bdata": "HgEB",
          "dtype": "i1"
         },
         "yaxis": "y"
        }
       ],
       "layout": {
        "barmode": "relative",
        "coloraxis": {
         "colorbar": {
          "title": {
           "text": "color"
          }
         },
         "colorscale": [
          [
           0,
           "#440154"
          ],
          [
           0.1111111111111111,
           "#482878"
          ],
          [
           0.2222222222222222,
           "#3e4989"
          ],
          [
           0.3333333333333333,
           "#31688e"
          ],
          [
           0.4444444444444444,
           "#26828e"
          ],
          [
           0.5555555555555556,
           "#1f9e89"
          ],
          [
           0.6666666666666666,
           "#35b779"
          ],
          [
           0.7777777777777778,
           "#6ece58"
          ],
          [
           0.8888888888888888,
           "#b5de2b"
          ],
          [
           1,
           "#fde725"
          ]
         ]
        },
        "height": 500,
        "legend": {
         "tracegroupgap": 0
        },
        "template": {
         "data": {
          "bar": [
           {
            "error_x": {
             "color": "#2a3f5f"
            },
            "error_y": {
             "color": "#2a3f5f"
            },
            "marker": {
             "line": {
              "color": "#E5ECF6",
              "width": 0.5
             },
             "pattern": {
              "fillmode": "overlay",
              "size": 10,
              "solidity": 0.2
             }
            },
            "type": "bar"
           }
          ],
          "barpolar": [
           {
            "marker": {
             "line": {
              "color": "#E5ECF6",
              "width": 0.5
             },
             "pattern": {
              "fillmode": "overlay",
              "size": 10,
              "solidity": 0.2
             }
            },
            "type": "barpolar"
           }
          ],
          "carpet": [
           {
            "aaxis": {
             "endlinecolor": "#2a3f5f",
             "gridcolor": "white",
             "linecolor": "white",
             "minorgridcolor": "white",
             "startlinecolor": "#2a3f5f"
            },
            "baxis": {
             "endlinecolor": "#2a3f5f",
             "gridcolor": "white",
             "linecolor": "white",
             "minorgridcolor": "white",
             "startlinecolor": "#2a3f5f"
            },
            "type": "carpet"
           }
          ],
          "choropleth": [
           {
            "colorbar": {
             "outlinewidth": 0,
             "ticks": ""
            },
            "type": "choropleth"
           }
          ],
          "contour": [
           {
            "colorbar": {
             "outlinewidth": 0,
             "ticks": ""
            },
            "colorscale": [
             [
              0,
              "#0d0887"
             ],
             [
              0.1111111111111111,
              "#46039f"
             ],
             [
              0.2222222222222222,
              "#7201a8"
             ],
             [
              0.3333333333333333,
              "#9c179e"
             ],
             [
              0.4444444444444444,
              "#bd3786"
             ],
             [
              0.5555555555555556,
              "#d8576b"
             ],
             [
              0.6666666666666666,
              "#ed7953"
             ],
             [
              0.7777777777777778,
              "#fb9f3a"
             ],
             [
              0.8888888888888888,
              "#fdca26"
             ],
             [
              1,
              "#f0f921"
             ]
            ],
            "type": "contour"
           }
          ],
          "contourcarpet": [
           {
            "colorbar": {
             "outlinewidth": 0,
             "ticks": ""
            },
            "type": "contourcarpet"
           }
          ],
          "heatmap": [
           {
            "colorbar": {
             "outlinewidth": 0,
             "ticks": ""
            },
            "colorscale": [
             [
              0,
              "#0d0887"
             ],
             [
              0.1111111111111111,
              "#46039f"
             ],
             [
              0.2222222222222222,
              "#7201a8"
             ],
             [
              0.3333333333333333,
              "#9c179e"
             ],
             [
              0.4444444444444444,
              "#bd3786"
             ],
             [
              0.5555555555555556,
              "#d8576b"
             ],
             [
              0.6666666666666666,
              "#ed7953"
             ],
             [
              0.7777777777777778,
              "#fb9f3a"
             ],
             [
              0.8888888888888888,
              "#fdca26"
             ],
             [
              1,
              "#f0f921"
             ]
            ],
            "type": "heatmap"
           }
          ],
          "histogram": [
           {
            "marker": {
             "pattern": {
              "fillmode": "overlay",
              "size": 10,
              "solidity": 0.2
             }
            },
            "type": "histogram"
           }
          ],
          "histogram2d": [
           {
            "colorbar": {
             "outlinewidth": 0,
             "ticks": ""
            },
            "colorscale": [
             [
              0,
              "#0d0887"
             ],
             [
              0.1111111111111111,
              "#46039f"
             ],
             [
              0.2222222222222222,
              "#7201a8"
             ],
             [
              0.3333333333333333,
              "#9c179e"
             ],
             [
              0.4444444444444444,
              "#bd3786"
             ],
             [
              0.5555555555555556,
              "#d8576b"
             ],
             [
              0.6666666666666666,
              "#ed7953"
             ],
             [
              0.7777777777777778,
              "#fb9f3a"
             ],
             [
              0.8888888888888888,
              "#fdca26"
             ],
             [
              1,
              "#f0f921"
             ]
            ],
            "type": "histogram2d"
           }
          ],
          "histogram2dcontour": [
           {
            "colorbar": {
             "outlinewidth": 0,
             "ticks": ""
            },
            "colorscale": [
             [
              0,
              "#0d0887"
             ],
             [
              0.1111111111111111,
              "#46039f"
             ],
             [
              0.2222222222222222,
              "#7201a8"
             ],
             [
              0.3333333333333333,
              "#9c179e"
             ],
             [
              0.4444444444444444,
              "#bd3786"
             ],
             [
              0.5555555555555556,
              "#d8576b"
             ],
             [
              0.6666666666666666,
              "#ed7953"
             ],
             [
              0.7777777777777778,
              "#fb9f3a"
             ],
             [
              0.8888888888888888,
              "#fdca26"
             ],
             [
              1,
              "#f0f921"
             ]
            ],
            "type": "histogram2dcontour"
           }
          ],
          "mesh3d": [
           {
            "colorbar": {
             "outlinewidth": 0,
             "ticks": ""
            },
            "type": "mesh3d"
           }
          ],
          "parcoords": [
           {
            "line": {
             "colorbar": {
              "outlinewidth": 0,
              "ticks": ""
             }
            },
            "type": "parcoords"
           }
          ],
          "pie": [
           {
            "automargin": true,
            "type": "pie"
           }
          ],
          "scatter": [
           {
            "fillpattern": {
             "fillmode": "overlay",
             "size": 10,
             "solidity": 0.2
            },
            "type": "scatter"
           }
          ],
          "scatter3d": [
           {
            "line": {
             "colorbar": {
              "outlinewidth": 0,
              "ticks": ""
             }
            },
            "marker": {
             "colorbar": {
              "outlinewidth": 0,
              "ticks": ""
             }
            },
            "type": "scatter3d"
           }
          ],
          "scattercarpet": [
           {
            "marker": {
             "colorbar": {
              "outlinewidth": 0,
              "ticks": ""
             }
            },
            "type": "scattercarpet"
           }
          ],
          "scattergeo": [
           {
            "marker": {
             "colorbar": {
              "outlinewidth": 0,
              "ticks": ""
             }
            },
            "type": "scattergeo"
           }
          ],
          "scattergl": [
           {
            "marker": {
             "colorbar": {
              "outlinewidth": 0,
              "ticks": ""
             }
            },
            "type": "scattergl"
           }
          ],
          "scattermap": [
           {
            "marker": {
             "colorbar": {
              "outlinewidth": 0,
              "ticks": ""
             }
            },
            "type": "scattermap"
           }
          ],
          "scattermapbox": [
           {
            "marker": {
             "colorbar": {
              "outlinewidth": 0,
              "ticks": ""
             }
            },
            "type": "scattermapbox"
           }
          ],
          "scatterpolar": [
           {
            "marker": {
             "colorbar": {
              "outlinewidth": 0,
              "ticks": ""
             }
            },
            "type": "scatterpolar"
           }
          ],
          "scatterpolargl": [
           {
            "marker": {
             "colorbar": {
              "outlinewidth": 0,
              "ticks": ""
             }
            },
            "type": "scatterpolargl"
           }
          ],
          "scatterternary": [
           {
            "marker": {
             "colorbar": {
              "outlinewidth": 0,
              "ticks": ""
             }
            },
            "type": "scatterternary"
           }
          ],
          "surface": [
           {
            "colorbar": {
             "outlinewidth": 0,
             "ticks": ""
            },
            "colorscale": [
             [
              0,
              "#0d0887"
             ],
             [
              0.1111111111111111,
              "#46039f"
             ],
             [
              0.2222222222222222,
              "#7201a8"
             ],
             [
              0.3333333333333333,
              "#9c179e"
             ],
             [
              0.4444444444444444,
              "#bd3786"
             ],
             [
              0.5555555555555556,
              "#d8576b"
             ],
             [
              0.6666666666666666,
              "#ed7953"
             ],
             [
              0.7777777777777778,
              "#fb9f3a"
             ],
             [
              0.8888888888888888,
              "#fdca26"
             ],
             [
              1,
              "#f0f921"
             ]
            ],
            "type": "surface"
           }
          ],
          "table": [
           {
            "cells": {
             "fill": {
              "color": "#EBF0F8"
             },
             "line": {
              "color": "white"
             }
            },
            "header": {
             "fill": {
              "color": "#C8D4E3"
             },
             "line": {
              "color": "white"
             }
            },
            "type": "table"
           }
          ]
         },
         "layout": {
          "annotationdefaults": {
           "arrowcolor": "#2a3f5f",
           "arrowhead": 0,
           "arrowwidth": 1
          },
          "autotypenumbers": "strict",
          "coloraxis": {
           "colorbar": {
            "outlinewidth": 0,
            "ticks": ""
           }
          },
          "colorscale": {
           "diverging": [
            [
             0,
             "#8e0152"
            ],
            [
             0.1,
             "#c51b7d"
            ],
            [
             0.2,
             "#de77ae"
            ],
            [
             0.3,
             "#f1b6da"
            ],
            [
             0.4,
             "#fde0ef"
            ],
            [
             0.5,
             "#f7f7f7"
            ],
            [
             0.6,
             "#e6f5d0"
            ],
            [
             0.7,
             "#b8e186"
            ],
            [
             0.8,
             "#7fbc41"
            ],
            [
             0.9,
             "#4d9221"
            ],
            [
             1,
             "#276419"
            ]
           ],
           "sequential": [
            [
             0,
             "#0d0887"
            ],
            [
             0.1111111111111111,
             "#46039f"
            ],
            [
             0.2222222222222222,
             "#7201a8"
            ],
            [
             0.3333333333333333,
             "#9c179e"
            ],
            [
             0.4444444444444444,
             "#bd3786"
            ],
            [
             0.5555555555555556,
             "#d8576b"
            ],
            [
             0.6666666666666666,
             "#ed7953"
            ],
            [
             0.7777777777777778,
             "#fb9f3a"
            ],
            [
             0.8888888888888888,
             "#fdca26"
            ],
            [
             1,
             "#f0f921"
            ]
           ],
           "sequentialminus": [
            [
             0,
             "#0d0887"
            ],
            [
             0.1111111111111111,
             "#46039f"
            ],
            [
             0.2222222222222222,
             "#7201a8"
            ],
            [
             0.3333333333333333,
             "#9c179e"
            ],
            [
             0.4444444444444444,
             "#bd3786"
            ],
            [
             0.5555555555555556,
             "#d8576b"
            ],
            [
             0.6666666666666666,
             "#ed7953"
            ],
            [
             0.7777777777777778,
             "#fb9f3a"
            ],
            [
             0.8888888888888888,
             "#fdca26"
            ],
            [
             1,
             "#f0f921"
            ]
           ]
          },
          "colorway": [
           "#636efa",
           "#EF553B",
           "#00cc96",
           "#ab63fa",
           "#FFA15A",
           "#19d3f3",
           "#FF6692",
           "#B6E880",
           "#FF97FF",
           "#FECB52"
          ],
          "font": {
           "color": "#2a3f5f"
          },
          "geo": {
           "bgcolor": "white",
           "lakecolor": "white",
           "landcolor": "#E5ECF6",
           "showlakes": true,
           "showland": true,
           "subunitcolor": "white"
          },
          "hoverlabel": {
           "align": "left"
          },
          "hovermode": "closest",
          "mapbox": {
           "style": "light"
          },
          "paper_bgcolor": "white",
          "plot_bgcolor": "#E5ECF6",
          "polar": {
           "angularaxis": {
            "gridcolor": "white",
            "linecolor": "white",
            "ticks": ""
           },
           "bgcolor": "#E5ECF6",
           "radialaxis": {
            "gridcolor": "white",
            "linecolor": "white",
            "ticks": ""
           }
          },
          "scene": {
           "xaxis": {
            "backgroundcolor": "#E5ECF6",
            "gridcolor": "white",
            "gridwidth": 2,
            "linecolor": "white",
            "showbackground": true,
            "ticks": "",
            "zerolinecolor": "white"
           },
           "yaxis": {
            "backgroundcolor": "#E5ECF6",
            "gridcolor": "white",
            "gridwidth": 2,
            "linecolor": "white",
            "showbackground": true,
            "ticks": "",
            "zerolinecolor": "white"
           },
           "zaxis": {
            "backgroundcolor": "#E5ECF6",
            "gridcolor": "white",
            "gridwidth": 2,
            "linecolor": "white",
            "showbackground": true,
            "ticks": "",
            "zerolinecolor": "white"
           }
          },
          "shapedefaults": {
           "line": {
            "color": "#2a3f5f"
           }
          },
          "ternary": {
           "aaxis": {
            "gridcolor": "white",
            "linecolor": "white",
            "ticks": ""
           },
           "baxis": {
            "gridcolor": "white",
            "linecolor": "white",
            "ticks": ""
           },
           "bgcolor": "#E5ECF6",
           "caxis": {
            "gridcolor": "white",
            "linecolor": "white",
            "ticks": ""
           }
          },
          "title": {
           "x": 0.05
          },
          "xaxis": {
           "automargin": true,
           "gridcolor": "white",
           "linecolor": "white",
           "ticks": "",
           "title": {
            "standoff": 15
           },
           "zerolinecolor": "white",
           "zerolinewidth": 2
          },
          "yaxis": {
           "automargin": true,
           "gridcolor": "white",
           "linecolor": "white",
           "ticks": "",
           "title": {
            "standoff": 15
           },
           "zerolinecolor": "white",
           "zerolinewidth": 2
          }
         }
        },
        "title": {
         "text": "Top 15 Cidades de Residência"
        },
        "width": 800,
        "xaxis": {
         "anchor": "y",
         "domain": [
          0,
          1
         ],
         "tickangle": -45,
         "title": {
          "text": "Cidade"
         }
        },
        "yaxis": {
         "anchor": "x",
         "domain": [
          0,
          1
         ],
         "title": {
          "text": "Número de Estudantes"
         }
        }
       }
      }
     },
     "metadata": {},
     "output_type": "display_data"
    }
   ],
   "source": [
    "# Visualização interativa das top cidades após padronização\n",
    "def visualizar_distribuicao_cidades(df, col_cidade, top_n=15):\n",
    "    # Aplicar padronização\n",
    "    df_copy = df.copy()\n",
    "    \n",
    "    # Tratar coluna de cidades\n",
    "    df_copy[col_cidade] = df_copy[col_cidade].fillna('Não informado')\n",
    "    df_copy[col_cidade] = df_copy[col_cidade].astype(str).str.strip()\n",
    "    \n",
    "    # Padronizar nomes (insensível a maiúsculas/minúsculas)\n",
    "    mapeamento = {\n",
    "        'franca': 'Franca',\n",
    "        'FRANCA': 'Franca',\n",
    "        'franca/sp': 'Franca',\n",
    "        'ribeirao preto': 'Ribeirão Preto',\n",
    "        'ribeirao': 'Ribeirão Preto',\n",
    "        'rib preto': 'Ribeirão Preto',\n",
    "        'rib. preto': 'Ribeirão Preto',\n",
    "        'batatais': 'Batatais',\n",
    "        'sao joaquim da barra': 'São Joaquim da Barra',\n",
    "        'sao joaquim': 'São Joaquim da Barra',\n",
    "        'patrocinio paulista': 'Patrocínio Paulista',\n",
    "        'igarapava': 'Igarapava',\n",
    "        'orlândia': 'Orlândia',\n",
    "        'orlandia': 'Orlândia',\n",
    "        'pedregulho': 'Pedregulho',\n",
    "        'cristais paulista': 'Cristais Paulista',\n",
    "        'cristais': 'Cristais Paulista',\n",
    "    }\n",
    "    \n",
    "    # Aplicar mapeamento\n",
    "    for chave, valor in mapeamento.items():\n",
    "        mask = df_copy[col_cidade].str.lower() == chave.lower()\n",
    "        df_copy.loc[mask, col_cidade] = valor\n",
    "    \n",
    "    # Contar cidades\n",
    "    city_counts = df_copy[col_cidade].value_counts().head(top_n)\n",
    "    \n",
    "    # Criar gráfico interativo\n",
    "    fig = px.bar(\n",
    "        x=city_counts.index,\n",
    "        y=city_counts.values,\n",
    "        title=f\"Top {top_n} Cidades de Residência\",\n",
    "        labels={'x': 'Cidade', 'y': 'Número de Estudantes'},\n",
    "        color=city_counts.values,\n",
    "        color_continuous_scale='Viridis'\n",
    "    )\n",
    "    \n",
    "    # Adicionar rótulos\n",
    "    fig.update_traces(texttemplate='%{y}', textposition='outside')\n",
    "    \n",
    "    # Ajustar layout\n",
    "    fig.update_layout(\n",
    "        height=500,\n",
    "        width=800,\n",
    "        xaxis_tickangle=-45\n",
    "    )\n",
    "    \n",
    "    return fig\n",
    "\n",
    "# Criar visualização\n",
    "fig = visualizar_distribuicao_cidades(df_original, 'Em qual cidade você reside?')\n",
    "fig.show()"
   ]
  },
  {
   "cell_type": "markdown",
   "metadata": {},
   "source": [
    "## 15. Verificação de Outros Campos Problemáticos"
   ]
  },
  {
   "cell_type": "code",
   "execution_count": 26,
   "metadata": {},
   "outputs": [
    {
     "name": "stdout",
     "output_type": "stream",
     "text": [
      "\n",
      "--------------------------------------------------\n",
      "Campo: Qual o seu curso?\n",
      "Valores únicos: 1\n",
      "Top 10 valores:\n"
     ]
    },
    {
     "data": {
      "text/plain": [
       "Qual o seu curso?\n",
       "Análise e Desenvolvimento de Sistemas (ADS)    32\n",
       "Name: count, dtype: int64"
      ]
     },
     "metadata": {},
     "output_type": "display_data"
    },
    {
     "name": "stdout",
     "output_type": "stream",
     "text": [
      "\n",
      "--------------------------------------------------\n",
      "Campo: Qual o período que cursa?*\n",
      "Valores únicos: 2\n",
      "Top 10 valores:\n"
     ]
    },
    {
     "data": {
      "text/plain": [
       "Qual o período que cursa?*\n",
       "Noturno     23\n",
       "Matutino     9\n",
       "Name: count, dtype: int64"
      ]
     },
     "metadata": {},
     "output_type": "display_data"
    },
    {
     "name": "stdout",
     "output_type": "stream",
     "text": [
      "\n",
      "--------------------------------------------------\n",
      "Campo: Qual o estado você nasceu?*\n",
      "Valores únicos: 2\n",
      "Top 10 valores:\n"
     ]
    },
    {
     "data": {
      "text/plain": [
       "Qual o estado você nasceu?*\n",
       "São Paulo (SP)       30\n",
       "Minas Gerais (MG)     2\n",
       "Name: count, dtype: int64"
      ]
     },
     "metadata": {},
     "output_type": "display_data"
    },
    {
     "name": "stdout",
     "output_type": "stream",
     "text": [
      "\n",
      "--------------------------------------------------\n",
      "Campo: Qual o seu curso?\n",
      "Valores únicos: 1\n",
      "Top 10 valores:\n"
     ]
    },
    {
     "data": {
      "text/plain": [
       "Qual o seu curso?\n",
       "Análise e Desenvolvimento de Sistemas (ADS)    32\n",
       "Name: count, dtype: int64"
      ]
     },
     "metadata": {},
     "output_type": "display_data"
    }
   ],
   "source": [
    "# Verificar outros campos que podem ter problemas similares de padronização\n",
    "campos_para_verificar = [\n",
    "    'Qual o seu curso?',\n",
    "    'Qual o período que cursa?*',\n",
    "    'Qual o estado você nasceu?*',\n",
    "    'Qual o seu curso?'\n",
    "]\n",
    "\n",
    "for campo in campos_para_verificar:\n",
    "    if campo in df_original.columns:\n",
    "        valores_unicos = df_original[campo].value_counts()\n",
    "        print(f\"\\n{'-'*50}\\nCampo: {campo}\\nValores únicos: {len(valores_unicos)}\\nTop 10 valores:\")\n",
    "        display(valores_unicos.head(10))\n",
    "    else:\n",
    "        print(f\"Campo '{campo}' não encontrado no DataFrame\")"
   ]
  },
  {
   "cell_type": "markdown",
   "metadata": {},
   "source": [
    "## 16. Criação de uma Solução Unificada"
   ]
  },
  {
   "cell_type": "code",
   "execution_count": 27,
   "metadata": {},
   "outputs": [
    {
     "name": "stdout",
     "output_type": "stream",
     "text": [
      "Total de cidades únicas após padronização completa: 3\n",
      "\n",
      "Top 15 cidades (após padronização completa):\n"
     ]
    },
    {
     "data": {
      "text/plain": [
       "Em qual cidade você reside?\n",
       "Franca                 30\n",
       "Capetinga               1\n",
       "Patrocínio Paulista     1\n",
       "Name: count, dtype: int64"
      ]
     },
     "metadata": {},
     "output_type": "display_data"
    },
    {
     "data": {
      "application/vnd.plotly.v1+json": {
       "config": {
        "plotlyServerURL": "https://plot.ly"
       },
       "data": [
        {
         "hovertemplate": "Cidade=%{x}<br>Contagem=%{y}<br>color=%{marker.color}<extra></extra>",
         "legendgroup": "",
         "marker": {
          "color": {
           "bdata": "HgEB",
           "dtype": "i1"
          },
          "coloraxis": "coloraxis",
          "pattern": {
           "shape": ""
          }
         },
         "name": "",
         "orientation": "v",
         "showlegend": false,
         "textposition": "outside",
         "texttemplate": "%{y}",
         "type": "bar",
         "x": [
          "Franca",
          "Capetinga",
          "Patrocínio Paulista"
         ],
         "xaxis": "x",
         "y": {
          "bdata": "HgEB",
          "dtype": "i1"
         },
         "yaxis": "y"
        }
       ],
       "layout": {
        "barmode": "relative",
        "coloraxis": {
         "colorbar": {
          "title": {
           "text": "color"
          }
         },
         "colorscale": [
          [
           0,
           "#440154"
          ],
          [
           0.1111111111111111,
           "#482878"
          ],
          [
           0.2222222222222222,
           "#3e4989"
          ],
          [
           0.3333333333333333,
           "#31688e"
          ],
          [
           0.4444444444444444,
           "#26828e"
          ],
          [
           0.5555555555555556,
           "#1f9e89"
          ],
          [
           0.6666666666666666,
           "#35b779"
          ],
          [
           0.7777777777777778,
           "#6ece58"
          ],
          [
           0.8888888888888888,
           "#b5de2b"
          ],
          [
           1,
           "#fde725"
          ]
         ]
        },
        "legend": {
         "tracegroupgap": 0
        },
        "template": {
         "data": {
          "bar": [
           {
            "error_x": {
             "color": "#2a3f5f"
            },
            "error_y": {
             "color": "#2a3f5f"
            },
            "marker": {
             "line": {
              "color": "#E5ECF6",
              "width": 0.5
             },
             "pattern": {
              "fillmode": "overlay",
              "size": 10,
              "solidity": 0.2
             }
            },
            "type": "bar"
           }
          ],
          "barpolar": [
           {
            "marker": {
             "line": {
              "color": "#E5ECF6",
              "width": 0.5
             },
             "pattern": {
              "fillmode": "overlay",
              "size": 10,
              "solidity": 0.2
             }
            },
            "type": "barpolar"
           }
          ],
          "carpet": [
           {
            "aaxis": {
             "endlinecolor": "#2a3f5f",
             "gridcolor": "white",
             "linecolor": "white",
             "minorgridcolor": "white",
             "startlinecolor": "#2a3f5f"
            },
            "baxis": {
             "endlinecolor": "#2a3f5f",
             "gridcolor": "white",
             "linecolor": "white",
             "minorgridcolor": "white",
             "startlinecolor": "#2a3f5f"
            },
            "type": "carpet"
           }
          ],
          "choropleth": [
           {
            "colorbar": {
             "outlinewidth": 0,
             "ticks": ""
            },
            "type": "choropleth"
           }
          ],
          "contour": [
           {
            "colorbar": {
             "outlinewidth": 0,
             "ticks": ""
            },
            "colorscale": [
             [
              0,
              "#0d0887"
             ],
             [
              0.1111111111111111,
              "#46039f"
             ],
             [
              0.2222222222222222,
              "#7201a8"
             ],
             [
              0.3333333333333333,
              "#9c179e"
             ],
             [
              0.4444444444444444,
              "#bd3786"
             ],
             [
              0.5555555555555556,
              "#d8576b"
             ],
             [
              0.6666666666666666,
              "#ed7953"
             ],
             [
              0.7777777777777778,
              "#fb9f3a"
             ],
             [
              0.8888888888888888,
              "#fdca26"
             ],
             [
              1,
              "#f0f921"
             ]
            ],
            "type": "contour"
           }
          ],
          "contourcarpet": [
           {
            "colorbar": {
             "outlinewidth": 0,
             "ticks": ""
            },
            "type": "contourcarpet"
           }
          ],
          "heatmap": [
           {
            "colorbar": {
             "outlinewidth": 0,
             "ticks": ""
            },
            "colorscale": [
             [
              0,
              "#0d0887"
             ],
             [
              0.1111111111111111,
              "#46039f"
             ],
             [
              0.2222222222222222,
              "#7201a8"
             ],
             [
              0.3333333333333333,
              "#9c179e"
             ],
             [
              0.4444444444444444,
              "#bd3786"
             ],
             [
              0.5555555555555556,
              "#d8576b"
             ],
             [
              0.6666666666666666,
              "#ed7953"
             ],
             [
              0.7777777777777778,
              "#fb9f3a"
             ],
             [
              0.8888888888888888,
              "#fdca26"
             ],
             [
              1,
              "#f0f921"
             ]
            ],
            "type": "heatmap"
           }
          ],
          "histogram": [
           {
            "marker": {
             "pattern": {
              "fillmode": "overlay",
              "size": 10,
              "solidity": 0.2
             }
            },
            "type": "histogram"
           }
          ],
          "histogram2d": [
           {
            "colorbar": {
             "outlinewidth": 0,
             "ticks": ""
            },
            "colorscale": [
             [
              0,
              "#0d0887"
             ],
             [
              0.1111111111111111,
              "#46039f"
             ],
             [
              0.2222222222222222,
              "#7201a8"
             ],
             [
              0.3333333333333333,
              "#9c179e"
             ],
             [
              0.4444444444444444,
              "#bd3786"
             ],
             [
              0.5555555555555556,
              "#d8576b"
             ],
             [
              0.6666666666666666,
              "#ed7953"
             ],
             [
              0.7777777777777778,
              "#fb9f3a"
             ],
             [
              0.8888888888888888,
              "#fdca26"
             ],
             [
              1,
              "#f0f921"
             ]
            ],
            "type": "histogram2d"
           }
          ],
          "histogram2dcontour": [
           {
            "colorbar": {
             "outlinewidth": 0,
             "ticks": ""
            },
            "colorscale": [
             [
              0,
              "#0d0887"
             ],
             [
              0.1111111111111111,
              "#46039f"
             ],
             [
              0.2222222222222222,
              "#7201a8"
             ],
             [
              0.3333333333333333,
              "#9c179e"
             ],
             [
              0.4444444444444444,
              "#bd3786"
             ],
             [
              0.5555555555555556,
              "#d8576b"
             ],
             [
              0.6666666666666666,
              "#ed7953"
             ],
             [
              0.7777777777777778,
              "#fb9f3a"
             ],
             [
              0.8888888888888888,
              "#fdca26"
             ],
             [
              1,
              "#f0f921"
             ]
            ],
            "type": "histogram2dcontour"
           }
          ],
          "mesh3d": [
           {
            "colorbar": {
             "outlinewidth": 0,
             "ticks": ""
            },
            "type": "mesh3d"
           }
          ],
          "parcoords": [
           {
            "line": {
             "colorbar": {
              "outlinewidth": 0,
              "ticks": ""
             }
            },
            "type": "parcoords"
           }
          ],
          "pie": [
           {
            "automargin": true,
            "type": "pie"
           }
          ],
          "scatter": [
           {
            "fillpattern": {
             "fillmode": "overlay",
             "size": 10,
             "solidity": 0.2
            },
            "type": "scatter"
           }
          ],
          "scatter3d": [
           {
            "line": {
             "colorbar": {
              "outlinewidth": 0,
              "ticks": ""
             }
            },
            "marker": {
             "colorbar": {
              "outlinewidth": 0,
              "ticks": ""
             }
            },
            "type": "scatter3d"
           }
          ],
          "scattercarpet": [
           {
            "marker": {
             "colorbar": {
              "outlinewidth": 0,
              "ticks": ""
             }
            },
            "type": "scattercarpet"
           }
          ],
          "scattergeo": [
           {
            "marker": {
             "colorbar": {
              "outlinewidth": 0,
              "ticks": ""
             }
            },
            "type": "scattergeo"
           }
          ],
          "scattergl": [
           {
            "marker": {
             "colorbar": {
              "outlinewidth": 0,
              "ticks": ""
             }
            },
            "type": "scattergl"
           }
          ],
          "scattermap": [
           {
            "marker": {
             "colorbar": {
              "outlinewidth": 0,
              "ticks": ""
             }
            },
            "type": "scattermap"
           }
          ],
          "scattermapbox": [
           {
            "marker": {
             "colorbar": {
              "outlinewidth": 0,
              "ticks": ""
             }
            },
            "type": "scattermapbox"
           }
          ],
          "scatterpolar": [
           {
            "marker": {
             "colorbar": {
              "outlinewidth": 0,
              "ticks": ""
             }
            },
            "type": "scatterpolar"
           }
          ],
          "scatterpolargl": [
           {
            "marker": {
             "colorbar": {
              "outlinewidth": 0,
              "ticks": ""
             }
            },
            "type": "scatterpolargl"
           }
          ],
          "scatterternary": [
           {
            "marker": {
             "colorbar": {
              "outlinewidth": 0,
              "ticks": ""
             }
            },
            "type": "scatterternary"
           }
          ],
          "surface": [
           {
            "colorbar": {
             "outlinewidth": 0,
             "ticks": ""
            },
            "colorscale": [
             [
              0,
              "#0d0887"
             ],
             [
              0.1111111111111111,
              "#46039f"
             ],
             [
              0.2222222222222222,
              "#7201a8"
             ],
             [
              0.3333333333333333,
              "#9c179e"
             ],
             [
              0.4444444444444444,
              "#bd3786"
             ],
             [
              0.5555555555555556,
              "#d8576b"
             ],
             [
              0.6666666666666666,
              "#ed7953"
             ],
             [
              0.7777777777777778,
              "#fb9f3a"
             ],
             [
              0.8888888888888888,
              "#fdca26"
             ],
             [
              1,
              "#f0f921"
             ]
            ],
            "type": "surface"
           }
          ],
          "table": [
           {
            "cells": {
             "fill": {
              "color": "#EBF0F8"
             },
             "line": {
              "color": "white"
             }
            },
            "header": {
             "fill": {
              "color": "#C8D4E3"
             },
             "line": {
              "color": "white"
             }
            },
            "type": "table"
           }
          ]
         },
         "layout": {
          "annotationdefaults": {
           "arrowcolor": "#2a3f5f",
           "arrowhead": 0,
           "arrowwidth": 1
          },
          "autotypenumbers": "strict",
          "coloraxis": {
           "colorbar": {
            "outlinewidth": 0,
            "ticks": ""
           }
          },
          "colorscale": {
           "diverging": [
            [
             0,
             "#8e0152"
            ],
            [
             0.1,
             "#c51b7d"
            ],
            [
             0.2,
             "#de77ae"
            ],
            [
             0.3,
             "#f1b6da"
            ],
            [
             0.4,
             "#fde0ef"
            ],
            [
             0.5,
             "#f7f7f7"
            ],
            [
             0.6,
             "#e6f5d0"
            ],
            [
             0.7,
             "#b8e186"
            ],
            [
             0.8,
             "#7fbc41"
            ],
            [
             0.9,
             "#4d9221"
            ],
            [
             1,
             "#276419"
            ]
           ],
           "sequential": [
            [
             0,
             "#0d0887"
            ],
            [
             0.1111111111111111,
             "#46039f"
            ],
            [
             0.2222222222222222,
             "#7201a8"
            ],
            [
             0.3333333333333333,
             "#9c179e"
            ],
            [
             0.4444444444444444,
             "#bd3786"
            ],
            [
             0.5555555555555556,
             "#d8576b"
            ],
            [
             0.6666666666666666,
             "#ed7953"
            ],
            [
             0.7777777777777778,
             "#fb9f3a"
            ],
            [
             0.8888888888888888,
             "#fdca26"
            ],
            [
             1,
             "#f0f921"
            ]
           ],
           "sequentialminus": [
            [
             0,
             "#0d0887"
            ],
            [
             0.1111111111111111,
             "#46039f"
            ],
            [
             0.2222222222222222,
             "#7201a8"
            ],
            [
             0.3333333333333333,
             "#9c179e"
            ],
            [
             0.4444444444444444,
             "#bd3786"
            ],
            [
             0.5555555555555556,
             "#d8576b"
            ],
            [
             0.6666666666666666,
             "#ed7953"
            ],
            [
             0.7777777777777778,
             "#fb9f3a"
            ],
            [
             0.8888888888888888,
             "#fdca26"
            ],
            [
             1,
             "#f0f921"
            ]
           ]
          },
          "colorway": [
           "#636efa",
           "#EF553B",
           "#00cc96",
           "#ab63fa",
           "#FFA15A",
           "#19d3f3",
           "#FF6692",
           "#B6E880",
           "#FF97FF",
           "#FECB52"
          ],
          "font": {
           "color": "#2a3f5f"
          },
          "geo": {
           "bgcolor": "white",
           "lakecolor": "white",
           "landcolor": "#E5ECF6",
           "showlakes": true,
           "showland": true,
           "subunitcolor": "white"
          },
          "hoverlabel": {
           "align": "left"
          },
          "hovermode": "closest",
          "mapbox": {
           "style": "light"
          },
          "paper_bgcolor": "white",
          "plot_bgcolor": "#E5ECF6",
          "polar": {
           "angularaxis": {
            "gridcolor": "white",
            "linecolor": "white",
            "ticks": ""
           },
           "bgcolor": "#E5ECF6",
           "radialaxis": {
            "gridcolor": "white",
            "linecolor": "white",
            "ticks": ""
           }
          },
          "scene": {
           "xaxis": {
            "backgroundcolor": "#E5ECF6",
            "gridcolor": "white",
            "gridwidth": 2,
            "linecolor": "white",
            "showbackground": true,
            "ticks": "",
            "zerolinecolor": "white"
           },
           "yaxis": {
            "backgroundcolor": "#E5ECF6",
            "gridcolor": "white",
            "gridwidth": 2,
            "linecolor": "white",
            "showbackground": true,
            "ticks": "",
            "zerolinecolor": "white"
           },
           "zaxis": {
            "backgroundcolor": "#E5ECF6",
            "gridcolor": "white",
            "gridwidth": 2,
            "linecolor": "white",
            "showbackground": true,
            "ticks": "",
            "zerolinecolor": "white"
           }
          },
          "shapedefaults": {
           "line": {
            "color": "#2a3f5f"
           }
          },
          "ternary": {
           "aaxis": {
            "gridcolor": "white",
            "linecolor": "white",
            "ticks": ""
           },
           "baxis": {
            "gridcolor": "white",
            "linecolor": "white",
            "ticks": ""
           },
           "bgcolor": "#E5ECF6",
           "caxis": {
            "gridcolor": "white",
            "linecolor": "white",
            "ticks": ""
           }
          },
          "title": {
           "x": 0.05
          },
          "xaxis": {
           "automargin": true,
           "gridcolor": "white",
           "linecolor": "white",
           "ticks": "",
           "title": {
            "standoff": 15
           },
           "zerolinecolor": "white",
           "zerolinewidth": 2
          },
          "yaxis": {
           "automargin": true,
           "gridcolor": "white",
           "linecolor": "white",
           "ticks": "",
           "title": {
            "standoff": 15
           },
           "zerolinecolor": "white",
           "zerolinewidth": 2
          }
         }
        },
        "title": {
         "text": "Top 15 Cidades de Residência (Solução Final)"
        },
        "xaxis": {
         "anchor": "y",
         "domain": [
          0,
          1
         ],
         "title": {
          "text": "Cidade"
         }
        },
        "yaxis": {
         "anchor": "x",
         "domain": [
          0,
          1
         ],
         "title": {
          "text": "Contagem"
         }
        }
       }
      }
     },
     "metadata": {},
     "output_type": "display_data"
    }
   ],
   "source": [
    "# Função completa para padronizar todos os campos problemáticos\n",
    "def padronizar_dados(df):\n",
    "    \"\"\"Padroniza todos os campos que podem ter problemas de consistência\"\"\"\n",
    "    df_padronizado = df.copy()\n",
    "    \n",
    "    # 1. Padronizar cidades\n",
    "    cidade_col = 'Em qual cidade você reside?'\n",
    "    if cidade_col in df_padronizado.columns:\n",
    "        df_padronizado[cidade_col] = df_padronizado[cidade_col].fillna('Não informado')\n",
    "        df_padronizado[cidade_col] = df_padronizado[cidade_col].astype(str).str.strip()\n",
    "        \n",
    "        mapeamento_cidades = {\n",
    "            'franca': 'Franca',\n",
    "            'FRANCA': 'Franca',\n",
    "            'franca - sp': 'Franca',\n",
    "            'franca/sp': 'Franca',\n",
    "            'ribeirao preto': 'Ribeirão Preto',\n",
    "            'ribeirao': 'Ribeirão Preto',\n",
    "            'rib. preto': 'Ribeirão Preto',\n",
    "            'rp': 'Ribeirão Preto',\n",
    "            'rib preto': 'Ribeirão Preto',\n",
    "            'batatais': 'Batatais',\n",
    "            'BATATAIS': 'Batatais',\n",
    "            'sao joaquim da barra': 'São Joaquim da Barra',\n",
    "            'sao joaquim': 'São Joaquim da Barra',\n",
    "            'patrocinio paulista': 'Patrocínio Paulista',\n",
    "            'patrocinio': 'Patrocínio Paulista',\n",
    "            'igarapava': 'Igarapava',\n",
    "            'orlândia': 'Orlândia',\n",
    "            'orlandia': 'Orlândia',\n",
    "            'pedregulho': 'Pedregulho',\n",
    "            'cristais paulista': 'Cristais Paulista',\n",
    "            'cristais': 'Cristais Paulista',\n",
    "            'ituverava': 'Ituverava',\n",
    "        }\n",
    "        \n",
    "        for chave, valor in mapeamento_cidades.items():\n",
    "            mask = df_padronizado[cidade_col].str.lower() == chave.lower()\n",
    "            df_padronizado.loc[mask, cidade_col] = valor\n",
    "    \n",
    "    # 2. Padronizar curso\n",
    "    curso_col = 'Qual o seu curso?'\n",
    "    if curso_col in df_padronizado.columns:\n",
    "        df_padronizado[curso_col] = df_padronizado[curso_col].fillna('Não informado')\n",
    "        df_padronizado[curso_col] = df_padronizado[curso_col].astype(str).str.strip()\n",
    "        \n",
    "        mapeamento_cursos = {\n",
    "            'ads': 'Análise e Desenvolvimento de Sistemas (ADS)',\n",
    "            'análise e desenvolvimento': 'Análise e Desenvolvimento de Sistemas (ADS)',\n",
    "            'analise e desenvolvimento': 'Análise e Desenvolvimento de Sistemas (ADS)',\n",
    "            'analise e desenv. de sistemas': 'Análise e Desenvolvimento de Sistemas (ADS)',\n",
    "            'gpi': 'Gestão de Produção Industrial (GPI)',\n",
    "            'gestao de produção': 'Gestão de Produção Industrial (GPI)',\n",
    "            'gestão de producao': 'Gestão de Produção Industrial (GPI)',\n",
    "            'dsm': 'Desenvolvimento de Software Multiplataforma (DSM)',\n",
    "            'desenvolvimento de software': 'Desenvolvimento de Software Multiplataforma (DSM)',\n",
    "            'rh': 'Gestão de Recursos Humanos',\n",
    "            'gestao de rh': 'Gestão de Recursos Humanos',\n",
    "            'gestão de rh': 'Gestão de Recursos Humanos',\n",
    "            'gestao empresarial': 'Gestão Empresarial (EAD)',\n",
    "            'gestão empresarial': 'Gestão Empresarial (EAD)',\n",
    "        }\n",
    "        \n",
    "        for chave, valor in mapeamento_cursos.items():\n",
    "            mask = df_padronizado[curso_col].str.lower() == chave.lower()\n",
    "            df_padronizado.loc[mask, curso_col] = valor\n",
    "    \n",
    "    # 3. Padronizar período\n",
    "    periodo_col = 'Qual o período que cursa?*' if 'Qual o período que cursa?*' in df_padronizado.columns else 'Qual o período que cursa?'\n",
    "    if periodo_col in df_padronizado.columns:\n",
    "        df_padronizado[periodo_col] = df_padronizado[periodo_col].fillna('Não informado')\n",
    "        df_padronizado[periodo_col] = df_padronizado[periodo_col].astype(str).str.strip()\n",
    "        \n",
    "        mapeamento_periodos = {\n",
    "            'manha': 'Matutino',\n",
    "            'manhã': 'Matutino',\n",
    "            'matutino': 'Matutino',\n",
    "            'noite': 'Noturno',\n",
    "            'noturno': 'Noturno',\n",
    "            'a distancia': 'EAD',\n",
    "            'a distância': 'EAD',\n",
    "            'ead': 'EAD',\n",
    "            'ensino a distancia': 'EAD',\n",
    "        }\n",
    "        \n",
    "        for chave, valor in mapeamento_periodos.items():\n",
    "            mask = df_padronizado[periodo_col].str.lower() == chave.lower()\n",
    "            df_padronizado.loc[mask, periodo_col] = valor\n",
    "    \n",
    "    # 4. Padronizar estado\n",
    "    estado_col = 'Qual o estado você nasceu?*' if 'Qual o estado você nasceu?*' in df_padronizado.columns else 'Qual o estado você nasceu?'\n",
    "    if estado_col in df_padronizado.columns:\n",
    "        df_padronizado[estado_col] = df_padronizado[estado_col].fillna('Não informado')\n",
    "        df_padronizado[estado_col] = df_padronizado[estado_col].astype(str).str.strip()\n",
    "        \n",
    "        # Padronizar estados (principalmente formato com ou sem a sigla)\n",
    "        estados_map = {\n",
    "            'são paulo': 'São Paulo (SP)',\n",
    "            'sao paulo': 'São Paulo (SP)',\n",
    "            'sp': 'São Paulo (SP)',\n",
    "            'minas gerais': 'Minas Gerais (MG)',\n",
    "            'mg': 'Minas Gerais (MG)',\n",
    "            'rj': 'Rio de Janeiro (RJ)',\n",
    "            'rio de janeiro': 'Rio de Janeiro (RJ)',\n",
    "            # Adicione outros estados conforme necessário\n",
    "        }\n",
    "        \n",
    "        for chave, valor in estados_map.items():\n",
    "            mask = df_padronizado[estado_col].str.lower() == chave.lower()\n",
    "            df_padronizado.loc[mask, estado_col] = valor\n",
    "    \n",
    "    return df_padronizado\n",
    "\n",
    "# Aplicar padronização completa\n",
    "df_final = padronizar_dados(df_original)\n",
    "\n",
    "# Verificar resultado final para cidades\n",
    "cidade_col = 'Em qual cidade você reside?'\n",
    "if cidade_col in df_final.columns:\n",
    "    cidades_count_final = df_final[cidade_col].value_counts()\n",
    "    print(f\"Total de cidades únicas após padronização completa: {len(cidades_count_final)}\")\n",
    "    \n",
    "    # Exibir as top 15 cidades\n",
    "    print(\"\\nTop 15 cidades (após padronização completa):\")\n",
    "    display(cidades_count_final.head(15))\n",
    "    \n",
    "    # Criar o gráfico final\n",
    "    top_15 = cidades_count_final.head(15)\n",
    "    \n",
    "    fig = px.bar(\n",
    "        x=top_15.index,\n",
    "        y=top_15.values,\n",
    "        title=\"Top 15 Cidades de Residência (Solução Final)\",\n",
    "        labels={'x': 'Cidade', 'y': 'Contagem'},\n",
    "        color=top_15.values,\n",
    "        color_continuous_scale='Viridis'\n",
    "    )\n",
    "    \n",
    "    # Adicionar rótulos de dados\n",
    "    fig.update_traces(texttemplate='%{y}', textposition='outside')\n",
    "    \n",
    "    fig.show()"
   ]
  },
  {
   "cell_type": "markdown",
   "metadata": {},
   "source": [
    "## 17. Conclusão e Recomendações Finais"
   ]
  },
  {
   "cell_type": "markdown",
   "metadata": {},
   "source": [
    "### Conclusões\n",
    "\n",
    "Neste notebook, realizamos uma análise detalhada do problema com o gráfico de cidades e identificamos as seguintes questões:\n",
    "\n",
    "1. A inconsistência nos nomes de cidades era o principal problema, com a mesma cidade sendo registrada em formatos diferentes.\n",
    "2. O processo de conversão entre formato Excel e JSON estava preservando essas inconsistências.\n",
    "3. Não havia um processo de padronização para garantir nomes consistentes.\n",
    "\n",
    "### Recomendações Finais\n",
    "\n",
    "Para implementar a solução no sistema principal:\n",
    "\n",
    "1. **Atualize o módulo data_processing.py** com a função `padronizar_dados()` completa, que trata todos os campos problemáticos.\n",
    "\n",
    "2. **Integre essa função no fluxo de processamento** do arquivo Excel, logo após a leitura dos dados e antes da conversão para JSON.\n",
    "\n",
    "3. **Implemente verificações de consistência** para confirmar que a padronização está funcionando corretamente.\n",
    "\n",
    "4. **Adicione logs detalhados** para facilitar a depuração em caso de problemas futuros.\n",
    "\n",
    "5. **Considere adicionar uma interface de administração** que permita ao usuário ver e corrigir manualmente inconsistências de dados.\n",
    "\n",
    "A implementação dessas recomendações garantirá que o gráfico de cidades e outras visualizações baseadas em categorias textuais funcionem corretamente, mostrando Franca como a cidade mais comum, conforme esperado."
   ]
  }
 ],
 "metadata": {
  "kernelspec": {
   "display_name": "Python 3",
   "language": "python",
   "name": "python3"
  },
  "language_info": {
   "codemirror_mode": {
    "name": "ipython",
    "version": 3
   },
   "file_extension": ".py",
   "mimetype": "text/x-python",
   "name": "python",
   "nbconvert_exporter": "python",
   "pygments_lexer": "ipython3",
   "version": "3.9.13"
  }
 },
 "nbformat": 4,
 "nbformat_minor": 4
}
